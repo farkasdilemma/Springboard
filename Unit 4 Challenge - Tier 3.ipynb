{
 "cells": [
  {
   "cell_type": "markdown",
   "metadata": {
    "colab_type": "text",
    "id": "Tia3MP1SJpgj"
   },
   "source": [
    "# Springboard Data Science Career Track Unit 4 Challenge - Tier 3 Complete\n",
    "\n",
    "## Objectives\n",
    "Hey! Great job getting through those challenging DataCamp courses. You're learning a lot in a short span of time. \n",
    "\n",
    "In this notebook, you're going to apply the skills you've been learning, bridging the gap between the controlled environment of DataCamp and the *slightly* messier work that data scientists do with actual datasets!\n",
    "\n",
    "Here’s the mystery we’re going to solve: ***which boroughs of London have seen the greatest increase in housing prices, on average, over the last two decades?***\n",
    "\n",
    "\n",
    "A borough is just a fancy word for district. You may be familiar with the five boroughs of New York… well, there are 32 boroughs within Greater London [(here's some info for the curious)](https://en.wikipedia.org/wiki/London_boroughs). Some of them are more desirable areas to live in, and the data will reflect that with a greater rise in housing prices.\n",
    "\n",
    "***This is the Tier 3 notebook, which means it's not filled in at all: we'll just give you the skeleton of a project, the brief and the data. It's up to you to play around with it and see what you can find out! Good luck! If you struggle, feel free to look at easier tiers for help; but try to dip in and out of them, as the more independent work you do, the better it is for your learning!***\n",
    "\n",
    "This challenge will make use of only what you learned in the following DataCamp courses: \n",
    "- Prework courses (Introduction to Python for Data Science, Intermediate Python for Data Science)\n",
    "- Data Types for Data Science\n",
    "- Python Data Science Toolbox (Part One) \n",
    "- pandas Foundations\n",
    "- Manipulating DataFrames with pandas\n",
    "- Merging DataFrames with pandas\n",
    "\n",
    "Of the tools, techniques and concepts in the above DataCamp courses, this challenge should require the application of the following: \n",
    "- **pandas**\n",
    "    - **data ingestion and inspection** (pandas Foundations, Module One) \n",
    "    - **exploratory data analysis** (pandas Foundations, Module Two)\n",
    "    - **tidying and cleaning** (Manipulating DataFrames with pandas, Module Three) \n",
    "    - **transforming DataFrames** (Manipulating DataFrames with pandas, Module One)\n",
    "    - **subsetting DataFrames with lists** (Manipulating DataFrames with pandas, Module One) \n",
    "    - **filtering DataFrames** (Manipulating DataFrames with pandas, Module One) \n",
    "    - **grouping data** (Manipulating DataFrames with pandas, Module Four) \n",
    "    - **melting data** (Manipulating DataFrames with pandas, Module Three) \n",
    "    - **advanced indexing** (Manipulating DataFrames with pandas, Module Four) \n",
    "- **matplotlib** (Intermediate Python for Data Science, Module One)\n",
    "- **fundamental data types** (Data Types for Data Science, Module One) \n",
    "- **dictionaries** (Intermediate Python for Data Science, Module Two)\n",
    "- **handling dates and times** (Data Types for Data Science, Module Four)\n",
    "- **function definition** (Python Data Science Toolbox - Part One, Module One)\n",
    "- **default arguments, variable length, and scope** (Python Data Science Toolbox - Part One, Module Two) \n",
    "- **lambda functions and error handling** (Python Data Science Toolbox - Part One, Module Four) "
   ]
  },
  {
   "cell_type": "markdown",
   "metadata": {
    "colab_type": "text",
    "id": "Ipgd2nV8Jpgl"
   },
   "source": [
    "## The Data Science Pipeline\n",
    "\n",
    "This is Tier Three, so we'll get you started. But after that, it's all in your hands! When you feel done with your investigations, look back over what you've accomplished, and prepare a quick presentation of your findings for the next mentor meeting. \n",
    "\n",
    "Data Science is magical. In this case study, you'll get to apply some complex machine learning algorithms. But as  [David Spiegelhalter](https://www.youtube.com/watch?v=oUs1uvsz0Ok) reminds us, there is no substitute for simply **taking a really, really good look at the data.** Sometimes, this is all we need to answer our question.\n",
    "\n",
    "Data Science projects generally adhere to the four stages of Data Science Pipeline:\n",
    "1. Sourcing and loading \n",
    "2. Cleaning, transforming, and visualizing \n",
    "3. Modeling \n",
    "4. Evaluating and concluding \n"
   ]
  },
  {
   "cell_type": "markdown",
   "metadata": {
    "colab_type": "text",
    "id": "zswDqbefJpgm"
   },
   "source": [
    "### 1. Sourcing and Loading \n",
    "\n",
    "Any Data Science project kicks off by importing  ***pandas***. The documentation of this wonderful library can be found [here](https://pandas.pydata.org/). As you've seen, pandas is conveniently connected to the [Numpy](http://www.numpy.org/) and [Matplotlib](https://matplotlib.org/) libraries. \n",
    "\n",
    "***Hint:*** This part of the data science pipeline will test those skills you acquired in the pandas Foundations course, Module One. "
   ]
  },
  {
   "cell_type": "markdown",
   "metadata": {
    "colab_type": "text",
    "id": "aEau5nEvJpgm"
   },
   "source": [
    "#### 1.1. Importing Libraries"
   ]
  },
  {
   "cell_type": "code",
   "execution_count": 1,
   "metadata": {
    "colab": {},
    "colab_type": "code",
    "id": "7Bt_Q_oPJpgn"
   },
   "outputs": [],
   "source": [
    "# Let's import the pandas, numpy libraries as pd, and np respectively. \n",
    "import pandas as pd\n",
    "import numpy as np\n",
    "# Load the pyplot collection of functions from matplotlib, as plt \n",
    "from matplotlib import pyplot as plt"
   ]
  },
  {
   "cell_type": "markdown",
   "metadata": {
    "colab_type": "text",
    "id": "koUrawxsJpgq"
   },
   "source": [
    "#### 1.2.  Loading the data\n",
    "Your data comes from the [London Datastore](https://data.london.gov.uk/): a free, open-source data-sharing portal for London-oriented datasets. "
   ]
  },
  {
   "cell_type": "code",
   "execution_count": 2,
   "metadata": {
    "colab": {},
    "colab_type": "code",
    "id": "AiLiD4v3Jpgr"
   },
   "outputs": [],
   "source": [
    "# First, make a variable called url_LondonHousePrices, and assign it the following link, enclosed in quotation-marks as a string:\n",
    "# https://data.london.gov.uk/download/uk-house-price-index/70ac0766-8902-4eb5-aab5-01951aaed773/UK%20House%20price%20index.xls\n",
    "\n",
    "url_LondonHousePrices = \"https://data.london.gov.uk/download/uk-house-price-index/70ac0766-8902-4eb5-aab5-01951aaed773/UK%20House%20price%20index.xls\"\n",
    "\n",
    "# The dataset we're interested in contains the Average prices of the houses, and is actually on a particular sheet of the Excel file. \n",
    "# As a result, we need to specify the sheet name in the read_excel() method.\n",
    "# Put this data into a variable called properties.  \n",
    "properties = pd.read_excel(url_LondonHousePrices, sheet_name='Average price', index_col= None)"
   ]
  },
  {
   "cell_type": "markdown",
   "metadata": {
    "colab_type": "text",
    "id": "POukEJXgJpgu"
   },
   "source": [
    "### 2. Cleaning, transforming, and visualizing\n",
    "This second stage is arguably the most important part of any Data Science project. The first thing to do is take a proper look at the data. Cleaning forms the majority of this stage, and can be done both before or after Transformation.\n",
    "\n",
    "The end goal of data cleaning is to have tidy data. When data is tidy: \n",
    "\n",
    "1. Each variable has a column.\n",
    "2. Each observation forms a row.\n",
    "\n",
    "Keep the end goal in mind as you move through this process, every step will take you closer. \n",
    "\n",
    "\n",
    "\n",
    "***Hint:*** This part of the data science pipeline should test those skills you acquired in: \n",
    "- Intermediate Python for data science, all modules.\n",
    "- pandas Foundations, all modules. \n",
    "- Manipulating DataFrames with pandas, all modules.\n",
    "- Data Types for Data Science, Module Four.\n",
    "- Python Data Science Toolbox - Part One, all modules"
   ]
  },
  {
   "cell_type": "markdown",
   "metadata": {
    "colab_type": "text",
    "id": "Te0Q548tnzZa"
   },
   "source": [
    "**2.1. Exploring your data** \n",
    "\n",
    "Think about your pandas functions for checking out a dataframe. "
   ]
  },
  {
   "cell_type": "code",
   "execution_count": 3,
   "metadata": {
    "colab": {},
    "colab_type": "code",
    "id": "Rxirxw_qoAJa"
   },
   "outputs": [
    {
     "data": {
      "text/html": [
       "<div>\n",
       "<style scoped>\n",
       "    .dataframe tbody tr th:only-of-type {\n",
       "        vertical-align: middle;\n",
       "    }\n",
       "\n",
       "    .dataframe tbody tr th {\n",
       "        vertical-align: top;\n",
       "    }\n",
       "\n",
       "    .dataframe thead th {\n",
       "        text-align: right;\n",
       "    }\n",
       "</style>\n",
       "<table border=\"1\" class=\"dataframe\">\n",
       "  <thead>\n",
       "    <tr style=\"text-align: right;\">\n",
       "      <th></th>\n",
       "      <th>City of London</th>\n",
       "      <th>Barking &amp; Dagenham</th>\n",
       "      <th>Barnet</th>\n",
       "      <th>Bexley</th>\n",
       "      <th>Brent</th>\n",
       "      <th>Bromley</th>\n",
       "      <th>Camden</th>\n",
       "      <th>Croydon</th>\n",
       "      <th>Ealing</th>\n",
       "      <th>Enfield</th>\n",
       "      <th>...</th>\n",
       "      <th>NORTH WEST</th>\n",
       "      <th>YORKS &amp; THE HUMBER</th>\n",
       "      <th>EAST MIDLANDS</th>\n",
       "      <th>WEST MIDLANDS</th>\n",
       "      <th>EAST OF ENGLAND</th>\n",
       "      <th>LONDON</th>\n",
       "      <th>SOUTH EAST</th>\n",
       "      <th>SOUTH WEST</th>\n",
       "      <th>Unnamed: 46</th>\n",
       "      <th>England</th>\n",
       "    </tr>\n",
       "  </thead>\n",
       "  <tbody>\n",
       "    <tr>\n",
       "      <th>NaT</th>\n",
       "      <td>E09000001</td>\n",
       "      <td>E09000002</td>\n",
       "      <td>E09000003</td>\n",
       "      <td>E09000004</td>\n",
       "      <td>E09000005</td>\n",
       "      <td>E09000006</td>\n",
       "      <td>E09000007</td>\n",
       "      <td>E09000008</td>\n",
       "      <td>E09000009</td>\n",
       "      <td>E09000010</td>\n",
       "      <td>...</td>\n",
       "      <td>E12000002</td>\n",
       "      <td>E12000003</td>\n",
       "      <td>E12000004</td>\n",
       "      <td>E12000005</td>\n",
       "      <td>E12000006</td>\n",
       "      <td>E12000007</td>\n",
       "      <td>E12000008</td>\n",
       "      <td>E12000009</td>\n",
       "      <td>NaN</td>\n",
       "      <td>E92000001</td>\n",
       "    </tr>\n",
       "    <tr>\n",
       "      <th>1995-01-01</th>\n",
       "      <td>91449</td>\n",
       "      <td>50460.2</td>\n",
       "      <td>93284.5</td>\n",
       "      <td>64958.1</td>\n",
       "      <td>71306.6</td>\n",
       "      <td>81671.5</td>\n",
       "      <td>120933</td>\n",
       "      <td>69158.2</td>\n",
       "      <td>79885.9</td>\n",
       "      <td>72514.7</td>\n",
       "      <td>...</td>\n",
       "      <td>43958.5</td>\n",
       "      <td>44803.4</td>\n",
       "      <td>45544.5</td>\n",
       "      <td>48527.5</td>\n",
       "      <td>56701.6</td>\n",
       "      <td>74435.8</td>\n",
       "      <td>64018.9</td>\n",
       "      <td>54705.2</td>\n",
       "      <td>NaN</td>\n",
       "      <td>53202.8</td>\n",
       "    </tr>\n",
       "    <tr>\n",
       "      <th>1995-02-01</th>\n",
       "      <td>82202.8</td>\n",
       "      <td>51085.8</td>\n",
       "      <td>93190.2</td>\n",
       "      <td>64787.9</td>\n",
       "      <td>72022.3</td>\n",
       "      <td>81657.6</td>\n",
       "      <td>119509</td>\n",
       "      <td>68951.1</td>\n",
       "      <td>80897.1</td>\n",
       "      <td>73155.2</td>\n",
       "      <td>...</td>\n",
       "      <td>43925.4</td>\n",
       "      <td>44528.8</td>\n",
       "      <td>46051.6</td>\n",
       "      <td>49341.3</td>\n",
       "      <td>56593.6</td>\n",
       "      <td>72777.9</td>\n",
       "      <td>63715</td>\n",
       "      <td>54356.1</td>\n",
       "      <td>NaN</td>\n",
       "      <td>53096.2</td>\n",
       "    </tr>\n",
       "    <tr>\n",
       "      <th>1995-03-01</th>\n",
       "      <td>79120.7</td>\n",
       "      <td>51269</td>\n",
       "      <td>92247.5</td>\n",
       "      <td>64367.5</td>\n",
       "      <td>72015.8</td>\n",
       "      <td>81449.3</td>\n",
       "      <td>120282</td>\n",
       "      <td>68712.4</td>\n",
       "      <td>81379.9</td>\n",
       "      <td>72190.4</td>\n",
       "      <td>...</td>\n",
       "      <td>44434.9</td>\n",
       "      <td>45200.5</td>\n",
       "      <td>45383.8</td>\n",
       "      <td>49442.2</td>\n",
       "      <td>56171.2</td>\n",
       "      <td>73896.8</td>\n",
       "      <td>64113.6</td>\n",
       "      <td>53583.1</td>\n",
       "      <td>NaN</td>\n",
       "      <td>53201.3</td>\n",
       "    </tr>\n",
       "    <tr>\n",
       "      <th>1995-04-01</th>\n",
       "      <td>77101.2</td>\n",
       "      <td>53133.5</td>\n",
       "      <td>90762.9</td>\n",
       "      <td>64277.7</td>\n",
       "      <td>72965.6</td>\n",
       "      <td>81124.4</td>\n",
       "      <td>120098</td>\n",
       "      <td>68610</td>\n",
       "      <td>82188.9</td>\n",
       "      <td>71442.9</td>\n",
       "      <td>...</td>\n",
       "      <td>44267.8</td>\n",
       "      <td>45614.3</td>\n",
       "      <td>46124.2</td>\n",
       "      <td>49455.9</td>\n",
       "      <td>56567.9</td>\n",
       "      <td>74455.3</td>\n",
       "      <td>64623.2</td>\n",
       "      <td>54786</td>\n",
       "      <td>NaN</td>\n",
       "      <td>53590.9</td>\n",
       "    </tr>\n",
       "  </tbody>\n",
       "</table>\n",
       "<p>5 rows × 48 columns</p>\n",
       "</div>"
      ],
      "text/plain": [
       "           City of London Barking & Dagenham     Barnet     Bexley      Brent  \\\n",
       "NaT             E09000001          E09000002  E09000003  E09000004  E09000005   \n",
       "1995-01-01          91449            50460.2    93284.5    64958.1    71306.6   \n",
       "1995-02-01        82202.8            51085.8    93190.2    64787.9    72022.3   \n",
       "1995-03-01        79120.7              51269    92247.5    64367.5    72015.8   \n",
       "1995-04-01        77101.2            53133.5    90762.9    64277.7    72965.6   \n",
       "\n",
       "              Bromley     Camden    Croydon     Ealing    Enfield    ...      \\\n",
       "NaT         E09000006  E09000007  E09000008  E09000009  E09000010    ...       \n",
       "1995-01-01    81671.5     120933    69158.2    79885.9    72514.7    ...       \n",
       "1995-02-01    81657.6     119509    68951.1    80897.1    73155.2    ...       \n",
       "1995-03-01    81449.3     120282    68712.4    81379.9    72190.4    ...       \n",
       "1995-04-01    81124.4     120098      68610    82188.9    71442.9    ...       \n",
       "\n",
       "           NORTH WEST YORKS & THE HUMBER EAST MIDLANDS WEST MIDLANDS  \\\n",
       "NaT         E12000002          E12000003     E12000004     E12000005   \n",
       "1995-01-01    43958.5            44803.4       45544.5       48527.5   \n",
       "1995-02-01    43925.4            44528.8       46051.6       49341.3   \n",
       "1995-03-01    44434.9            45200.5       45383.8       49442.2   \n",
       "1995-04-01    44267.8            45614.3       46124.2       49455.9   \n",
       "\n",
       "           EAST OF ENGLAND     LONDON SOUTH EAST SOUTH WEST Unnamed: 46  \\\n",
       "NaT              E12000006  E12000007  E12000008  E12000009         NaN   \n",
       "1995-01-01         56701.6    74435.8    64018.9    54705.2         NaN   \n",
       "1995-02-01         56593.6    72777.9      63715    54356.1         NaN   \n",
       "1995-03-01         56171.2    73896.8    64113.6    53583.1         NaN   \n",
       "1995-04-01         56567.9    74455.3    64623.2      54786         NaN   \n",
       "\n",
       "              England  \n",
       "NaT         E92000001  \n",
       "1995-01-01    53202.8  \n",
       "1995-02-01    53096.2  \n",
       "1995-03-01    53201.3  \n",
       "1995-04-01    53590.9  \n",
       "\n",
       "[5 rows x 48 columns]"
      ]
     },
     "execution_count": 3,
     "metadata": {},
     "output_type": "execute_result"
    }
   ],
   "source": [
    "properties.head()"
   ]
  },
  {
   "cell_type": "markdown",
   "metadata": {
    "colab_type": "text",
    "id": "tE9Sqt9-oAta"
   },
   "source": [
    "**2.2. Cleaning the data**\n",
    "\n",
    "You might find you need to transpose your dataframe, check out what its row indexes are, and reset the index. You  also might find you need to assign the values of the first row to your column headings  . (Hint: recall the .columns feature of DataFrames, as well as the iloc[] method).\n",
    "\n",
    "Don't be afraid to use StackOverflow for help  with this."
   ]
  },
  {
   "cell_type": "code",
   "execution_count": 3,
   "metadata": {
    "colab": {},
    "colab_type": "code",
    "id": "cdAu1A3YoH_r"
   },
   "outputs": [
    {
     "data": {
      "text/html": [
       "<div>\n",
       "<style scoped>\n",
       "    .dataframe tbody tr th:only-of-type {\n",
       "        vertical-align: middle;\n",
       "    }\n",
       "\n",
       "    .dataframe tbody tr th {\n",
       "        vertical-align: top;\n",
       "    }\n",
       "\n",
       "    .dataframe thead th {\n",
       "        text-align: right;\n",
       "    }\n",
       "</style>\n",
       "<table border=\"1\" class=\"dataframe\">\n",
       "  <thead>\n",
       "    <tr style=\"text-align: right;\">\n",
       "      <th></th>\n",
       "      <th>index</th>\n",
       "      <th>NaT</th>\n",
       "      <th>1995-01-01 00:00:00</th>\n",
       "      <th>1995-02-01 00:00:00</th>\n",
       "      <th>1995-03-01 00:00:00</th>\n",
       "      <th>1995-04-01 00:00:00</th>\n",
       "      <th>1995-05-01 00:00:00</th>\n",
       "      <th>1995-06-01 00:00:00</th>\n",
       "      <th>1995-07-01 00:00:00</th>\n",
       "      <th>1995-08-01 00:00:00</th>\n",
       "      <th>...</th>\n",
       "      <th>2019-04-01 00:00:00</th>\n",
       "      <th>2019-05-01 00:00:00</th>\n",
       "      <th>2019-06-01 00:00:00</th>\n",
       "      <th>2019-07-01 00:00:00</th>\n",
       "      <th>2019-08-01 00:00:00</th>\n",
       "      <th>2019-09-01 00:00:00</th>\n",
       "      <th>2019-10-01 00:00:00</th>\n",
       "      <th>2019-11-01 00:00:00</th>\n",
       "      <th>2019-12-01 00:00:00</th>\n",
       "      <th>2020-01-01 00:00:00</th>\n",
       "    </tr>\n",
       "  </thead>\n",
       "  <tbody>\n",
       "    <tr>\n",
       "      <th>0</th>\n",
       "      <td>City of London</td>\n",
       "      <td>E09000001</td>\n",
       "      <td>91449</td>\n",
       "      <td>82202.8</td>\n",
       "      <td>79120.7</td>\n",
       "      <td>77101.2</td>\n",
       "      <td>84409.1</td>\n",
       "      <td>94900.5</td>\n",
       "      <td>110128</td>\n",
       "      <td>112329</td>\n",
       "      <td>...</td>\n",
       "      <td>738842</td>\n",
       "      <td>718773</td>\n",
       "      <td>743157</td>\n",
       "      <td>719871</td>\n",
       "      <td>777613</td>\n",
       "      <td>792034</td>\n",
       "      <td>827093</td>\n",
       "      <td>777610</td>\n",
       "      <td>734872</td>\n",
       "      <td>775309</td>\n",
       "    </tr>\n",
       "    <tr>\n",
       "      <th>1</th>\n",
       "      <td>Barking &amp; Dagenham</td>\n",
       "      <td>E09000002</td>\n",
       "      <td>50460.2</td>\n",
       "      <td>51085.8</td>\n",
       "      <td>51269</td>\n",
       "      <td>53133.5</td>\n",
       "      <td>53042.2</td>\n",
       "      <td>53700.3</td>\n",
       "      <td>52113.1</td>\n",
       "      <td>52232.2</td>\n",
       "      <td>...</td>\n",
       "      <td>296360</td>\n",
       "      <td>296555</td>\n",
       "      <td>295600</td>\n",
       "      <td>299538</td>\n",
       "      <td>300702</td>\n",
       "      <td>305277</td>\n",
       "      <td>304153</td>\n",
       "      <td>305882</td>\n",
       "      <td>301816</td>\n",
       "      <td>301057</td>\n",
       "    </tr>\n",
       "    <tr>\n",
       "      <th>2</th>\n",
       "      <td>Barnet</td>\n",
       "      <td>E09000003</td>\n",
       "      <td>93284.5</td>\n",
       "      <td>93190.2</td>\n",
       "      <td>92247.5</td>\n",
       "      <td>90762.9</td>\n",
       "      <td>90258</td>\n",
       "      <td>90107.2</td>\n",
       "      <td>91441.2</td>\n",
       "      <td>92361.3</td>\n",
       "      <td>...</td>\n",
       "      <td>512588</td>\n",
       "      <td>503721</td>\n",
       "      <td>511926</td>\n",
       "      <td>514134</td>\n",
       "      <td>527996</td>\n",
       "      <td>527115</td>\n",
       "      <td>525739</td>\n",
       "      <td>523582</td>\n",
       "      <td>517986</td>\n",
       "      <td>520682</td>\n",
       "    </tr>\n",
       "    <tr>\n",
       "      <th>3</th>\n",
       "      <td>Bexley</td>\n",
       "      <td>E09000004</td>\n",
       "      <td>64958.1</td>\n",
       "      <td>64787.9</td>\n",
       "      <td>64367.5</td>\n",
       "      <td>64277.7</td>\n",
       "      <td>63997.1</td>\n",
       "      <td>64252.3</td>\n",
       "      <td>63722.7</td>\n",
       "      <td>64432.6</td>\n",
       "      <td>...</td>\n",
       "      <td>339948</td>\n",
       "      <td>337445</td>\n",
       "      <td>339964</td>\n",
       "      <td>338721</td>\n",
       "      <td>338702</td>\n",
       "      <td>334826</td>\n",
       "      <td>334510</td>\n",
       "      <td>334711</td>\n",
       "      <td>336972</td>\n",
       "      <td>331683</td>\n",
       "    </tr>\n",
       "    <tr>\n",
       "      <th>4</th>\n",
       "      <td>Brent</td>\n",
       "      <td>E09000005</td>\n",
       "      <td>71306.6</td>\n",
       "      <td>72022.3</td>\n",
       "      <td>72015.8</td>\n",
       "      <td>72965.6</td>\n",
       "      <td>73704</td>\n",
       "      <td>74310.5</td>\n",
       "      <td>74127</td>\n",
       "      <td>73547</td>\n",
       "      <td>...</td>\n",
       "      <td>487049</td>\n",
       "      <td>482244</td>\n",
       "      <td>472702</td>\n",
       "      <td>470872</td>\n",
       "      <td>486068</td>\n",
       "      <td>500246</td>\n",
       "      <td>494527</td>\n",
       "      <td>431249</td>\n",
       "      <td>431245</td>\n",
       "      <td>408523</td>\n",
       "    </tr>\n",
       "  </tbody>\n",
       "</table>\n",
       "<p>5 rows × 303 columns</p>\n",
       "</div>"
      ],
      "text/plain": [
       "                index        NaN 1995-01-01 00:00:00 1995-02-01 00:00:00  \\\n",
       "0      City of London  E09000001               91449             82202.8   \n",
       "1  Barking & Dagenham  E09000002             50460.2             51085.8   \n",
       "2              Barnet  E09000003             93284.5             93190.2   \n",
       "3              Bexley  E09000004             64958.1             64787.9   \n",
       "4               Brent  E09000005             71306.6             72022.3   \n",
       "\n",
       "  1995-03-01 00:00:00 1995-04-01 00:00:00 1995-05-01 00:00:00  \\\n",
       "0             79120.7             77101.2             84409.1   \n",
       "1               51269             53133.5             53042.2   \n",
       "2             92247.5             90762.9               90258   \n",
       "3             64367.5             64277.7             63997.1   \n",
       "4             72015.8             72965.6               73704   \n",
       "\n",
       "  1995-06-01 00:00:00 1995-07-01 00:00:00 1995-08-01 00:00:00  \\\n",
       "0             94900.5              110128              112329   \n",
       "1             53700.3             52113.1             52232.2   \n",
       "2             90107.2             91441.2             92361.3   \n",
       "3             64252.3             63722.7             64432.6   \n",
       "4             74310.5               74127               73547   \n",
       "\n",
       "          ...         2019-04-01 00:00:00 2019-05-01 00:00:00  \\\n",
       "0         ...                      738842              718773   \n",
       "1         ...                      296360              296555   \n",
       "2         ...                      512588              503721   \n",
       "3         ...                      339948              337445   \n",
       "4         ...                      487049              482244   \n",
       "\n",
       "  2019-06-01 00:00:00 2019-07-01 00:00:00 2019-08-01 00:00:00  \\\n",
       "0              743157              719871              777613   \n",
       "1              295600              299538              300702   \n",
       "2              511926              514134              527996   \n",
       "3              339964              338721              338702   \n",
       "4              472702              470872              486068   \n",
       "\n",
       "  2019-09-01 00:00:00 2019-10-01 00:00:00 2019-11-01 00:00:00  \\\n",
       "0              792034              827093              777610   \n",
       "1              305277              304153              305882   \n",
       "2              527115              525739              523582   \n",
       "3              334826              334510              334711   \n",
       "4              500246              494527              431249   \n",
       "\n",
       "  2019-12-01 00:00:00 2020-01-01 00:00:00  \n",
       "0              734872              775309  \n",
       "1              301816              301057  \n",
       "2              517986              520682  \n",
       "3              336972              331683  \n",
       "4              431245              408523  \n",
       "\n",
       "[5 rows x 303 columns]"
      ]
     },
     "execution_count": 3,
     "metadata": {},
     "output_type": "execute_result"
    }
   ],
   "source": [
    "properties=properties.transpose() #transposing to set borough details on each row\n",
    "properties=properties.reset_index() #setting a range as index to get boroughs into dataframe\n",
    "properties.head()"
   ]
  },
  {
   "cell_type": "code",
   "execution_count": 4,
   "metadata": {},
   "outputs": [
    {
     "data": {
      "text/plain": [
       "RangeIndex(start=0, stop=48, step=1)"
      ]
     },
     "execution_count": 4,
     "metadata": {},
     "output_type": "execute_result"
    }
   ],
   "source": [
    "properties.index # index confirmed now to be a range instead of text values"
   ]
  },
  {
   "cell_type": "markdown",
   "metadata": {
    "colab_type": "text",
    "id": "o1uLbJAsoIjK"
   },
   "source": [
    "**2.3. Cleaning the data (part 2)**\n",
    "\n",
    "You might we have to **rename** a couple columns. How do you do this? The clue's pretty bold..."
   ]
  },
  {
   "cell_type": "code",
   "execution_count": 5,
   "metadata": {
    "colab": {},
    "colab_type": "code",
    "id": "GKkmn1AnoVZS"
   },
   "outputs": [
    {
     "data": {
      "text/plain": [
       "Index([          'Borough',        'borough_id', 1995-01-01 00:00:00,\n",
       "       1995-02-01 00:00:00, 1995-03-01 00:00:00, 1995-04-01 00:00:00,\n",
       "       1995-05-01 00:00:00, 1995-06-01 00:00:00, 1995-07-01 00:00:00,\n",
       "       1995-08-01 00:00:00,\n",
       "       ...\n",
       "       2019-04-01 00:00:00, 2019-05-01 00:00:00, 2019-06-01 00:00:00,\n",
       "       2019-07-01 00:00:00, 2019-08-01 00:00:00, 2019-09-01 00:00:00,\n",
       "       2019-10-01 00:00:00, 2019-11-01 00:00:00, 2019-12-01 00:00:00,\n",
       "       2020-01-01 00:00:00],\n",
       "      dtype='object', length=303)"
      ]
     },
     "execution_count": 5,
     "metadata": {},
     "output_type": "execute_result"
    }
   ],
   "source": [
    "new_cols={pd.NaT:'borough_id','index':'Borough'}\n",
    "properties=properties.rename(columns=new_cols)\n",
    "properties.columns # confirming renaming successful"
   ]
  },
  {
   "cell_type": "markdown",
   "metadata": {
    "colab_type": "text",
    "id": "jy8BzXHmoWEw"
   },
   "source": [
    "**2.4.Transforming the data**\n",
    "\n",
    "Remember what Wes McKinney said about tidy data? \n",
    "\n",
    "You might need to **melt** your DataFrame here. "
   ]
  },
  {
   "cell_type": "code",
   "execution_count": 6,
   "metadata": {
    "colab": {},
    "colab_type": "code",
    "id": "S2wM0qLuo2Zt"
   },
   "outputs": [
    {
     "data": {
      "text/plain": [
       "(14448, 4)"
      ]
     },
     "execution_count": 6,
     "metadata": {},
     "output_type": "execute_result"
    }
   ],
   "source": [
    "prop_m = pd.melt(properties,id_vars=['Borough','borough_id'],var_name = 'Date', value_name='Average Price (GBP)')\n",
    "prop_m.shape"
   ]
  },
  {
   "cell_type": "markdown",
   "metadata": {
    "colab_type": "text",
    "id": "7kIsgAo7o3mf"
   },
   "source": [
    "Remember to make sure your column data types are all correct. Average prices, for example, should be floating point numbers... "
   ]
  },
  {
   "cell_type": "code",
   "execution_count": 7,
   "metadata": {
    "colab": {},
    "colab_type": "code",
    "id": "ZcR4IHbcpOaq"
   },
   "outputs": [
    {
     "data": {
      "text/html": [
       "<div>\n",
       "<style scoped>\n",
       "    .dataframe tbody tr th:only-of-type {\n",
       "        vertical-align: middle;\n",
       "    }\n",
       "\n",
       "    .dataframe tbody tr th {\n",
       "        vertical-align: top;\n",
       "    }\n",
       "\n",
       "    .dataframe thead th {\n",
       "        text-align: right;\n",
       "    }\n",
       "</style>\n",
       "<table border=\"1\" class=\"dataframe\">\n",
       "  <thead>\n",
       "    <tr style=\"text-align: right;\">\n",
       "      <th></th>\n",
       "      <th>Borough</th>\n",
       "      <th>borough_id</th>\n",
       "      <th>Date</th>\n",
       "      <th>Average Price (GBP)</th>\n",
       "    </tr>\n",
       "  </thead>\n",
       "  <tbody>\n",
       "    <tr>\n",
       "      <th>0</th>\n",
       "      <td>City of London</td>\n",
       "      <td>E09000001</td>\n",
       "      <td>1995-01-01</td>\n",
       "      <td>91449</td>\n",
       "    </tr>\n",
       "    <tr>\n",
       "      <th>1</th>\n",
       "      <td>Barking &amp; Dagenham</td>\n",
       "      <td>E09000002</td>\n",
       "      <td>1995-01-01</td>\n",
       "      <td>50460.2</td>\n",
       "    </tr>\n",
       "    <tr>\n",
       "      <th>2</th>\n",
       "      <td>Barnet</td>\n",
       "      <td>E09000003</td>\n",
       "      <td>1995-01-01</td>\n",
       "      <td>93284.5</td>\n",
       "    </tr>\n",
       "    <tr>\n",
       "      <th>3</th>\n",
       "      <td>Bexley</td>\n",
       "      <td>E09000004</td>\n",
       "      <td>1995-01-01</td>\n",
       "      <td>64958.1</td>\n",
       "    </tr>\n",
       "    <tr>\n",
       "      <th>4</th>\n",
       "      <td>Brent</td>\n",
       "      <td>E09000005</td>\n",
       "      <td>1995-01-01</td>\n",
       "      <td>71306.6</td>\n",
       "    </tr>\n",
       "    <tr>\n",
       "      <th>5</th>\n",
       "      <td>Bromley</td>\n",
       "      <td>E09000006</td>\n",
       "      <td>1995-01-01</td>\n",
       "      <td>81671.5</td>\n",
       "    </tr>\n",
       "    <tr>\n",
       "      <th>6</th>\n",
       "      <td>Camden</td>\n",
       "      <td>E09000007</td>\n",
       "      <td>1995-01-01</td>\n",
       "      <td>120933</td>\n",
       "    </tr>\n",
       "    <tr>\n",
       "      <th>7</th>\n",
       "      <td>Croydon</td>\n",
       "      <td>E09000008</td>\n",
       "      <td>1995-01-01</td>\n",
       "      <td>69158.2</td>\n",
       "    </tr>\n",
       "    <tr>\n",
       "      <th>8</th>\n",
       "      <td>Ealing</td>\n",
       "      <td>E09000009</td>\n",
       "      <td>1995-01-01</td>\n",
       "      <td>79885.9</td>\n",
       "    </tr>\n",
       "    <tr>\n",
       "      <th>9</th>\n",
       "      <td>Enfield</td>\n",
       "      <td>E09000010</td>\n",
       "      <td>1995-01-01</td>\n",
       "      <td>72514.7</td>\n",
       "    </tr>\n",
       "  </tbody>\n",
       "</table>\n",
       "</div>"
      ],
      "text/plain": [
       "              Borough borough_id       Date Average Price (GBP)\n",
       "0      City of London  E09000001 1995-01-01               91449\n",
       "1  Barking & Dagenham  E09000002 1995-01-01             50460.2\n",
       "2              Barnet  E09000003 1995-01-01             93284.5\n",
       "3              Bexley  E09000004 1995-01-01             64958.1\n",
       "4               Brent  E09000005 1995-01-01             71306.6\n",
       "5             Bromley  E09000006 1995-01-01             81671.5\n",
       "6              Camden  E09000007 1995-01-01              120933\n",
       "7             Croydon  E09000008 1995-01-01             69158.2\n",
       "8              Ealing  E09000009 1995-01-01             79885.9\n",
       "9             Enfield  E09000010 1995-01-01             72514.7"
      ]
     },
     "execution_count": 7,
     "metadata": {},
     "output_type": "execute_result"
    }
   ],
   "source": [
    "prop_m.head(10)"
   ]
  },
  {
   "cell_type": "markdown",
   "metadata": {
    "colab_type": "text",
    "id": "knLUXHLypOtw"
   },
   "source": [
    "**2.5. Cleaning the data (part 3)**\n",
    "\n",
    "Do we have an equal number of observations in the ID, Average Price, Month, and London Borough columns? Remember that there are only 32 London Boroughs. How many entries do you have in that column? \n",
    "\n",
    "Check out the contents of the London Borough column, and if you find null values, get rid of them however you see fit. "
   ]
  },
  {
   "cell_type": "code",
   "execution_count": 7,
   "metadata": {
    "colab": {},
    "colab_type": "code",
    "id": "BnvTW5a3p0fC"
   },
   "outputs": [
    {
     "name": "stdout",
     "output_type": "stream",
     "text": [
      "<class 'pandas.core.frame.DataFrame'>\n",
      "Int64Index: 903 entries, 33 to 14446\n",
      "Data columns (total 4 columns):\n",
      "Borough                903 non-null object\n",
      "borough_id             0 non-null object\n",
      "Date                   903 non-null datetime64[ns]\n",
      "Average Price (GBP)    0 non-null object\n",
      "dtypes: datetime64[ns](1), object(3)\n",
      "memory usage: 35.3+ KB\n"
     ]
    }
   ],
   "source": [
    "prop_m[prop_m['Average Price (GBP)'].isna()==True].info()"
   ]
  },
  {
   "cell_type": "markdown",
   "metadata": {},
   "source": [
    "**It appears that there are three Boroughs without data: Since there are 25 years + 1 month of data for each borough, 903 looks like a good number to remove (3 boroughs x 301 months)**"
   ]
  },
  {
   "cell_type": "code",
   "execution_count": 8,
   "metadata": {},
   "outputs": [],
   "source": [
    "prop_m_drop = prop_m.dropna(axis=0)"
   ]
  },
  {
   "cell_type": "code",
   "execution_count": 9,
   "metadata": {},
   "outputs": [
    {
     "name": "stdout",
     "output_type": "stream",
     "text": [
      "<class 'pandas.core.frame.DataFrame'>\n",
      "Int64Index: 13545 entries, 0 to 14447\n",
      "Data columns (total 4 columns):\n",
      "Borough                13545 non-null object\n",
      "borough_id             13545 non-null object\n",
      "Date                   13545 non-null datetime64[ns]\n",
      "Average Price (GBP)    13545 non-null object\n",
      "dtypes: datetime64[ns](1), object(3)\n",
      "memory usage: 529.1+ KB\n"
     ]
    }
   ],
   "source": [
    "prop_m_drop.info() #looks like the NaN values corresponding to have been removed"
   ]
  },
  {
   "cell_type": "markdown",
   "metadata": {},
   "source": [
    "*Prices must be in float format*"
   ]
  },
  {
   "cell_type": "code",
   "execution_count": 10,
   "metadata": {},
   "outputs": [
    {
     "data": {
      "text/plain": [
       "Borough                        object\n",
       "borough_id                     object\n",
       "Date                   datetime64[ns]\n",
       "Average Price (GBP)            object\n",
       "dtype: object"
      ]
     },
     "execution_count": 10,
     "metadata": {},
     "output_type": "execute_result"
    }
   ],
   "source": [
    "prop_m_drop.dtypes"
   ]
  },
  {
   "cell_type": "code",
   "execution_count": 11,
   "metadata": {},
   "outputs": [
    {
     "name": "stderr",
     "output_type": "stream",
     "text": [
      "C:\\Users\\jonat\\Anaconda3\\lib\\site-packages\\ipykernel_launcher.py:1: SettingWithCopyWarning: \n",
      "A value is trying to be set on a copy of a slice from a DataFrame.\n",
      "Try using .loc[row_indexer,col_indexer] = value instead\n",
      "\n",
      "See the caveats in the documentation: http://pandas.pydata.org/pandas-docs/stable/indexing.html#indexing-view-versus-copy\n",
      "  \"\"\"Entry point for launching an IPython kernel.\n"
     ]
    }
   ],
   "source": [
    "prop_m_drop['Average Price']=pd.to_numeric(prop_m_drop['Average Price (GBP)'])"
   ]
  },
  {
   "cell_type": "markdown",
   "metadata": {},
   "source": [
    "**11 additional 'borough' values exist only serves to summarize other data**"
   ]
  },
  {
   "cell_type": "code",
   "execution_count": 12,
   "metadata": {},
   "outputs": [
    {
     "data": {
      "text/plain": [
       "array(['City of London', 'Barking & Dagenham', 'Barnet', 'Bexley',\n",
       "       'Brent', 'Bromley', 'Camden', 'Croydon', 'Ealing', 'Enfield',\n",
       "       'Greenwich', 'Hackney', 'Hammersmith & Fulham', 'Haringey',\n",
       "       'Harrow', 'Havering', 'Hillingdon', 'Hounslow', 'Islington',\n",
       "       'Kensington & Chelsea', 'Kingston upon Thames', 'Lambeth',\n",
       "       'Lewisham', 'Merton', 'Newham', 'Redbridge',\n",
       "       'Richmond upon Thames', 'Southwark', 'Sutton', 'Tower Hamlets',\n",
       "       'Waltham Forest', 'Wandsworth', 'Westminster', 'Inner London',\n",
       "       'Outer London', 'NORTH EAST', 'NORTH WEST', 'YORKS & THE HUMBER',\n",
       "       'EAST MIDLANDS', 'WEST MIDLANDS', 'EAST OF ENGLAND', 'LONDON',\n",
       "       'SOUTH EAST', 'SOUTH WEST', 'England'], dtype=object)"
      ]
     },
     "execution_count": 12,
     "metadata": {},
     "output_type": "execute_result"
    }
   ],
   "source": [
    "prop_m_drop['Borough'].unique()"
   ]
  },
  {
   "cell_type": "code",
   "execution_count": 13,
   "metadata": {},
   "outputs": [],
   "source": [
    "non_boroughs=['Inner London',\n",
    "       'Outer London', 'NORTH EAST', 'NORTH WEST', 'YORKS & THE HUMBER',\n",
    "       'EAST MIDLANDS', 'WEST MIDLANDS', 'EAST OF ENGLAND', 'LONDON',\n",
    "       'SOUTH EAST', 'SOUTH WEST', 'England']"
   ]
  },
  {
   "cell_type": "code",
   "execution_count": 14,
   "metadata": {},
   "outputs": [],
   "source": [
    "trimmed_prop=prop_m_drop[~prop_m_drop['Borough'].isin(non_boroughs)]"
   ]
  },
  {
   "cell_type": "code",
   "execution_count": 15,
   "metadata": {},
   "outputs": [
    {
     "data": {
      "text/html": [
       "<div>\n",
       "<style scoped>\n",
       "    .dataframe tbody tr th:only-of-type {\n",
       "        vertical-align: middle;\n",
       "    }\n",
       "\n",
       "    .dataframe tbody tr th {\n",
       "        vertical-align: top;\n",
       "    }\n",
       "\n",
       "    .dataframe thead th {\n",
       "        text-align: right;\n",
       "    }\n",
       "</style>\n",
       "<table border=\"1\" class=\"dataframe\">\n",
       "  <thead>\n",
       "    <tr style=\"text-align: right;\">\n",
       "      <th></th>\n",
       "      <th>Borough</th>\n",
       "      <th>borough_id</th>\n",
       "      <th>Date</th>\n",
       "      <th>Average Price (GBP)</th>\n",
       "      <th>Average Price</th>\n",
       "    </tr>\n",
       "  </thead>\n",
       "  <tbody>\n",
       "    <tr>\n",
       "      <th>0</th>\n",
       "      <td>City of London</td>\n",
       "      <td>E09000001</td>\n",
       "      <td>1995-01-01</td>\n",
       "      <td>91449</td>\n",
       "      <td>91448.98487</td>\n",
       "    </tr>\n",
       "    <tr>\n",
       "      <th>1</th>\n",
       "      <td>Barking &amp; Dagenham</td>\n",
       "      <td>E09000002</td>\n",
       "      <td>1995-01-01</td>\n",
       "      <td>50460.2</td>\n",
       "      <td>50460.22660</td>\n",
       "    </tr>\n",
       "    <tr>\n",
       "      <th>2</th>\n",
       "      <td>Barnet</td>\n",
       "      <td>E09000003</td>\n",
       "      <td>1995-01-01</td>\n",
       "      <td>93284.5</td>\n",
       "      <td>93284.51832</td>\n",
       "    </tr>\n",
       "    <tr>\n",
       "      <th>3</th>\n",
       "      <td>Bexley</td>\n",
       "      <td>E09000004</td>\n",
       "      <td>1995-01-01</td>\n",
       "      <td>64958.1</td>\n",
       "      <td>64958.09036</td>\n",
       "    </tr>\n",
       "    <tr>\n",
       "      <th>4</th>\n",
       "      <td>Brent</td>\n",
       "      <td>E09000005</td>\n",
       "      <td>1995-01-01</td>\n",
       "      <td>71306.6</td>\n",
       "      <td>71306.56698</td>\n",
       "    </tr>\n",
       "  </tbody>\n",
       "</table>\n",
       "</div>"
      ],
      "text/plain": [
       "              Borough borough_id       Date Average Price (GBP)  Average Price\n",
       "0      City of London  E09000001 1995-01-01               91449    91448.98487\n",
       "1  Barking & Dagenham  E09000002 1995-01-01             50460.2    50460.22660\n",
       "2              Barnet  E09000003 1995-01-01             93284.5    93284.51832\n",
       "3              Bexley  E09000004 1995-01-01             64958.1    64958.09036\n",
       "4               Brent  E09000005 1995-01-01             71306.6    71306.56698"
      ]
     },
     "execution_count": 15,
     "metadata": {},
     "output_type": "execute_result"
    }
   ],
   "source": [
    "df =trimmed_prop\n",
    "df.head()"
   ]
  },
  {
   "cell_type": "code",
   "execution_count": 16,
   "metadata": {},
   "outputs": [
    {
     "name": "stdout",
     "output_type": "stream",
     "text": [
      "<class 'pandas.core.frame.DataFrame'>\n",
      "Int64Index: 9933 entries, 0 to 14432\n",
      "Data columns (total 5 columns):\n",
      "Borough                9933 non-null object\n",
      "borough_id             9933 non-null object\n",
      "Date                   9933 non-null datetime64[ns]\n",
      "Average Price (GBP)    9933 non-null object\n",
      "Average Price          9933 non-null float64\n",
      "dtypes: datetime64[ns](1), float64(1), object(3)\n",
      "memory usage: 465.6+ KB\n"
     ]
    }
   ],
   "source": [
    "df.info()"
   ]
  },
  {
   "cell_type": "markdown",
   "metadata": {
    "colab_type": "text",
    "id": "PGEx6mJsp6dG"
   },
   "source": [
    "**2.6. Visualizing the data**\n",
    "\n",
    "To visualize the data, why not subset on a particular London Borough? Maybe do a line plot of Month against Average Price?"
   ]
  },
  {
   "cell_type": "markdown",
   "metadata": {
    "colab_type": "text",
    "id": "aWTPqSJeqHnC"
   },
   "source": [
    "To limit the number of data points you have, you might want to extract the year from every month value your *Month* column. \n",
    "\n",
    "To this end, you *could* apply a ***lambda function***. Your logic could work as follows:\n",
    "1. look through the `Month` column\n",
    "2. extract the year from each individual value in that column \n",
    "3. store that corresponding year as separate column. \n",
    "\n",
    "Whether you go ahead with this is up to you. Just so long as you answer our initial brief: which boroughs of London have seen the greatest house price increase, on average, over the past two decades? "
   ]
  },
  {
   "cell_type": "markdown",
   "metadata": {},
   "source": [
    "**graphing out westminster prices as example**"
   ]
  },
  {
   "cell_type": "code",
   "execution_count": 17,
   "metadata": {
    "colab": {},
    "colab_type": "code",
    "id": "nAg5pT9cqHAR"
   },
   "outputs": [
    {
     "data": {
      "image/png": "[encoded data removed]",
      "text/plain": [
       "<Figure size 432x288 with 1 Axes>"
      ]
     },
     "metadata": {},
     "output_type": "display_data"
    }
   ],
   "source": [
    "w_price = df[df['Borough']=='Westminster']\n",
    "west=w_price.plot(kind='line',x='Date',y='Average Price')"
   ]
  },
  {
   "cell_type": "code",
   "execution_count": 18,
   "metadata": {},
   "outputs": [
    {
     "name": "stderr",
     "output_type": "stream",
     "text": [
      "C:\\Users\\jonat\\Anaconda3\\lib\\site-packages\\ipykernel_launcher.py:1: SettingWithCopyWarning: \n",
      "A value is trying to be set on a copy of a slice from a DataFrame.\n",
      "Try using .loc[row_indexer,col_indexer] = value instead\n",
      "\n",
      "See the caveats in the documentation: http://pandas.pydata.org/pandas-docs/stable/indexing.html#indexing-view-versus-copy\n",
      "  \"\"\"Entry point for launching an IPython kernel.\n"
     ]
    },
    {
     "data": {
      "text/html": [
       "<div>\n",
       "<style scoped>\n",
       "    .dataframe tbody tr th:only-of-type {\n",
       "        vertical-align: middle;\n",
       "    }\n",
       "\n",
       "    .dataframe tbody tr th {\n",
       "        vertical-align: top;\n",
       "    }\n",
       "\n",
       "    .dataframe thead th {\n",
       "        text-align: right;\n",
       "    }\n",
       "</style>\n",
       "<table border=\"1\" class=\"dataframe\">\n",
       "  <thead>\n",
       "    <tr style=\"text-align: right;\">\n",
       "      <th></th>\n",
       "      <th>Borough</th>\n",
       "      <th>borough_id</th>\n",
       "      <th>Date</th>\n",
       "      <th>Average Price (GBP)</th>\n",
       "      <th>Average Price</th>\n",
       "      <th>Year</th>\n",
       "    </tr>\n",
       "  </thead>\n",
       "  <tbody>\n",
       "    <tr>\n",
       "      <th>14423</th>\n",
       "      <td>Merton</td>\n",
       "      <td>E09000024</td>\n",
       "      <td>2020-01-01</td>\n",
       "      <td>507897</td>\n",
       "      <td>5.078972e+05</td>\n",
       "      <td>2020</td>\n",
       "    </tr>\n",
       "    <tr>\n",
       "      <th>14424</th>\n",
       "      <td>Newham</td>\n",
       "      <td>E09000025</td>\n",
       "      <td>2020-01-01</td>\n",
       "      <td>368816</td>\n",
       "      <td>3.688156e+05</td>\n",
       "      <td>2020</td>\n",
       "    </tr>\n",
       "    <tr>\n",
       "      <th>14425</th>\n",
       "      <td>Redbridge</td>\n",
       "      <td>E09000026</td>\n",
       "      <td>2020-01-01</td>\n",
       "      <td>418360</td>\n",
       "      <td>4.183603e+05</td>\n",
       "      <td>2020</td>\n",
       "    </tr>\n",
       "    <tr>\n",
       "      <th>14426</th>\n",
       "      <td>Richmond upon Thames</td>\n",
       "      <td>E09000027</td>\n",
       "      <td>2020-01-01</td>\n",
       "      <td>675114</td>\n",
       "      <td>6.751137e+05</td>\n",
       "      <td>2020</td>\n",
       "    </tr>\n",
       "    <tr>\n",
       "      <th>14427</th>\n",
       "      <td>Southwark</td>\n",
       "      <td>E09000028</td>\n",
       "      <td>2020-01-01</td>\n",
       "      <td>502612</td>\n",
       "      <td>5.026120e+05</td>\n",
       "      <td>2020</td>\n",
       "    </tr>\n",
       "    <tr>\n",
       "      <th>14428</th>\n",
       "      <td>Sutton</td>\n",
       "      <td>E09000029</td>\n",
       "      <td>2020-01-01</td>\n",
       "      <td>371626</td>\n",
       "      <td>3.716257e+05</td>\n",
       "      <td>2020</td>\n",
       "    </tr>\n",
       "    <tr>\n",
       "      <th>14429</th>\n",
       "      <td>Tower Hamlets</td>\n",
       "      <td>E09000030</td>\n",
       "      <td>2020-01-01</td>\n",
       "      <td>450669</td>\n",
       "      <td>4.506688e+05</td>\n",
       "      <td>2020</td>\n",
       "    </tr>\n",
       "    <tr>\n",
       "      <th>14430</th>\n",
       "      <td>Waltham Forest</td>\n",
       "      <td>E09000031</td>\n",
       "      <td>2020-01-01</td>\n",
       "      <td>452299</td>\n",
       "      <td>4.522989e+05</td>\n",
       "      <td>2020</td>\n",
       "    </tr>\n",
       "    <tr>\n",
       "      <th>14431</th>\n",
       "      <td>Wandsworth</td>\n",
       "      <td>E09000032</td>\n",
       "      <td>2020-01-01</td>\n",
       "      <td>610256</td>\n",
       "      <td>6.102560e+05</td>\n",
       "      <td>2020</td>\n",
       "    </tr>\n",
       "    <tr>\n",
       "      <th>14432</th>\n",
       "      <td>Westminster</td>\n",
       "      <td>E09000033</td>\n",
       "      <td>2020-01-01</td>\n",
       "      <td>1.01903e+06</td>\n",
       "      <td>1.019028e+06</td>\n",
       "      <td>2020</td>\n",
       "    </tr>\n",
       "  </tbody>\n",
       "</table>\n",
       "</div>"
      ],
      "text/plain": [
       "                    Borough borough_id       Date Average Price (GBP)  \\\n",
       "14423                Merton  E09000024 2020-01-01              507897   \n",
       "14424                Newham  E09000025 2020-01-01              368816   \n",
       "14425             Redbridge  E09000026 2020-01-01              418360   \n",
       "14426  Richmond upon Thames  E09000027 2020-01-01              675114   \n",
       "14427             Southwark  E09000028 2020-01-01              502612   \n",
       "14428                Sutton  E09000029 2020-01-01              371626   \n",
       "14429         Tower Hamlets  E09000030 2020-01-01              450669   \n",
       "14430        Waltham Forest  E09000031 2020-01-01              452299   \n",
       "14431            Wandsworth  E09000032 2020-01-01              610256   \n",
       "14432           Westminster  E09000033 2020-01-01         1.01903e+06   \n",
       "\n",
       "       Average Price  Year  \n",
       "14423   5.078972e+05  2020  \n",
       "14424   3.688156e+05  2020  \n",
       "14425   4.183603e+05  2020  \n",
       "14426   6.751137e+05  2020  \n",
       "14427   5.026120e+05  2020  \n",
       "14428   3.716257e+05  2020  \n",
       "14429   4.506688e+05  2020  \n",
       "14430   4.522989e+05  2020  \n",
       "14431   6.102560e+05  2020  \n",
       "14432   1.019028e+06  2020  "
      ]
     },
     "execution_count": 18,
     "metadata": {},
     "output_type": "execute_result"
    }
   ],
   "source": [
    "df['Year'] = df['Date'].apply(lambda x: x.year) #adding new year column to limit data points\n",
    "df.tail(10)"
   ]
  },
  {
   "cell_type": "code",
   "execution_count": 19,
   "metadata": {
    "colab": {},
    "colab_type": "code",
    "id": "e0DF92cyqnu8",
    "scrolled": true
   },
   "outputs": [
    {
     "data": {
      "text/plain": [
       "<matplotlib.axes._subplots.AxesSubplot at 0x1bc227d5f28>"
      ]
     },
     "execution_count": 19,
     "metadata": {},
     "output_type": "execute_result"
    },
    {
     "data": {
      "image/png": "[encoded data removed]",
      "text/plain": [
       "<Figure size 432x288 with 1 Axes>"
      ]
     },
     "metadata": {},
     "output_type": "display_data"
    }
   ],
   "source": [
    "group_avg = df.groupby(['Year']).mean() #graphing out overall average price over time, noting smoother graph\n",
    "group_avg.plot(y='Average Price')"
   ]
  },
  {
   "cell_type": "code",
   "execution_count": 20,
   "metadata": {},
   "outputs": [],
   "source": [
    "df_group = df.groupby(by=['Borough','Year']).mean() #reshaping dataframe alloing easier accessibility via borough and year values\n",
    "df_group=df_group.reset_index()"
   ]
  },
  {
   "cell_type": "code",
   "execution_count": 36,
   "metadata": {},
   "outputs": [
    {
     "data": {
      "text/html": [
       "<div>\n",
       "<style scoped>\n",
       "    .dataframe tbody tr th:only-of-type {\n",
       "        vertical-align: middle;\n",
       "    }\n",
       "\n",
       "    .dataframe tbody tr th {\n",
       "        vertical-align: top;\n",
       "    }\n",
       "\n",
       "    .dataframe thead th {\n",
       "        text-align: right;\n",
       "    }\n",
       "</style>\n",
       "<table border=\"1\" class=\"dataframe\">\n",
       "  <thead>\n",
       "    <tr style=\"text-align: right;\">\n",
       "      <th></th>\n",
       "      <th>Borough</th>\n",
       "      <th>Year</th>\n",
       "      <th>Average Price</th>\n",
       "    </tr>\n",
       "  </thead>\n",
       "  <tbody>\n",
       "    <tr>\n",
       "      <th>23</th>\n",
       "      <td>Barking &amp; Dagenham</td>\n",
       "      <td>2018</td>\n",
       "      <td>2.951967e+05</td>\n",
       "    </tr>\n",
       "    <tr>\n",
       "      <th>75</th>\n",
       "      <td>Bexley</td>\n",
       "      <td>2018</td>\n",
       "      <td>3.426036e+05</td>\n",
       "    </tr>\n",
       "    <tr>\n",
       "      <th>647</th>\n",
       "      <td>Newham</td>\n",
       "      <td>2018</td>\n",
       "      <td>3.590225e+05</td>\n",
       "    </tr>\n",
       "    <tr>\n",
       "      <th>413</th>\n",
       "      <td>Havering</td>\n",
       "      <td>2018</td>\n",
       "      <td>3.702488e+05</td>\n",
       "    </tr>\n",
       "    <tr>\n",
       "      <th>205</th>\n",
       "      <td>Croydon</td>\n",
       "      <td>2018</td>\n",
       "      <td>3.702985e+05</td>\n",
       "    </tr>\n",
       "    <tr>\n",
       "      <th>751</th>\n",
       "      <td>Sutton</td>\n",
       "      <td>2018</td>\n",
       "      <td>3.792626e+05</td>\n",
       "    </tr>\n",
       "    <tr>\n",
       "      <th>283</th>\n",
       "      <td>Greenwich</td>\n",
       "      <td>2018</td>\n",
       "      <td>3.883443e+05</td>\n",
       "    </tr>\n",
       "    <tr>\n",
       "      <th>465</th>\n",
       "      <td>Hounslow</td>\n",
       "      <td>2018</td>\n",
       "      <td>3.966312e+05</td>\n",
       "    </tr>\n",
       "    <tr>\n",
       "      <th>257</th>\n",
       "      <td>Enfield</td>\n",
       "      <td>2018</td>\n",
       "      <td>3.966317e+05</td>\n",
       "    </tr>\n",
       "    <tr>\n",
       "      <th>439</th>\n",
       "      <td>Hillingdon</td>\n",
       "      <td>2018</td>\n",
       "      <td>4.102661e+05</td>\n",
       "    </tr>\n",
       "    <tr>\n",
       "      <th>595</th>\n",
       "      <td>Lewisham</td>\n",
       "      <td>2018</td>\n",
       "      <td>4.116290e+05</td>\n",
       "    </tr>\n",
       "    <tr>\n",
       "      <th>673</th>\n",
       "      <td>Redbridge</td>\n",
       "      <td>2018</td>\n",
       "      <td>4.225911e+05</td>\n",
       "    </tr>\n",
       "    <tr>\n",
       "      <th>803</th>\n",
       "      <td>Waltham Forest</td>\n",
       "      <td>2018</td>\n",
       "      <td>4.408594e+05</td>\n",
       "    </tr>\n",
       "    <tr>\n",
       "      <th>127</th>\n",
       "      <td>Bromley</td>\n",
       "      <td>2018</td>\n",
       "      <td>4.434100e+05</td>\n",
       "    </tr>\n",
       "    <tr>\n",
       "      <th>777</th>\n",
       "      <td>Tower Hamlets</td>\n",
       "      <td>2018</td>\n",
       "      <td>4.465006e+05</td>\n",
       "    </tr>\n",
       "    <tr>\n",
       "      <th>387</th>\n",
       "      <td>Harrow</td>\n",
       "      <td>2018</td>\n",
       "      <td>4.659075e+05</td>\n",
       "    </tr>\n",
       "    <tr>\n",
       "      <th>231</th>\n",
       "      <td>Ealing</td>\n",
       "      <td>2018</td>\n",
       "      <td>4.800505e+05</td>\n",
       "    </tr>\n",
       "    <tr>\n",
       "      <th>101</th>\n",
       "      <td>Brent</td>\n",
       "      <td>2018</td>\n",
       "      <td>4.928454e+05</td>\n",
       "    </tr>\n",
       "    <tr>\n",
       "      <th>543</th>\n",
       "      <td>Kingston upon Thames</td>\n",
       "      <td>2018</td>\n",
       "      <td>4.970910e+05</td>\n",
       "    </tr>\n",
       "    <tr>\n",
       "      <th>725</th>\n",
       "      <td>Southwark</td>\n",
       "      <td>2018</td>\n",
       "      <td>5.042354e+05</td>\n",
       "    </tr>\n",
       "    <tr>\n",
       "      <th>569</th>\n",
       "      <td>Lambeth</td>\n",
       "      <td>2018</td>\n",
       "      <td>5.115364e+05</td>\n",
       "    </tr>\n",
       "    <tr>\n",
       "      <th>621</th>\n",
       "      <td>Merton</td>\n",
       "      <td>2018</td>\n",
       "      <td>5.122939e+05</td>\n",
       "    </tr>\n",
       "    <tr>\n",
       "      <th>49</th>\n",
       "      <td>Barnet</td>\n",
       "      <td>2018</td>\n",
       "      <td>5.332665e+05</td>\n",
       "    </tr>\n",
       "    <tr>\n",
       "      <th>309</th>\n",
       "      <td>Hackney</td>\n",
       "      <td>2018</td>\n",
       "      <td>5.446405e+05</td>\n",
       "    </tr>\n",
       "    <tr>\n",
       "      <th>361</th>\n",
       "      <td>Haringey</td>\n",
       "      <td>2018</td>\n",
       "      <td>5.515606e+05</td>\n",
       "    </tr>\n",
       "    <tr>\n",
       "      <th>829</th>\n",
       "      <td>Wandsworth</td>\n",
       "      <td>2018</td>\n",
       "      <td>5.966491e+05</td>\n",
       "    </tr>\n",
       "    <tr>\n",
       "      <th>491</th>\n",
       "      <td>Islington</td>\n",
       "      <td>2018</td>\n",
       "      <td>6.498241e+05</td>\n",
       "    </tr>\n",
       "    <tr>\n",
       "      <th>699</th>\n",
       "      <td>Richmond upon Thames</td>\n",
       "      <td>2018</td>\n",
       "      <td>6.526654e+05</td>\n",
       "    </tr>\n",
       "    <tr>\n",
       "      <th>335</th>\n",
       "      <td>Hammersmith &amp; Fulham</td>\n",
       "      <td>2018</td>\n",
       "      <td>7.255253e+05</td>\n",
       "    </tr>\n",
       "    <tr>\n",
       "      <th>179</th>\n",
       "      <td>City of London</td>\n",
       "      <td>2018</td>\n",
       "      <td>7.848089e+05</td>\n",
       "    </tr>\n",
       "    <tr>\n",
       "      <th>153</th>\n",
       "      <td>Camden</td>\n",
       "      <td>2018</td>\n",
       "      <td>8.424104e+05</td>\n",
       "    </tr>\n",
       "    <tr>\n",
       "      <th>855</th>\n",
       "      <td>Westminster</td>\n",
       "      <td>2018</td>\n",
       "      <td>1.020025e+06</td>\n",
       "    </tr>\n",
       "    <tr>\n",
       "      <th>517</th>\n",
       "      <td>Kensington &amp; Chelsea</td>\n",
       "      <td>2018</td>\n",
       "      <td>1.363880e+06</td>\n",
       "    </tr>\n",
       "  </tbody>\n",
       "</table>\n",
       "</div>"
      ],
      "text/plain": [
       "                  Borough  Year  Average Price\n",
       "23     Barking & Dagenham  2018   2.951967e+05\n",
       "75                 Bexley  2018   3.426036e+05\n",
       "647                Newham  2018   3.590225e+05\n",
       "413              Havering  2018   3.702488e+05\n",
       "205               Croydon  2018   3.702985e+05\n",
       "751                Sutton  2018   3.792626e+05\n",
       "283             Greenwich  2018   3.883443e+05\n",
       "465              Hounslow  2018   3.966312e+05\n",
       "257               Enfield  2018   3.966317e+05\n",
       "439            Hillingdon  2018   4.102661e+05\n",
       "595              Lewisham  2018   4.116290e+05\n",
       "673             Redbridge  2018   4.225911e+05\n",
       "803        Waltham Forest  2018   4.408594e+05\n",
       "127               Bromley  2018   4.434100e+05\n",
       "777         Tower Hamlets  2018   4.465006e+05\n",
       "387                Harrow  2018   4.659075e+05\n",
       "231                Ealing  2018   4.800505e+05\n",
       "101                 Brent  2018   4.928454e+05\n",
       "543  Kingston upon Thames  2018   4.970910e+05\n",
       "725             Southwark  2018   5.042354e+05\n",
       "569               Lambeth  2018   5.115364e+05\n",
       "621                Merton  2018   5.122939e+05\n",
       "49                 Barnet  2018   5.332665e+05\n",
       "309               Hackney  2018   5.446405e+05\n",
       "361              Haringey  2018   5.515606e+05\n",
       "829            Wandsworth  2018   5.966491e+05\n",
       "491             Islington  2018   6.498241e+05\n",
       "699  Richmond upon Thames  2018   6.526654e+05\n",
       "335  Hammersmith & Fulham  2018   7.255253e+05\n",
       "179        City of London  2018   7.848089e+05\n",
       "153                Camden  2018   8.424104e+05\n",
       "855           Westminster  2018   1.020025e+06\n",
       "517  Kensington & Chelsea  2018   1.363880e+06"
      ]
     },
     "execution_count": 36,
     "metadata": {},
     "output_type": "execute_result"
    }
   ],
   "source": [
    "df_group[df_group['Year']==2018].sort_values('Average Price',ascending=True)"
   ]
  },
  {
   "cell_type": "code",
   "execution_count": 33,
   "metadata": {},
   "outputs": [
    {
     "data": {
      "text/html": [
       "<div>\n",
       "<style scoped>\n",
       "    .dataframe tbody tr th:only-of-type {\n",
       "        vertical-align: middle;\n",
       "    }\n",
       "\n",
       "    .dataframe tbody tr th {\n",
       "        vertical-align: top;\n",
       "    }\n",
       "\n",
       "    .dataframe thead th {\n",
       "        text-align: right;\n",
       "    }\n",
       "</style>\n",
       "<table border=\"1\" class=\"dataframe\">\n",
       "  <thead>\n",
       "    <tr style=\"text-align: right;\">\n",
       "      <th></th>\n",
       "      <th>Borough</th>\n",
       "      <th>Year</th>\n",
       "      <th>Average Price</th>\n",
       "    </tr>\n",
       "  </thead>\n",
       "  <tbody>\n",
       "    <tr>\n",
       "      <th>3</th>\n",
       "      <td>Barking &amp; Dagenham</td>\n",
       "      <td>1998</td>\n",
       "      <td>60285.821083</td>\n",
       "    </tr>\n",
       "    <tr>\n",
       "      <th>627</th>\n",
       "      <td>Newham</td>\n",
       "      <td>1998</td>\n",
       "      <td>67671.270763</td>\n",
       "    </tr>\n",
       "    <tr>\n",
       "      <th>575</th>\n",
       "      <td>Lewisham</td>\n",
       "      <td>1998</td>\n",
       "      <td>75539.051649</td>\n",
       "    </tr>\n",
       "    <tr>\n",
       "      <th>783</th>\n",
       "      <td>Waltham Forest</td>\n",
       "      <td>1998</td>\n",
       "      <td>75557.474132</td>\n",
       "    </tr>\n",
       "    <tr>\n",
       "      <th>55</th>\n",
       "      <td>Bexley</td>\n",
       "      <td>1998</td>\n",
       "      <td>80632.020822</td>\n",
       "    </tr>\n",
       "    <tr>\n",
       "      <th>263</th>\n",
       "      <td>Greenwich</td>\n",
       "      <td>1998</td>\n",
       "      <td>81532.933366</td>\n",
       "    </tr>\n",
       "    <tr>\n",
       "      <th>393</th>\n",
       "      <td>Havering</td>\n",
       "      <td>1998</td>\n",
       "      <td>85602.087977</td>\n",
       "    </tr>\n",
       "    <tr>\n",
       "      <th>289</th>\n",
       "      <td>Hackney</td>\n",
       "      <td>1998</td>\n",
       "      <td>87869.535804</td>\n",
       "    </tr>\n",
       "    <tr>\n",
       "      <th>185</th>\n",
       "      <td>Croydon</td>\n",
       "      <td>1998</td>\n",
       "      <td>88143.228830</td>\n",
       "    </tr>\n",
       "    <tr>\n",
       "      <th>705</th>\n",
       "      <td>Southwark</td>\n",
       "      <td>1998</td>\n",
       "      <td>91405.187779</td>\n",
       "    </tr>\n",
       "    <tr>\n",
       "      <th>731</th>\n",
       "      <td>Sutton</td>\n",
       "      <td>1998</td>\n",
       "      <td>92087.045921</td>\n",
       "    </tr>\n",
       "    <tr>\n",
       "      <th>237</th>\n",
       "      <td>Enfield</td>\n",
       "      <td>1998</td>\n",
       "      <td>93030.224322</td>\n",
       "    </tr>\n",
       "    <tr>\n",
       "      <th>653</th>\n",
       "      <td>Redbridge</td>\n",
       "      <td>1998</td>\n",
       "      <td>94514.395822</td>\n",
       "    </tr>\n",
       "    <tr>\n",
       "      <th>757</th>\n",
       "      <td>Tower Hamlets</td>\n",
       "      <td>1998</td>\n",
       "      <td>96505.166407</td>\n",
       "    </tr>\n",
       "    <tr>\n",
       "      <th>419</th>\n",
       "      <td>Hillingdon</td>\n",
       "      <td>1998</td>\n",
       "      <td>97676.048952</td>\n",
       "    </tr>\n",
       "    <tr>\n",
       "      <th>445</th>\n",
       "      <td>Hounslow</td>\n",
       "      <td>1998</td>\n",
       "      <td>99746.069682</td>\n",
       "    </tr>\n",
       "    <tr>\n",
       "      <th>81</th>\n",
       "      <td>Brent</td>\n",
       "      <td>1998</td>\n",
       "      <td>100692.590417</td>\n",
       "    </tr>\n",
       "    <tr>\n",
       "      <th>549</th>\n",
       "      <td>Lambeth</td>\n",
       "      <td>1998</td>\n",
       "      <td>103179.118943</td>\n",
       "    </tr>\n",
       "    <tr>\n",
       "      <th>341</th>\n",
       "      <td>Haringey</td>\n",
       "      <td>1998</td>\n",
       "      <td>107419.850108</td>\n",
       "    </tr>\n",
       "    <tr>\n",
       "      <th>601</th>\n",
       "      <td>Merton</td>\n",
       "      <td>1998</td>\n",
       "      <td>108049.855117</td>\n",
       "    </tr>\n",
       "    <tr>\n",
       "      <th>107</th>\n",
       "      <td>Bromley</td>\n",
       "      <td>1998</td>\n",
       "      <td>108286.520467</td>\n",
       "    </tr>\n",
       "    <tr>\n",
       "      <th>211</th>\n",
       "      <td>Ealing</td>\n",
       "      <td>1998</td>\n",
       "      <td>111343.154650</td>\n",
       "    </tr>\n",
       "    <tr>\n",
       "      <th>367</th>\n",
       "      <td>Harrow</td>\n",
       "      <td>1998</td>\n",
       "      <td>114778.250067</td>\n",
       "    </tr>\n",
       "    <tr>\n",
       "      <th>523</th>\n",
       "      <td>Kingston upon Thames</td>\n",
       "      <td>1998</td>\n",
       "      <td>116399.769158</td>\n",
       "    </tr>\n",
       "    <tr>\n",
       "      <th>29</th>\n",
       "      <td>Barnet</td>\n",
       "      <td>1998</td>\n",
       "      <td>122359.468033</td>\n",
       "    </tr>\n",
       "    <tr>\n",
       "      <th>809</th>\n",
       "      <td>Wandsworth</td>\n",
       "      <td>1998</td>\n",
       "      <td>125406.807233</td>\n",
       "    </tr>\n",
       "    <tr>\n",
       "      <th>471</th>\n",
       "      <td>Islington</td>\n",
       "      <td>1998</td>\n",
       "      <td>134148.973300</td>\n",
       "    </tr>\n",
       "    <tr>\n",
       "      <th>159</th>\n",
       "      <td>City of London</td>\n",
       "      <td>1998</td>\n",
       "      <td>148031.894542</td>\n",
       "    </tr>\n",
       "    <tr>\n",
       "      <th>679</th>\n",
       "      <td>Richmond upon Thames</td>\n",
       "      <td>1998</td>\n",
       "      <td>162956.066025</td>\n",
       "    </tr>\n",
       "    <tr>\n",
       "      <th>133</th>\n",
       "      <td>Camden</td>\n",
       "      <td>1998</td>\n",
       "      <td>170688.973933</td>\n",
       "    </tr>\n",
       "    <tr>\n",
       "      <th>315</th>\n",
       "      <td>Hammersmith &amp; Fulham</td>\n",
       "      <td>1998</td>\n",
       "      <td>175340.921250</td>\n",
       "    </tr>\n",
       "    <tr>\n",
       "      <th>835</th>\n",
       "      <td>Westminster</td>\n",
       "      <td>1998</td>\n",
       "      <td>190531.949942</td>\n",
       "    </tr>\n",
       "    <tr>\n",
       "      <th>497</th>\n",
       "      <td>Kensington &amp; Chelsea</td>\n",
       "      <td>1998</td>\n",
       "      <td>268350.122142</td>\n",
       "    </tr>\n",
       "  </tbody>\n",
       "</table>\n",
       "</div>"
      ],
      "text/plain": [
       "                  Borough  Year  Average Price\n",
       "3      Barking & Dagenham  1998   60285.821083\n",
       "627                Newham  1998   67671.270763\n",
       "575              Lewisham  1998   75539.051649\n",
       "783        Waltham Forest  1998   75557.474132\n",
       "55                 Bexley  1998   80632.020822\n",
       "263             Greenwich  1998   81532.933366\n",
       "393              Havering  1998   85602.087977\n",
       "289               Hackney  1998   87869.535804\n",
       "185               Croydon  1998   88143.228830\n",
       "705             Southwark  1998   91405.187779\n",
       "731                Sutton  1998   92087.045921\n",
       "237               Enfield  1998   93030.224322\n",
       "653             Redbridge  1998   94514.395822\n",
       "757         Tower Hamlets  1998   96505.166407\n",
       "419            Hillingdon  1998   97676.048952\n",
       "445              Hounslow  1998   99746.069682\n",
       "81                  Brent  1998  100692.590417\n",
       "549               Lambeth  1998  103179.118943\n",
       "341              Haringey  1998  107419.850108\n",
       "601                Merton  1998  108049.855117\n",
       "107               Bromley  1998  108286.520467\n",
       "211                Ealing  1998  111343.154650\n",
       "367                Harrow  1998  114778.250067\n",
       "523  Kingston upon Thames  1998  116399.769158\n",
       "29                 Barnet  1998  122359.468033\n",
       "809            Wandsworth  1998  125406.807233\n",
       "471             Islington  1998  134148.973300\n",
       "159        City of London  1998  148031.894542\n",
       "679  Richmond upon Thames  1998  162956.066025\n",
       "133                Camden  1998  170688.973933\n",
       "315  Hammersmith & Fulham  1998  175340.921250\n",
       "835           Westminster  1998  190531.949942\n",
       "497  Kensington & Chelsea  1998  268350.122142"
      ]
     },
     "execution_count": 33,
     "metadata": {},
     "output_type": "execute_result"
    }
   ],
   "source": [
    "df_group[df_group['Year']==1998].sort_values('Average Price',ascending=True)"
   ]
  },
  {
   "cell_type": "markdown",
   "metadata": {
    "colab_type": "text",
    "id": "2knuTxAEqoJ4"
   },
   "source": [
    "**3. Modeling**\n",
    "\n",
    "Consider creating a function that will calculate a ratio of house prices, comparing the price of a house in 2018 to the price in 1998.\n",
    "\n",
    "Consider calling this function create_price_ratio.\n",
    "\n",
    "You'd want this function to:\n",
    "1. Take a filter of dfg, specifically where this filter constrains the London_Borough, as an argument. For example, one admissible argument should be: dfg[dfg['London_Borough']=='Camden'].\n",
    "2. Get the Average Price for that Borough, for the years 1998 and 2018.\n",
    "4. Calculate the ratio of the Average Price for 1998 divided by the Average Price for 2018.\n",
    "5. Return that ratio.\n",
    "\n",
    "Once you've written this function, you ultimately want to use it to iterate through all the unique London_Boroughs and work out the ratio capturing the difference of house prices between 1998 and 2018.\n",
    "\n",
    "Bear in mind: you don't have to write a function like this if you don't want to. If you can solve the brief otherwise, then great! \n",
    "\n",
    "***Hint***: This section should test the skills you acquired in:\n",
    "- Python Data Science Toolbox - Part One, all modules"
   ]
  },
  {
   "cell_type": "code",
   "execution_count": 48,
   "metadata": {
    "colab": {},
    "colab_type": "code",
    "id": "cKTyr437UgDa"
   },
   "outputs": [],
   "source": [
    "## ratio of change from 1998 to 2018 to show percentage change in price over the two decades\n",
    "def change_ratio(d):\n",
    "    p1998 = float(d['Average Price'][d['Year']==1998])\n",
    "    p2018 = float(d['Average Price'][d['Year']==2018])\n",
    "    ratio = p2018/p1998\n",
    "    return ratio"
   ]
  },
  {
   "cell_type": "code",
   "execution_count": 49,
   "metadata": {},
   "outputs": [],
   "source": [
    "## raw difference between average prices from 1998 to 2018, showing net change in price over the two decades\n",
    "def net_diff(d):\n",
    "    p1998 = float(d['Average Price'][d['Year']==1998])\n",
    "    p2018 = float(d['Average Price'][d['Year']==2018])\n",
    "    diff = p2018-p1998\n",
    "    return diff"
   ]
  },
  {
   "cell_type": "code",
   "execution_count": 51,
   "metadata": {},
   "outputs": [
    {
     "name": "stdout",
     "output_type": "stream",
     "text": [
      "{'Barking & Dagenham': 4.89661861291754, 'Barnet': 4.358195917538044, 'Bexley': 4.248977046127877, 'Brent': 4.8945544971392865, 'Bromley': 4.0947846853338765, 'Camden': 4.935353408884261, 'City of London': 5.301620377587609, 'Croydon': 4.201100280024767, 'Ealing': 4.311450902121834, 'Enfield': 4.26347158349581, 'Greenwich': 4.763036347329193, 'Hackney': 6.198285561008662, 'Hammersmith & Fulham': 4.137798101936229, 'Haringey': 5.134624964136042, 'Harrow': 4.0591964329643195, 'Havering': 4.325230371335308, 'Hillingdon': 4.2002730803844575, 'Hounslow': 3.976409106143329, 'Islington': 4.844048012802298, 'Kensington & Chelsea': 5.082465066092464, 'Kingston upon Thames': 4.270549521484271, 'Lambeth': 4.957751163514063, 'Lewisham': 5.449221041059685, 'Merton': 4.741273313294604, 'Newham': 5.305390437201879, 'Redbridge': 4.471182006097364, 'Richmond upon Thames': 4.005161895721457, 'Southwark': 5.516485302379376, 'Sutton': 4.118522608573157, 'Tower Hamlets': 4.62670104006116, 'Waltham Forest': 5.83475580932281, 'Wandsworth': 4.757709347739269, 'Westminster': 5.353565392605413}\n"
     ]
    },
    {
     "data": {
      "text/plain": [
       "dict"
      ]
     },
     "execution_count": 51,
     "metadata": {},
     "output_type": "execute_result"
    }
   ],
   "source": [
    "## computes price ratios for the last two decades each borough and stores results as a dict\n",
    "r_results = {}\n",
    "for b in df_group['Borough'].unique():\n",
    "    r = df_group[df_group['Borough']==b]\n",
    "    r_results[b]=change_ratio(r)\n",
    "print(r_results)"
   ]
  },
  {
   "cell_type": "code",
   "execution_count": 52,
   "metadata": {},
   "outputs": [
    {
     "name": "stdout",
     "output_type": "stream",
     "text": [
      "{'Barking & Dagenham': 234910.85252833331, 'Barnet': 410907.06602166675, 'Bexley': 261971.58483250003, 'Brent': 392152.7808358334, 'Bromley': 335123.4651683333, 'Camden': 671721.4354275, 'City of London': 636777.0140933334, 'Croydon': 282155.31449000014, 'Ealing': 368707.3899108334, 'Enfield': 303601.49347999995, 'Greenwich': 306811.39175999997, 'Hackney': 456770.93922333326, 'Hammersmith & Fulham': 550184.4098899999, 'Haringey': 444140.7939016667, 'Harrow': 351129.2131858333, 'Havering': 284646.6627925, 'Hillingdon': 312590.0300583333, 'Hounslow': 296885.110105, 'Islington': 515675.0942333335, 'Kensington & Chelsea': 1095529.9991249999, 'Kingston upon Thames': 380691.2093216667, 'Lambeth': 408357.27804833336, 'Lewisham': 336089.9380191666, 'Merton': 404244.0394533333, 'Newham': 291351.2420141666, 'Redbridge': 328076.6700933333, 'Richmond upon Thames': 489709.36029499996, 'Southwark': 412830.1871658332, 'Sutton': 287175.5346608333, 'Tower Hamlets': 349995.38737833337, 'Waltham Forest': 365301.93699583336, 'Wandsworth': 471242.3318108333, 'Westminster': 829493.3034516667}\n"
     ]
    }
   ],
   "source": [
    "## computes net price changes for the last two decades each borough and stores results as a dict\n",
    "d_results = {}\n",
    "for b in df_group['Borough'].unique():\n",
    "    d = df_group[df_group['Borough']==b]\n",
    "    d_results[b]=net_diff(d)\n",
    "print(d_results)"
   ]
  },
  {
   "cell_type": "code",
   "execution_count": 58,
   "metadata": {},
   "outputs": [
    {
     "name": "stdout",
     "output_type": "stream",
     "text": [
      "                 Borough  Price Growth Ratio\n",
      "11               Hackney            6.198286\n",
      "30        Waltham Forest            5.834756\n",
      "27             Southwark            5.516485\n",
      "22              Lewisham            5.449221\n",
      "32           Westminster            5.353565\n",
      "24                Newham            5.305390\n",
      "6         City of London            5.301620\n",
      "13              Haringey            5.134625\n",
      "19  Kensington & Chelsea            5.082465\n",
      "21               Lambeth            4.957751\n"
     ]
    }
   ],
   "source": [
    "# prints out top 10 results sorted by largest change in price as percentage of starting year price\n",
    "\n",
    "ratios = pd.DataFrame([r_results])\n",
    "ratios_t = ratios.T\n",
    "ratios_t = ratios_t.reset_index()\n",
    "ratios_t.rename(columns={'index':'Borough',0:'Price Growth Ratio'},inplace=True)\n",
    "top_10 = ratios_t.sort_values('Price Growth Ratio',ascending=False).head(10)\n",
    "print(top_10)"
   ]
  },
  {
   "cell_type": "code",
   "execution_count": 60,
   "metadata": {},
   "outputs": [
    {
     "name": "stdout",
     "output_type": "stream",
     "text": [
      "                 Borough  Net Price Gain\n",
      "19  Kensington & Chelsea    1.095530e+06\n",
      "32           Westminster    8.294933e+05\n",
      "5                 Camden    6.717214e+05\n",
      "6         City of London    6.367770e+05\n",
      "12  Hammersmith & Fulham    5.501844e+05\n",
      "18             Islington    5.156751e+05\n",
      "26  Richmond upon Thames    4.897094e+05\n",
      "31            Wandsworth    4.712423e+05\n",
      "11               Hackney    4.567709e+05\n",
      "13              Haringey    4.441408e+05\n"
     ]
    }
   ],
   "source": [
    "# prints out top 10 results sorted by largest change in price\n",
    "\n",
    "differences = pd.DataFrame([d_results])\n",
    "differences_t = differences.T\n",
    "differences_t = differences_t.reset_index()\n",
    "differences_t.rename(columns={'index':'Borough',0:'Net Price Gain'},inplace=True)\n",
    "top_10d = differences_t.sort_values('Net Price Gain',ascending=False).head(10)\n",
    "print(top_10d)"
   ]
  },
  {
   "cell_type": "markdown",
   "metadata": {
    "colab_type": "text",
    "id": "NzYUI7FxJpgv"
   },
   "source": [
    "### 4. Conclusion\n",
    "What can you conclude? Type out your conclusion below. \n",
    "\n",
    "Look back at your notebook. Think about how you might summarize what you have done, and prepare a quick presentation on it to your mentor at your next meeting. \n",
    "\n",
    "We hope you enjoyed this practical project. It should have consolidated your data hygiene and pandas skills by looking at a real-world problem involving just the kind of dataset you might encounter as a budding data scientist. Congratulations, and looking forward to seeing you at the next step in the course! "
   ]
  },
  {
   "cell_type": "markdown",
   "metadata": {},
   "source": [
    "**As a ratio of starting year price, the Hackney Borough had the most significant shift in price. For anyone with real estate holdings in that area of london, the last two decades were good years! However I thought the raw difference in price was worthy of consideration as well since the top two fasted growing boroughs in raw price (Kensington & Chelsea, Westminster) grew by nearly 1.1 million and 830,000, respectively in the last two decades. These outpaced even the other Boroughs in the top 10 list by a strong margin while at the same time also staking a claim on the top 10 fastest growing Boroughs in terms of rate as well.**\n",
    "\n",
    "**With more data and investigation we may be able to ask even more questions this results presents for us. Is this a trend of growing income inequality even between the upper crust of wealth in society? Is the growth particularly localized to areas where specific populations are densely concentrated?**"
   ]
  }
 ],
 "metadata": {
  "colab": {
   "collapsed_sections": [],
   "name": "Springboard Data Science Career Track Unit 4 Challenge - Tier 3 Complete .ipynb",
   "provenance": []
  },
  "kernelspec": {
   "display_name": "Python 3",
   "language": "python",
   "name": "python3"
  },
  "language_info": {
   "codemirror_mode": {
    "name": "ipython",
    "version": 3
   },
   "file_extension": ".py",
   "mimetype": "text/x-python",
   "name": "python",
   "nbconvert_exporter": "python",
   "pygments_lexer": "ipython3",
   "version": "3.6.5"
  }
 },
 "nbformat": 4,
 "nbformat_minor": 1
}
