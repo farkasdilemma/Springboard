{
 "cells": [
  {
   "cell_type": "markdown",
   "metadata": {},
   "source": [
    "This exercise will require you to pull some data from the Qunadl API. Qaundl is currently the most widely used aggregator of financial market data."
   ]
  },
  {
   "cell_type": "markdown",
   "metadata": {},
   "source": [
    "As a first step, you will need to register a free account on the http://www.quandl.com website."
   ]
  },
  {
   "cell_type": "markdown",
   "metadata": {},
   "source": [
    "After you register, you will be provided with a unique API key, that you should store:"
   ]
  },
  {
   "cell_type": "code",
   "execution_count": 1,
   "metadata": {},
   "outputs": [],
   "source": [
    "# Store the API key as a string - according to PEP8, constants are always named in all upper case\n",
    "#API_KEY = 'Qy_U_9dzrJzs9se65y1b'"
   ]
  },
  {
   "cell_type": "markdown",
   "metadata": {},
   "source": [
    "Qaundl has a large number of data sources, but, unfortunately, most of them require a Premium subscription. Still, there are also a good number of free datasets."
   ]
  },
  {
   "cell_type": "markdown",
   "metadata": {},
   "source": [
    "For this mini project, we will focus on equities data from the Frankfurt Stock Exhange (FSE), which is available for free. We'll try and analyze the stock prices of a company called Carl Zeiss Meditec, which manufactures tools for eye examinations, as well as medical lasers for laser eye surgery: https://www.zeiss.com/meditec/int/home.html. The company is listed under the stock ticker AFX_X."
   ]
  },
  {
   "cell_type": "markdown",
   "metadata": {},
   "source": [
    "You can find the detailed Quandl API instructions here: https://docs.quandl.com/docs/time-series"
   ]
  },
  {
   "cell_type": "markdown",
   "metadata": {},
   "source": [
    "While there is a dedicated Python package for connecting to the Quandl API, we would prefer that you use the *requests* package, which can be easily downloaded using *pip* or *conda*. You can find the documentation for the package here: http://docs.python-requests.org/en/master/ "
   ]
  },
  {
   "cell_type": "markdown",
   "metadata": {},
   "source": [
    "Finally, apart from the *requests* package, you are encouraged to not use any third party Python packages, such as *pandas*, and instead focus on what's available in the Python Standard Library (the *collections* module might come in handy: https://pymotw.com/3/collections/ ).\n",
    "Also, since you won't have access to DataFrames, you are encouraged to us Python's native data structures - preferably dictionaries, though some questions can also be answered using lists.\n",
    "You can read more on these data structures here: https://docs.python.org/3/tutorial/datastructures.html"
   ]
  },
  {
   "cell_type": "markdown",
   "metadata": {},
   "source": [
    "Keep in mind that the JSON responses you will be getting from the API map almost one-to-one to Python's dictionaries. Unfortunately, they can be very nested, so make sure you read up on indexing dictionaries in the documentation provided above."
   ]
  },
  {
   "cell_type": "code",
   "execution_count": 2,
   "metadata": {},
   "outputs": [],
   "source": [
    "# First, import the relevant modules\n",
    "import requests\n",
    "import collections"
   ]
  },
  {
   "cell_type": "code",
   "execution_count": 3,
   "metadata": {},
   "outputs": [
    {
     "data": {
      "text/plain": [
       "200"
      ]
     },
     "execution_count": 3,
     "metadata": {},
     "output_type": "execute_result"
    }
   ],
   "source": [
    "# Now, call the Quandl API and pull out a small sample of the data (only one day) to get a glimpse\n",
    "# into the JSON structure that will be returned\n",
    "\n",
    "url = 'https://www.quandl.com/api/v3/datasets/FSE/AFX_X/data.json?api_key='+API_KEY\n",
    "\n",
    "r = requests.get(url)\n",
    "r.status_code"
   ]
  },
  {
   "cell_type": "code",
   "execution_count": 4,
   "metadata": {},
   "outputs": [
    {
     "data": {
      "text/plain": [
       "dict_keys(['limit', 'transform', 'column_index', 'column_names', 'start_date', 'end_date', 'frequency', 'data', 'collapse', 'order'])"
      ]
     },
     "execution_count": 4,
     "metadata": {},
     "output_type": "execute_result"
    }
   ],
   "source": [
    "# Inspect the JSON structure of the object you created, and take note of how nested it is,\n",
    "# as well as the overall structure\n",
    "json_data = r.json()\n",
    "json_data['dataset_data'].keys()"
   ]
  },
  {
   "cell_type": "markdown",
   "metadata": {},
   "source": [
    "These are your tasks for this mini project:\n",
    "\n",
    "1. Collect data from the Franfurt Stock Exchange, for the ticker AFX_X, for the whole year 2017 (keep in mind that the date format is YYYY-MM-DD).\n",
    "2. Convert the returned JSON object into a Python dictionary.\n",
    "3. Calculate what the highest and lowest opening prices were for the stock in this period.\n",
    "4. What was the largest change in any one day (based on High and Low price)?\n",
    "5. What was the largest change between any two days (based on Closing Price)?\n",
    "6. What was the average daily trading volume during this year?\n",
    "7. (Optional) What was the median trading volume during this year. (Note: you may need to implement your own function for calculating the median.)"
   ]
  },
  {
   "cell_type": "code",
   "execution_count": 5,
   "metadata": {},
   "outputs": [],
   "source": [
    "#1 changing the query string for the data in order to only extract data from calendar year 2017\n",
    "start = '2017-01-01'\n",
    "end = '2017-12-31'\n",
    "payload = dict(start_date=start,end_date=end)\n",
    "p = requests.get(url,params=payload)\n",
    "#2 saving relevant portion of this new set of responses as dict\n",
    "afxx_2017_json=p.json()\n",
    "afxx_2017_txt=p.text\n",
    "afxx_2017 = dict(afxx_2017_json['dataset_data'])"
   ]
  },
  {
   "cell_type": "code",
   "execution_count": 6,
   "metadata": {},
   "outputs": [],
   "source": [
    "#defining lists to hold price data and iterating through the dict to build out each respective list\n",
    "\n",
    "col_names = afxx_2017['column_names']\n",
    "dates = []\n",
    "open_price = []\n",
    "day_high =[]\n",
    "day_low = []\n",
    "day_change = []\n",
    "close_price = []\n",
    "trade_volume = []\n",
    "\n",
    "for day in afxx_2017['data']:\n",
    "    dates.append(day[0])\n",
    "    open_price.append(day[1])\n",
    "    day_high.append(day[2])\n",
    "    day_low.append(day[3])\n",
    "    close_price.append(day[4])\n",
    "    trade_volume.append(day[6])"
   ]
  },
  {
   "cell_type": "code",
   "execution_count": 7,
   "metadata": {},
   "outputs": [
    {
     "name": "stdout",
     "output_type": "stream",
     "text": [
      "Highest opening price: 53.11\n",
      "Lowest opening price: 34.0\n"
     ]
    }
   ],
   "source": [
    "#3 Removing all None datatypes from the open and close price lists before performing max and min functions\n",
    "None in open_price\n",
    "open_price1 = [i for i in open_price if i != None]\n",
    "open_min = min(open_price1)\n",
    "open_max = max(open_price1)\n",
    "print('Highest opening price: ' + str(open_max))\n",
    "print('Lowest opening price: ' + str(open_min))"
   ]
  },
  {
   "cell_type": "code",
   "execution_count": 8,
   "metadata": {},
   "outputs": [
    {
     "name": "stdout",
     "output_type": "stream",
     "text": [
      "Max Daily Change in Price: 2.8100000000000023\n"
     ]
    }
   ],
   "source": [
    "#4 performing subtraction through the day_high and day_low list values to capture the daily delta values\n",
    "for i in range(len(day_high)):\n",
    "    day_change.append(float(day_high[i])-float(day_low[i]))\n",
    "max_daily_change = max(day_change)\n",
    "print('Max Daily Change in Price: ' + str(max_daily_change))"
   ]
  },
  {
   "cell_type": "code",
   "execution_count": 9,
   "metadata": {},
   "outputs": [
    {
     "name": "stdout",
     "output_type": "stream",
     "text": [
      "Largest difference in daily close prices: 2.559999999999995\n"
     ]
    }
   ],
   "source": [
    "#5 iterating through the close_price list subtracting the next day's close by today's close up until index n-1\n",
    "day_to_day_delta = []\n",
    "for day in range(len(close_price)-1):\n",
    "    day_to_day_delta.append(close_price[day+1]-close_price[day])\n",
    "max_day_to_day_change = max(day_to_day_delta)\n",
    "print('Largest difference in daily close prices: ' + str(max_day_to_day_change))"
   ]
  },
  {
   "cell_type": "code",
   "execution_count": 10,
   "metadata": {},
   "outputs": [
    {
     "name": "stdout",
     "output_type": "stream",
     "text": [
      "Average Daily Trading Volume: 89124.33725490196\n"
     ]
    }
   ],
   "source": [
    "#6 defining a 'mean' (sum_of_list/len_of_list) and using the function on trade_volume\n",
    "def mean(my_list):\n",
    "    return float(sum(my_list)/len(my_list))\n",
    "\n",
    "average_trading_volume = mean(trade_volume)\n",
    "print('Average Daily Trading Volume: '+str(average_trading_volume))"
   ]
  },
  {
   "cell_type": "code",
   "execution_count": 11,
   "metadata": {},
   "outputs": [
    {
     "name": "stdout",
     "output_type": "stream",
     "text": [
      "Median Daily Trading Volume: 76286.0\n"
     ]
    }
   ],
   "source": [
    "#7 defining a 'median' (middle number IF len(list) is odd, avg of middle two numberes IF len(list) is even), and used function on trade_volume\n",
    "def median(my_list):\n",
    "    n = len(my_list)\n",
    "    if n%2==0:\n",
    "        return (sorted(my_list)[n]+sorted(my_list)[n+1])/2\n",
    "    elif n%2!=0:\n",
    "        return sorted(my_list)[n//2]\n",
    "    else:\n",
    "        return False\n",
    "\n",
    "median_trading_volume = median(trade_volume)\n",
    "print('Median Daily Trading Volume: ' + str(median_trading_volume))"
   ]
  },
  {
   "cell_type": "code",
   "execution_count": null,
   "metadata": {},
   "outputs": [],
   "source": []
  }
 ],
 "metadata": {
  "kernelspec": {
   "display_name": "Python 3",
   "language": "python",
   "name": "python3"
  },
  "language_info": {
   "codemirror_mode": {
    "name": "ipython",
    "version": 3
   },
   "file_extension": ".py",
   "mimetype": "text/x-python",
   "name": "python",
   "nbconvert_exporter": "python",
   "pygments_lexer": "ipython3",
   "version": "3.7.7"
  }
 },
 "nbformat": 4,
 "nbformat_minor": 2
}
