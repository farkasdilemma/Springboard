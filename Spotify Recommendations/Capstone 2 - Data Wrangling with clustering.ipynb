{
 "cells": [
  {
   "cell_type": "code",
   "execution_count": 1,
   "metadata": {},
   "outputs": [],
   "source": [
    "import spotipy\n",
    "from spotipy.oauth2 import SpotifyClientCredentials\n",
    "from spotipy.util import prompt_for_user_token\n",
    "import os"
   ]
  },
  {
   "cell_type": "code",
   "execution_count": 2,
   "metadata": {},
   "outputs": [
    {
     "name": "stdout",
     "output_type": "stream",
     "text": [
      "Enter an updated authorization token: \n",
      "BQAZghmElPtTGrCV_jsJa6of6w7gBKfuEVVNLSgiANxc9obT2NVhdY1Qh4RRue_7_tYvwmTvzeIDo8zhwflCiGqhG3MDdyRAlyE-MUiU4n6ZqgcajzHNU7OVNqg6IKo55shMmp6IvfRqnadFIaWzzTuf5mlDhNSlRB8C2XEuloTS4a1ikAJK0qMQt5vGjNaZ34b-QQ\n"
     ]
    }
   ],
   "source": [
    "cid = '732fb417e5a04ad6849fe4338de5859f'\n",
    "user_name = 'jayzzhang'\n",
    "shared_secret = '3b23e61779474fe384aba5cd7053217'\n",
    "ruri = 'http://localhost:8001/callback'\n",
    "scopes = 'user-library-read'\n",
    "path = 'data/'\n",
    "os.chdir(path) \n",
    "print('Enter an updated authorization token: ')\n",
    "token = input()"
   ]
  },
  {
   "cell_type": "code",
   "execution_count": 3,
   "metadata": {},
   "outputs": [],
   "source": [
    "sp = spotipy.Spotify(auth = token)\n",
    "results1 = sp.current_user_saved_tracks(limit=1,offset=0)\n",
    "total = results1['total']"
   ]
  },
  {
   "cell_type": "code",
   "execution_count": 4,
   "metadata": {},
   "outputs": [],
   "source": [
    "saved_tracks=[]\n",
    "saved_time = []\n",
    "albums = []\n",
    "artists = []\n",
    "artist_ids = []\n",
    "duration = []\n",
    "explicit = []\n",
    "popularity = []\n",
    "track_name = []\n",
    "track_ids = []\n",
    "album_type = []\n",
    "album_ids = []\n",
    "artists_list = []\n",
    "audio_features = []\n",
    "artist_names = []\n",
    "following = (artists_list)\n",
    "saved_artist_name = []\n",
    "genres = []\n",
    "artist_popularity = []\n",
    "artist_followers = []"
   ]
  },
  {
   "cell_type": "markdown",
   "metadata": {},
   "source": [
    "## Function definitions for grabbing necessary data"
   ]
  },
  {
   "cell_type": "code",
   "execution_count": 5,
   "metadata": {},
   "outputs": [],
   "source": [
    "##gets all saved tracks + time saved\n",
    "def get_tracks():\n",
    "    offset1 = 0\n",
    "\n",
    "    while offset1 < total:\n",
    "        lim = min(50,total-offset1)\n",
    "        results = sp.current_user_saved_tracks(limit=lim,offset=offset1)\n",
    "        for i in range(lim):\n",
    "            saved_tracks.append(results['items'][i]['track']['id'])\n",
    "            saved_time.append(results['items'][i]['added_at'])\n",
    "        offset1 = offset1+lim"
   ]
  },
  {
   "cell_type": "code",
   "execution_count": 6,
   "metadata": {},
   "outputs": [],
   "source": [
    "#get all track details\n",
    "def get_track_details():\n",
    "    track_offset = 0\n",
    "    \n",
    "    while track_offset < total:\n",
    "        lim = min(50, total-track_offset)\n",
    "        r1 = sp.tracks(saved_tracks[track_offset:track_offset+lim])\n",
    "        for j in range(lim):\n",
    "            albums.append(r1['tracks'][j]['album']['name'])\n",
    "            album_ids.append(r1['tracks'][j]['album']['id'])\n",
    "            artists.append(r1['tracks'][j]['album']['artists'][0]['name'])\n",
    "            duration.append(r1['tracks'][j]['duration_ms'])\n",
    "            explicit.append(r1['tracks'][j]['explicit'])\n",
    "            popularity.append(r1['tracks'][j]['popularity'])\n",
    "            track_ids.append(r1['tracks'][j]['id'])\n",
    "            track_name.append(r1['tracks'][j]['name'])\n",
    "            album_type.append(r1['tracks'][j]['album']['album_type'])\n",
    "            artist_ids.append(r1['tracks'][j]['album']['artists'][0]['id'])\n",
    "            artists_list.append(r1['tracks'][j]['album']['artists'])\n",
    "        track_offset = track_offset+ lim\n",
    "artist_list = list(set(artist_ids))"
   ]
  },
  {
   "cell_type": "code",
   "execution_count": 7,
   "metadata": {},
   "outputs": [],
   "source": [
    "def get_track_features():\n",
    "    feature_offset = 0\n",
    "\n",
    "    while feature_offset < total:\n",
    "        lim = min(100,total-feature_offset)\n",
    "        r3 = sp.audio_features(track_ids[feature_offset:feature_offset+lim])\n",
    "        for j in range(len(r3)):\n",
    "            audio_features.append(r3[j])\n",
    "        feature_offset = lim + feature_offset"
   ]
  },
  {
   "cell_type": "code",
   "execution_count": 8,
   "metadata": {},
   "outputs": [],
   "source": [
    "def get_artists():\n",
    "\n",
    "    for j in range(len(artists_list)):\n",
    "        artist_sublist = []\n",
    "\n",
    "        for k in range(len(artists_list[j])):\n",
    "            artist_sublist.append(artists_list[j][k]['name'])\n",
    "        artist_names.append(artist_sublist)"
   ]
  },
  {
   "cell_type": "code",
   "execution_count": 9,
   "metadata": {},
   "outputs": [],
   "source": [
    "#saved artist data\n",
    "def get_saved_artists():\n",
    "    artist_offset = 0\n",
    "\n",
    "    while artist_offset < total:\n",
    "        lim = min(50,total-artist_offset)\n",
    "        r4 = sp.artists(artist_ids[artist_offset:artist_offset+lim])\n",
    "    \n",
    "        for j in range(lim):\n",
    "            genres.append(r4['artists'][j]['genres'])\n",
    "        artist_offset += lim"
   ]
  },
  {
   "cell_type": "markdown",
   "metadata": {},
   "source": [
    "## Data retrieval and formating"
   ]
  },
  {
   "cell_type": "code",
   "execution_count": 10,
   "metadata": {
    "scrolled": false
   },
   "outputs": [
    {
     "data": {
      "text/plain": [
       "656"
      ]
     },
     "execution_count": 10,
     "metadata": {},
     "output_type": "execute_result"
    }
   ],
   "source": [
    "get_tracks() #creates saved_track and saved_track_time arrays\n",
    "get_track_details() # creates saved track detail arrays\n",
    "get_track_features() #creates audio feature arrays\n",
    "get_artists() #creates artist information arrays\n",
    "get_saved_artists() #creates arrays for genres associated to saved artists\n",
    "len(genres)"
   ]
  },
  {
   "cell_type": "code",
   "execution_count": 13,
   "metadata": {},
   "outputs": [],
   "source": [
    "import pandas as pd\n",
    "from matplotlib import pyplot as plt\n",
    "\n",
    "features = pd.DataFrame(audio_features)\n",
    "tracks = pd.DataFrame({\n",
    "    'artist id':artist_ids\n",
    "    ,'date saved':saved_time\n",
    "    ,'album name':albums\n",
    "    ,'artist name':artists\n",
    "    ,'is explicit':explicit\n",
    "    ,'track name':track_name\n",
    "    ,'popularity':popularity\n",
    "    ,'artists':artist_names\n",
    "    , 'genres':genres})"
   ]
  },
  {
   "cell_type": "code",
   "execution_count": 14,
   "metadata": {},
   "outputs": [],
   "source": [
    "df = pd.concat([tracks,features],axis=1)"
   ]
  },
  {
   "cell_type": "code",
   "execution_count": 15,
   "metadata": {},
   "outputs": [
    {
     "data": {
      "text/plain": [
       "Index(['artist id', 'date saved', 'album name', 'artist name', 'is explicit',\n",
       "       'track name', 'popularity', 'artists', 'genres', 'danceability',\n",
       "       'energy', 'key', 'loudness', 'mode', 'speechiness', 'acousticness',\n",
       "       'instrumentalness', 'liveness', 'valence', 'tempo', 'type', 'id', 'uri',\n",
       "       'track_href', 'analysis_url', 'duration_ms', 'time_signature'],\n",
       "      dtype='object')"
      ]
     },
     "execution_count": 15,
     "metadata": {},
     "output_type": "execute_result"
    }
   ],
   "source": [
    "df.columns"
   ]
  },
  {
   "cell_type": "code",
   "execution_count": 16,
   "metadata": {},
   "outputs": [
    {
     "data": {
      "text/html": [
       "<div>\n",
       "<style scoped>\n",
       "    .dataframe tbody tr th:only-of-type {\n",
       "        vertical-align: middle;\n",
       "    }\n",
       "\n",
       "    .dataframe tbody tr th {\n",
       "        vertical-align: top;\n",
       "    }\n",
       "\n",
       "    .dataframe thead th {\n",
       "        text-align: right;\n",
       "    }\n",
       "</style>\n",
       "<table border=\"1\" class=\"dataframe\">\n",
       "  <thead>\n",
       "    <tr style=\"text-align: right;\">\n",
       "      <th></th>\n",
       "      <th>artist_0</th>\n",
       "      <th>artist_1</th>\n",
       "      <th>artist_2</th>\n",
       "    </tr>\n",
       "  </thead>\n",
       "  <tbody>\n",
       "    <tr>\n",
       "      <th>0</th>\n",
       "      <td>ILLENIUM</td>\n",
       "      <td>None</td>\n",
       "      <td>None</td>\n",
       "    </tr>\n",
       "    <tr>\n",
       "      <th>1</th>\n",
       "      <td>Alicia Keys</td>\n",
       "      <td>None</td>\n",
       "      <td>None</td>\n",
       "    </tr>\n",
       "    <tr>\n",
       "      <th>2</th>\n",
       "      <td>John Legend</td>\n",
       "      <td>None</td>\n",
       "      <td>None</td>\n",
       "    </tr>\n",
       "    <tr>\n",
       "      <th>3</th>\n",
       "      <td>Sabrina Claudio vs.</td>\n",
       "      <td>Devault</td>\n",
       "      <td>None</td>\n",
       "    </tr>\n",
       "    <tr>\n",
       "      <th>4</th>\n",
       "      <td>Sinead Harnett</td>\n",
       "      <td>None</td>\n",
       "      <td>None</td>\n",
       "    </tr>\n",
       "  </tbody>\n",
       "</table>\n",
       "</div>"
      ],
      "text/plain": [
       "              artist_0 artist_1 artist_2\n",
       "0             ILLENIUM     None     None\n",
       "1          Alicia Keys     None     None\n",
       "2          John Legend     None     None\n",
       "3  Sabrina Claudio vs.  Devault     None\n",
       "4       Sinead Harnett     None     None"
      ]
     },
     "execution_count": 16,
     "metadata": {},
     "output_type": "execute_result"
    }
   ],
   "source": [
    "artist_df = pd.DataFrame(tracks.artists.values.tolist()).add_prefix('artist_')\n",
    "artist_df.head()"
   ]
  },
  {
   "cell_type": "code",
   "execution_count": 17,
   "metadata": {},
   "outputs": [
    {
     "data": {
      "text/html": [
       "<div>\n",
       "<style scoped>\n",
       "    .dataframe tbody tr th:only-of-type {\n",
       "        vertical-align: middle;\n",
       "    }\n",
       "\n",
       "    .dataframe tbody tr th {\n",
       "        vertical-align: top;\n",
       "    }\n",
       "\n",
       "    .dataframe thead th {\n",
       "        text-align: right;\n",
       "    }\n",
       "</style>\n",
       "<table border=\"1\" class=\"dataframe\">\n",
       "  <thead>\n",
       "    <tr style=\"text-align: right;\">\n",
       "      <th></th>\n",
       "      <th>genre_0</th>\n",
       "      <th>genre_1</th>\n",
       "      <th>genre_2</th>\n",
       "      <th>genre_3</th>\n",
       "      <th>genre_4</th>\n",
       "      <th>genre_5</th>\n",
       "      <th>genre_6</th>\n",
       "      <th>genre_7</th>\n",
       "      <th>genre_8</th>\n",
       "      <th>genre_9</th>\n",
       "      <th>genre_10</th>\n",
       "      <th>genre_11</th>\n",
       "      <th>genre_12</th>\n",
       "      <th>genre_13</th>\n",
       "      <th>genre_14</th>\n",
       "    </tr>\n",
       "  </thead>\n",
       "  <tbody>\n",
       "    <tr>\n",
       "      <th>0</th>\n",
       "      <td>edm</td>\n",
       "      <td>electropop</td>\n",
       "      <td>melodic dubstep</td>\n",
       "      <td>pop</td>\n",
       "      <td>tropical house</td>\n",
       "      <td>None</td>\n",
       "      <td>None</td>\n",
       "      <td>None</td>\n",
       "      <td>None</td>\n",
       "      <td>None</td>\n",
       "      <td>None</td>\n",
       "      <td>None</td>\n",
       "      <td>None</td>\n",
       "      <td>None</td>\n",
       "      <td>None</td>\n",
       "    </tr>\n",
       "    <tr>\n",
       "      <th>1</th>\n",
       "      <td>hip pop</td>\n",
       "      <td>neo soul</td>\n",
       "      <td>pop</td>\n",
       "      <td>r&amp;b</td>\n",
       "      <td>urban contemporary</td>\n",
       "      <td>None</td>\n",
       "      <td>None</td>\n",
       "      <td>None</td>\n",
       "      <td>None</td>\n",
       "      <td>None</td>\n",
       "      <td>None</td>\n",
       "      <td>None</td>\n",
       "      <td>None</td>\n",
       "      <td>None</td>\n",
       "      <td>None</td>\n",
       "    </tr>\n",
       "    <tr>\n",
       "      <th>2</th>\n",
       "      <td>neo mellow</td>\n",
       "      <td>neo soul</td>\n",
       "      <td>pop</td>\n",
       "      <td>r&amp;b</td>\n",
       "      <td>urban contemporary</td>\n",
       "      <td>None</td>\n",
       "      <td>None</td>\n",
       "      <td>None</td>\n",
       "      <td>None</td>\n",
       "      <td>None</td>\n",
       "      <td>None</td>\n",
       "      <td>None</td>\n",
       "      <td>None</td>\n",
       "      <td>None</td>\n",
       "      <td>None</td>\n",
       "    </tr>\n",
       "    <tr>\n",
       "      <th>3</th>\n",
       "      <td>None</td>\n",
       "      <td>None</td>\n",
       "      <td>None</td>\n",
       "      <td>None</td>\n",
       "      <td>None</td>\n",
       "      <td>None</td>\n",
       "      <td>None</td>\n",
       "      <td>None</td>\n",
       "      <td>None</td>\n",
       "      <td>None</td>\n",
       "      <td>None</td>\n",
       "      <td>None</td>\n",
       "      <td>None</td>\n",
       "      <td>None</td>\n",
       "      <td>None</td>\n",
       "    </tr>\n",
       "    <tr>\n",
       "      <th>4</th>\n",
       "      <td>alternative r&amp;b</td>\n",
       "      <td>gauze pop</td>\n",
       "      <td>indie r&amp;b</td>\n",
       "      <td>indie soul</td>\n",
       "      <td>uk contemporary r&amp;b</td>\n",
       "      <td>None</td>\n",
       "      <td>None</td>\n",
       "      <td>None</td>\n",
       "      <td>None</td>\n",
       "      <td>None</td>\n",
       "      <td>None</td>\n",
       "      <td>None</td>\n",
       "      <td>None</td>\n",
       "      <td>None</td>\n",
       "      <td>None</td>\n",
       "    </tr>\n",
       "  </tbody>\n",
       "</table>\n",
       "</div>"
      ],
      "text/plain": [
       "           genre_0     genre_1          genre_2     genre_3  \\\n",
       "0              edm  electropop  melodic dubstep         pop   \n",
       "1          hip pop    neo soul              pop         r&b   \n",
       "2       neo mellow    neo soul              pop         r&b   \n",
       "3             None        None             None        None   \n",
       "4  alternative r&b   gauze pop        indie r&b  indie soul   \n",
       "\n",
       "               genre_4 genre_5 genre_6 genre_7 genre_8 genre_9 genre_10  \\\n",
       "0       tropical house    None    None    None    None    None     None   \n",
       "1   urban contemporary    None    None    None    None    None     None   \n",
       "2   urban contemporary    None    None    None    None    None     None   \n",
       "3                 None    None    None    None    None    None     None   \n",
       "4  uk contemporary r&b    None    None    None    None    None     None   \n",
       "\n",
       "  genre_11 genre_12 genre_13 genre_14  \n",
       "0     None     None     None     None  \n",
       "1     None     None     None     None  \n",
       "2     None     None     None     None  \n",
       "3     None     None     None     None  \n",
       "4     None     None     None     None  "
      ]
     },
     "execution_count": 17,
     "metadata": {},
     "output_type": "execute_result"
    }
   ],
   "source": [
    "genre_df=pd.DataFrame(tracks.genres.values.tolist()).add_prefix('genre_')\n",
    "genre_df.head()"
   ]
  },
  {
   "cell_type": "code",
   "execution_count": 18,
   "metadata": {},
   "outputs": [
    {
     "data": {
      "text/html": [
       "<div>\n",
       "<style scoped>\n",
       "    .dataframe tbody tr th:only-of-type {\n",
       "        vertical-align: middle;\n",
       "    }\n",
       "\n",
       "    .dataframe tbody tr th {\n",
       "        vertical-align: top;\n",
       "    }\n",
       "\n",
       "    .dataframe thead th {\n",
       "        text-align: right;\n",
       "    }\n",
       "</style>\n",
       "<table border=\"1\" class=\"dataframe\">\n",
       "  <thead>\n",
       "    <tr style=\"text-align: right;\">\n",
       "      <th></th>\n",
       "      <th>artist id</th>\n",
       "      <th>date saved</th>\n",
       "      <th>album name</th>\n",
       "      <th>is explicit</th>\n",
       "      <th>track name</th>\n",
       "      <th>popularity</th>\n",
       "      <th>danceability</th>\n",
       "      <th>energy</th>\n",
       "      <th>key</th>\n",
       "      <th>loudness</th>\n",
       "      <th>...</th>\n",
       "      <th>genre_5</th>\n",
       "      <th>genre_6</th>\n",
       "      <th>genre_7</th>\n",
       "      <th>genre_8</th>\n",
       "      <th>genre_9</th>\n",
       "      <th>genre_10</th>\n",
       "      <th>genre_11</th>\n",
       "      <th>genre_12</th>\n",
       "      <th>genre_13</th>\n",
       "      <th>genre_14</th>\n",
       "    </tr>\n",
       "  </thead>\n",
       "  <tbody>\n",
       "    <tr>\n",
       "      <th>0</th>\n",
       "      <td>45eNHdiiabvmbp4erw26rg</td>\n",
       "      <td>2020-06-19T21:20:54Z</td>\n",
       "      <td>ASCEND (Tour Edits)</td>\n",
       "      <td>False</td>\n",
       "      <td>Good Things Fall Apart vs. Sad Songs (With Sai...</td>\n",
       "      <td>52</td>\n",
       "      <td>0.563</td>\n",
       "      <td>0.555</td>\n",
       "      <td>2</td>\n",
       "      <td>-5.429</td>\n",
       "      <td>...</td>\n",
       "      <td>None</td>\n",
       "      <td>None</td>\n",
       "      <td>None</td>\n",
       "      <td>None</td>\n",
       "      <td>None</td>\n",
       "      <td>None</td>\n",
       "      <td>None</td>\n",
       "      <td>None</td>\n",
       "      <td>None</td>\n",
       "      <td>None</td>\n",
       "    </tr>\n",
       "    <tr>\n",
       "      <th>1</th>\n",
       "      <td>3DiDSECUqqY1AuBP8qtaIa</td>\n",
       "      <td>2020-06-19T21:17:50Z</td>\n",
       "      <td>Perfect Way To Die</td>\n",
       "      <td>False</td>\n",
       "      <td>Perfect Way To Die</td>\n",
       "      <td>30</td>\n",
       "      <td>0.365</td>\n",
       "      <td>0.398</td>\n",
       "      <td>5</td>\n",
       "      <td>-5.695</td>\n",
       "      <td>...</td>\n",
       "      <td>None</td>\n",
       "      <td>None</td>\n",
       "      <td>None</td>\n",
       "      <td>None</td>\n",
       "      <td>None</td>\n",
       "      <td>None</td>\n",
       "      <td>None</td>\n",
       "      <td>None</td>\n",
       "      <td>None</td>\n",
       "      <td>None</td>\n",
       "    </tr>\n",
       "    <tr>\n",
       "      <th>2</th>\n",
       "      <td>5y2Xq6xcjJb2jVM54GHK3t</td>\n",
       "      <td>2020-06-19T21:12:27Z</td>\n",
       "      <td>Bigger Love</td>\n",
       "      <td>False</td>\n",
       "      <td>U Move, I Move (feat. Jhené Aiko)</td>\n",
       "      <td>34</td>\n",
       "      <td>0.379</td>\n",
       "      <td>0.249</td>\n",
       "      <td>11</td>\n",
       "      <td>-9.530</td>\n",
       "      <td>...</td>\n",
       "      <td>None</td>\n",
       "      <td>None</td>\n",
       "      <td>None</td>\n",
       "      <td>None</td>\n",
       "      <td>None</td>\n",
       "      <td>None</td>\n",
       "      <td>None</td>\n",
       "      <td>None</td>\n",
       "      <td>None</td>\n",
       "      <td>None</td>\n",
       "    </tr>\n",
       "    <tr>\n",
       "      <th>3</th>\n",
       "      <td>5byCrf0f6cosaURjAS899Z</td>\n",
       "      <td>2020-06-18T05:27:40Z</td>\n",
       "      <td>Don't Let Me Down (Sabrina Claudio vs. Devault...</td>\n",
       "      <td>False</td>\n",
       "      <td>Don't Let Me Down - Sabrina Claudio vs. Devaul...</td>\n",
       "      <td>62</td>\n",
       "      <td>0.648</td>\n",
       "      <td>0.651</td>\n",
       "      <td>1</td>\n",
       "      <td>-8.920</td>\n",
       "      <td>...</td>\n",
       "      <td>None</td>\n",
       "      <td>None</td>\n",
       "      <td>None</td>\n",
       "      <td>None</td>\n",
       "      <td>None</td>\n",
       "      <td>None</td>\n",
       "      <td>None</td>\n",
       "      <td>None</td>\n",
       "      <td>None</td>\n",
       "      <td>None</td>\n",
       "    </tr>\n",
       "    <tr>\n",
       "      <th>4</th>\n",
       "      <td>6tUJpYN2aYiXbzAcg0pIOo</td>\n",
       "      <td>2020-06-16T21:32:13Z</td>\n",
       "      <td>Quarantine Queen</td>\n",
       "      <td>False</td>\n",
       "      <td>Quarantine Queen</td>\n",
       "      <td>57</td>\n",
       "      <td>0.485</td>\n",
       "      <td>0.517</td>\n",
       "      <td>9</td>\n",
       "      <td>-4.850</td>\n",
       "      <td>...</td>\n",
       "      <td>None</td>\n",
       "      <td>None</td>\n",
       "      <td>None</td>\n",
       "      <td>None</td>\n",
       "      <td>None</td>\n",
       "      <td>None</td>\n",
       "      <td>None</td>\n",
       "      <td>None</td>\n",
       "      <td>None</td>\n",
       "      <td>None</td>\n",
       "    </tr>\n",
       "  </tbody>\n",
       "</table>\n",
       "<p>5 rows × 42 columns</p>\n",
       "</div>"
      ],
      "text/plain": [
       "                artist id            date saved  \\\n",
       "0  45eNHdiiabvmbp4erw26rg  2020-06-19T21:20:54Z   \n",
       "1  3DiDSECUqqY1AuBP8qtaIa  2020-06-19T21:17:50Z   \n",
       "2  5y2Xq6xcjJb2jVM54GHK3t  2020-06-19T21:12:27Z   \n",
       "3  5byCrf0f6cosaURjAS899Z  2020-06-18T05:27:40Z   \n",
       "4  6tUJpYN2aYiXbzAcg0pIOo  2020-06-16T21:32:13Z   \n",
       "\n",
       "                                          album name  is explicit  \\\n",
       "0                                ASCEND (Tour Edits)        False   \n",
       "1                                 Perfect Way To Die        False   \n",
       "2                                        Bigger Love        False   \n",
       "3  Don't Let Me Down (Sabrina Claudio vs. Devault...        False   \n",
       "4                                   Quarantine Queen        False   \n",
       "\n",
       "                                          track name  popularity  \\\n",
       "0  Good Things Fall Apart vs. Sad Songs (With Sai...          52   \n",
       "1                                 Perfect Way To Die          30   \n",
       "2                  U Move, I Move (feat. Jhené Aiko)          34   \n",
       "3  Don't Let Me Down - Sabrina Claudio vs. Devaul...          62   \n",
       "4                                   Quarantine Queen          57   \n",
       "\n",
       "   danceability  energy  key  loudness  ...  genre_5  genre_6  genre_7  \\\n",
       "0         0.563   0.555    2    -5.429  ...     None     None     None   \n",
       "1         0.365   0.398    5    -5.695  ...     None     None     None   \n",
       "2         0.379   0.249   11    -9.530  ...     None     None     None   \n",
       "3         0.648   0.651    1    -8.920  ...     None     None     None   \n",
       "4         0.485   0.517    9    -4.850  ...     None     None     None   \n",
       "\n",
       "   genre_8  genre_9  genre_10  genre_11 genre_12 genre_13 genre_14  \n",
       "0     None     None      None      None     None     None     None  \n",
       "1     None     None      None      None     None     None     None  \n",
       "2     None     None      None      None     None     None     None  \n",
       "3     None     None      None      None     None     None     None  \n",
       "4     None     None      None      None     None     None     None  \n",
       "\n",
       "[5 rows x 42 columns]"
      ]
     },
     "execution_count": 18,
     "metadata": {},
     "output_type": "execute_result"
    }
   ],
   "source": [
    "df=df.drop(['artist name','artists','genres'],axis=1)\n",
    "df=pd.concat([df,artist_df,genre_df],axis=1)\n",
    "df.head()"
   ]
  },
  {
   "cell_type": "code",
   "execution_count": 19,
   "metadata": {},
   "outputs": [
    {
     "data": {
      "text/plain": [
       "Index(['artist id', 'date saved', 'album name', 'is explicit', 'track name',\n",
       "       'popularity', 'danceability', 'energy', 'key', 'loudness', 'mode',\n",
       "       'speechiness', 'acousticness', 'instrumentalness', 'liveness',\n",
       "       'valence', 'tempo', 'type', 'id', 'uri', 'track_href', 'analysis_url',\n",
       "       'duration_ms', 'time_signature', 'artist_0', 'artist_1', 'artist_2',\n",
       "       'genre_0', 'genre_1', 'genre_2', 'genre_3', 'genre_4', 'genre_5',\n",
       "       'genre_6', 'genre_7', 'genre_8', 'genre_9', 'genre_10', 'genre_11',\n",
       "       'genre_12', 'genre_13', 'genre_14'],\n",
       "      dtype='object')"
      ]
     },
     "execution_count": 19,
     "metadata": {},
     "output_type": "execute_result"
    }
   ],
   "source": [
    "df.columns"
   ]
  },
  {
   "cell_type": "code",
   "execution_count": 20,
   "metadata": {},
   "outputs": [
    {
     "data": {
      "text/plain": [
       "<matplotlib.axes._subplots.AxesSubplot at 0x2931d4866c8>"
      ]
     },
     "execution_count": 20,
     "metadata": {},
     "output_type": "execute_result"
    },
    {
     "data": {
      "image/png": "[encoded data removed]",
      "text/plain": [
       "<Figure size 1080x360 with 1 Axes>"
      ]
     },
     "metadata": {
      "needs_background": "light"
     },
     "output_type": "display_data"
    }
   ],
   "source": [
    "df_drop=df.drop(['analysis_url','uri','track_href','type','id','artist id'],axis=1)\n",
    "fig = plt.figure(figsize=(15,5)) \n",
    "#quick look at audio features to consider for clustering\n",
    "df_drop.boxplot(column = ['danceability','energy','speechiness','acousticness','instrumentalness','liveness','valence'])"
   ]
  },
  {
   "cell_type": "code",
   "execution_count": 21,
   "metadata": {},
   "outputs": [
    {
     "data": {
      "text/html": [
       "<div>\n",
       "<style scoped>\n",
       "    .dataframe tbody tr th:only-of-type {\n",
       "        vertical-align: middle;\n",
       "    }\n",
       "\n",
       "    .dataframe tbody tr th {\n",
       "        vertical-align: top;\n",
       "    }\n",
       "\n",
       "    .dataframe thead th {\n",
       "        text-align: right;\n",
       "    }\n",
       "</style>\n",
       "<table border=\"1\" class=\"dataframe\">\n",
       "  <thead>\n",
       "    <tr style=\"text-align: right;\">\n",
       "      <th></th>\n",
       "      <th>percent</th>\n",
       "    </tr>\n",
       "  </thead>\n",
       "  <tbody>\n",
       "    <tr>\n",
       "      <th>genre_14</th>\n",
       "      <td>0.996951</td>\n",
       "    </tr>\n",
       "    <tr>\n",
       "      <th>genre_12</th>\n",
       "      <td>0.996951</td>\n",
       "    </tr>\n",
       "    <tr>\n",
       "      <th>genre_13</th>\n",
       "      <td>0.996951</td>\n",
       "    </tr>\n",
       "    <tr>\n",
       "      <th>genre_11</th>\n",
       "      <td>0.983232</td>\n",
       "    </tr>\n",
       "    <tr>\n",
       "      <th>genre_10</th>\n",
       "      <td>0.977134</td>\n",
       "    </tr>\n",
       "    <tr>\n",
       "      <th>artist_2</th>\n",
       "      <td>0.963415</td>\n",
       "    </tr>\n",
       "    <tr>\n",
       "      <th>genre_9</th>\n",
       "      <td>0.931402</td>\n",
       "    </tr>\n",
       "    <tr>\n",
       "      <th>genre_8</th>\n",
       "      <td>0.905488</td>\n",
       "    </tr>\n",
       "    <tr>\n",
       "      <th>genre_7</th>\n",
       "      <td>0.864329</td>\n",
       "    </tr>\n",
       "    <tr>\n",
       "      <th>artist_1</th>\n",
       "      <td>0.812500</td>\n",
       "    </tr>\n",
       "    <tr>\n",
       "      <th>genre_6</th>\n",
       "      <td>0.774390</td>\n",
       "    </tr>\n",
       "    <tr>\n",
       "      <th>genre_5</th>\n",
       "      <td>0.678354</td>\n",
       "    </tr>\n",
       "    <tr>\n",
       "      <th>genre_4</th>\n",
       "      <td>0.536585</td>\n",
       "    </tr>\n",
       "    <tr>\n",
       "      <th>genre_3</th>\n",
       "      <td>0.435976</td>\n",
       "    </tr>\n",
       "    <tr>\n",
       "      <th>genre_2</th>\n",
       "      <td>0.301829</td>\n",
       "    </tr>\n",
       "    <tr>\n",
       "      <th>genre_1</th>\n",
       "      <td>0.141768</td>\n",
       "    </tr>\n",
       "    <tr>\n",
       "      <th>genre_0</th>\n",
       "      <td>0.053354</td>\n",
       "    </tr>\n",
       "  </tbody>\n",
       "</table>\n",
       "</div>"
      ],
      "text/plain": [
       "           percent\n",
       "genre_14  0.996951\n",
       "genre_12  0.996951\n",
       "genre_13  0.996951\n",
       "genre_11  0.983232\n",
       "genre_10  0.977134\n",
       "artist_2  0.963415\n",
       "genre_9   0.931402\n",
       "genre_8   0.905488\n",
       "genre_7   0.864329\n",
       "artist_1  0.812500\n",
       "genre_6   0.774390\n",
       "genre_5   0.678354\n",
       "genre_4   0.536585\n",
       "genre_3   0.435976\n",
       "genre_2   0.301829\n",
       "genre_1   0.141768\n",
       "genre_0   0.053354"
      ]
     },
     "execution_count": 21,
     "metadata": {},
     "output_type": "execute_result"
    }
   ],
   "source": [
    "nas=pd.DataFrame(df_drop.isnull().sum().sort_values(ascending=False)/len(df_drop),columns = ['percent'])\n",
    "pos = nas['percent'] > 0\n",
    "nas[pos]"
   ]
  },
  {
   "cell_type": "code",
   "execution_count": 24,
   "metadata": {},
   "outputs": [
    {
     "data": {
      "text/plain": [
       "Index(['date saved', 'album name', 'is explicit', 'track name', 'popularity',\n",
       "       'danceability', 'energy', 'key', 'loudness', 'mode', 'speechiness',\n",
       "       'acousticness', 'instrumentalness', 'liveness', 'valence', 'tempo',\n",
       "       'duration_ms', 'time_signature', 'artist_0', 'genre_0'],\n",
       "      dtype='object')"
      ]
     },
     "execution_count": 24,
     "metadata": {},
     "output_type": "execute_result"
    }
   ],
   "source": [
    "df_drop1=df_drop.drop(['genre_14','genre_13','genre_12','genre_11','genre_10','genre_9','artist_2','genre_8','genre_7','genre_6','artist_1','genre_5','genre_4','genre_3','genre_2','genre_1'] \n",
    "                      ,axis=1)\n",
    "df_drop1.columns"
   ]
  },
  {
   "cell_type": "markdown",
   "metadata": {},
   "source": [
    "**saved tracks from here will be used as a training set to recommend other tracks within the library to recommend. I will also add in K means clustering to see if three distinct sets of tracks can be identified to get a general idea of how the recommendations will be shaped**"
   ]
  },
  {
   "cell_type": "code",
   "execution_count": 48,
   "metadata": {},
   "outputs": [
    {
     "data": {
      "image/png": "[encoded data removed]",
      "text/plain": [
       "<Figure size 432x288 with 1 Axes>"
      ]
     },
     "metadata": {
      "needs_background": "light"
     },
     "output_type": "display_data"
    }
   ],
   "source": [
    "from sklearn.cluster import KMeans\n",
    "from sklearn.preprocessing import MinMaxScaler\n",
    "\n",
    "x = df_drop1.drop(['popularity','album name','date saved','is explicit','track name','artist_0','genre_0','duration_ms','key','mode','key']\n",
    "                  , axis =1).values\n",
    "\n",
    "min_max_scaler = MinMaxScaler()\n",
    "x = min_max_scaler.fit_transform(x)\n",
    "\n",
    "Error =[]\n",
    "for i in range(1, 11):\n",
    "    kmeans = KMeans(n_clusters = i).fit(x)\n",
    "    kmeans.fit(x)\n",
    "    Error.append(kmeans.inertia_)\n",
    "import matplotlib.pyplot as plt\n",
    "plt.plot(range(1, 11), Error)\n",
    "plt.title('Elbow method')\n",
    "plt.xlabel('No of clusters')\n",
    "plt.ylabel('Error')\n",
    "plt.show()"
   ]
  },
  {
   "cell_type": "markdown",
   "metadata": {},
   "source": [
    "Appears that 3 might be good numbers for k"
   ]
  },
  {
   "cell_type": "code",
   "execution_count": 78,
   "metadata": {},
   "outputs": [],
   "source": [
    "kmeans = KMeans(n_clusters=3).fit(x)\n",
    "kmeans.fit(x)\n",
    "centers =kmeans.cluster_centers_"
   ]
  },
  {
   "cell_type": "code",
   "execution_count": 79,
   "metadata": {},
   "outputs": [],
   "source": [
    "#new clusters based on true audio features\n",
    "cluster_labels = kmeans.labels_\n",
    "df_x = df.drop(['artist id','date saved','is explicit', 'artist_1', 'artist_2', 'genre_0', 'genre_1', 'genre_2',\n",
    "       'genre_3', 'genre_4', 'genre_5', 'genre_6', 'genre_7', 'genre_8',\n",
    "       'genre_9', 'genre_10', 'genre_11', 'genre_12', 'genre_13', 'genre_14','type','id','uri','track_href','analysis_url']\n",
    "                  , axis =1)\n",
    "df_x['Clusters']=cluster_labels"
   ]
  },
  {
   "cell_type": "code",
   "execution_count": 80,
   "metadata": {},
   "outputs": [
    {
     "data": {
      "text/plain": [
       "Index(['album name', 'track name', 'popularity', 'danceability', 'energy',\n",
       "       'key', 'loudness', 'mode', 'speechiness', 'acousticness',\n",
       "       'instrumentalness', 'liveness', 'valence', 'tempo', 'duration_ms',\n",
       "       'time_signature', 'artist_0', 'Clusters'],\n",
       "      dtype='object')"
      ]
     },
     "execution_count": 80,
     "metadata": {},
     "output_type": "execute_result"
    }
   ],
   "source": [
    "df_x.columns"
   ]
  },
  {
   "cell_type": "code",
   "execution_count": 81,
   "metadata": {},
   "outputs": [],
   "source": [
    "df_x.to_csv('working_data.csv',index=False)"
   ]
  },
  {
   "cell_type": "markdown",
   "metadata": {},
   "source": [
    "**This concludes data wrangling**"
   ]
  },
  {
   "cell_type": "code",
   "execution_count": null,
   "metadata": {},
   "outputs": [],
   "source": [
    "_=df_drop['popularity'].plot(kind='hist',bins = 25)"
   ]
  },
  {
   "cell_type": "code",
   "execution_count": null,
   "metadata": {},
   "outputs": [],
   "source": [
    "_=df_drop['key'].plot(kind='hist',bins = 10)"
   ]
  },
  {
   "cell_type": "code",
   "execution_count": null,
   "metadata": {},
   "outputs": [],
   "source": [
    "df_drop['duration_min'] = df_drop['duration_ms']/60000.0\n",
    "_=df_drop['duration_min'].plot(kind='hist',bins = 30)"
   ]
  },
  {
   "cell_type": "code",
   "execution_count": 65,
   "metadata": {},
   "outputs": [],
   "source": [
    "from sklearn.neighbors import NearestNeighbors\n",
    "nbrs = NearestNeighbors(n_neighbors = 10).fit(x)"
   ]
  },
  {
   "cell_type": "code",
   "execution_count": 66,
   "metadata": {},
   "outputs": [
    {
     "data": {
      "text/plain": [
       "(array([[0.        , 0.16297274, 0.20763984, ..., 0.26112311, 0.26147868,\n",
       "         0.26246573],\n",
       "        [0.        , 0.23967105, 0.24541219, ..., 0.37709643, 0.38030898,\n",
       "         0.38800576],\n",
       "        [0.        , 0.14686573, 0.15362136, ..., 0.286037  , 0.29778274,\n",
       "         0.30028321],\n",
       "        ...,\n",
       "        [0.        , 0.21416627, 0.23908045, ..., 0.28043687, 0.28480935,\n",
       "         0.28610066],\n",
       "        [0.        , 0.1938425 , 0.19523668, ..., 0.36209914, 0.37423524,\n",
       "         0.3880117 ],\n",
       "        [0.        , 0.24961536, 0.25699984, ..., 0.28407344, 0.30627592,\n",
       "         0.30861463]]),\n",
       " array([[  0, 602, 637, ..., 182, 268, 131],\n",
       "        [  1, 261, 165, ...,  91, 518, 508],\n",
       "        [  2, 165,  91, ..., 261, 401, 518],\n",
       "        ...,\n",
       "        [653,  35, 419, ..., 171, 249, 624],\n",
       "        [654, 341,  98, ..., 205, 314,  71],\n",
       "        [655, 472,  46, ..., 328, 253, 239]], dtype=int64))"
      ]
     },
     "execution_count": 66,
     "metadata": {},
     "output_type": "execute_result"
    }
   ],
   "source": [
    "distances,indices = nbrs.kneighbors(x)\n",
    "distances,indices"
   ]
  },
  {
   "cell_type": "code",
   "execution_count": 68,
   "metadata": {},
   "outputs": [],
   "source": [
    "def get_index_from_name(name):\n",
    "    return df_drop1[df_drop1['track name']==name].index.tolist()[0]"
   ]
  },
  {
   "cell_type": "code",
   "execution_count": 69,
   "metadata": {},
   "outputs": [],
   "source": [
    "all_track_names = list(df['track name'].values)"
   ]
  },
  {
   "cell_type": "code",
   "execution_count": 70,
   "metadata": {},
   "outputs": [],
   "source": [
    "def get_id_from_partial_name(partial):\n",
    "    for name in all_track_names:\n",
    "        if partial in name:\n",
    "            print(name,all_track_names.index(name))"
   ]
  },
  {
   "cell_type": "code",
   "execution_count": 71,
   "metadata": {},
   "outputs": [],
   "source": [
    "def print_similar_tracks(query = None,id = None):\n",
    "    if id!=None:\n",
    "        for i in indices[id][1:]:\n",
    "            print(df.iloc[i]['artist_0'],\"-\",df.iloc[i]['track name'])\n",
    "    if query!=None:\n",
    "        found_id = get_index_from_name(query)\n",
    "        for id in indices[found_id][1:]:\n",
    "            print(df.iloc[id]['artist_0'],\"-\",df.iloc[id]['track name'])"
   ]
  },
  {
   "cell_type": "code",
   "execution_count": 72,
   "metadata": {},
   "outputs": [
    {
     "name": "stdout",
     "output_type": "stream",
     "text": [
      "Perfect Way To Die 1\n"
     ]
    }
   ],
   "source": [
    "get_id_from_partial_name('Perfect Way')"
   ]
  },
  {
   "cell_type": "code",
   "execution_count": 73,
   "metadata": {},
   "outputs": [
    {
     "name": "stdout",
     "output_type": "stream",
     "text": [
      "Worakls - Cloches\n",
      "Martin Garrix - Proxy\n",
      "Daft Punk - Instant Crush (feat. Julian Casablancas)\n",
      "ODESZA - Memories That You Call (feat. Monsoonsiren) - ODESZA & Golden Features VIP Remix\n",
      "Tycho - A Walk\n",
      "Tei Shi - Bassically\n",
      "Pierce Fulton - Kuaga - Original Mix\n",
      "Dylan Sitts - Yeehaw Slap\n",
      "Polo & Pan - Gengis - Edit\n"
     ]
    }
   ],
   "source": [
    "print_similar_tracks(id=5)"
   ]
  },
  {
   "cell_type": "code",
   "execution_count": null,
   "metadata": {},
   "outputs": [],
   "source": []
  }
 ],
 "metadata": {
  "kernelspec": {
   "display_name": "Python 3",
   "language": "python",
   "name": "python3"
  },
  "language_info": {
   "codemirror_mode": {
    "name": "ipython",
    "version": 3
   },
   "file_extension": ".py",
   "mimetype": "text/x-python",
   "name": "python",
   "nbconvert_exporter": "python",
   "pygments_lexer": "ipython3",
   "version": "3.7.7"
  }
 },
 "nbformat": 4,
 "nbformat_minor": 2
}
