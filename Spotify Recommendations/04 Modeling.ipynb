{
 "cells": [
  {
   "cell_type": "code",
   "execution_count": 3,
   "metadata": {},
   "outputs": [],
   "source": [
    "import pandas as pd\n",
    "from matplotlib import pyplot as plt\n",
    "import seaborn as sns\n",
    "import os"
   ]
  },
  {
   "cell_type": "code",
   "execution_count": 5,
   "metadata": {},
   "outputs": [
    {
     "data": {
      "text/html": [
       "<div>\n",
       "<style scoped>\n",
       "    .dataframe tbody tr th:only-of-type {\n",
       "        vertical-align: middle;\n",
       "    }\n",
       "\n",
       "    .dataframe tbody tr th {\n",
       "        vertical-align: top;\n",
       "    }\n",
       "\n",
       "    .dataframe thead th {\n",
       "        text-align: right;\n",
       "    }\n",
       "</style>\n",
       "<table border=\"1\" class=\"dataframe\">\n",
       "  <thead>\n",
       "    <tr style=\"text-align: right;\">\n",
       "      <th></th>\n",
       "      <th>artist name</th>\n",
       "      <th>track name</th>\n",
       "      <th>popularity</th>\n",
       "      <th>artists</th>\n",
       "      <th>genres</th>\n",
       "      <th>danceability</th>\n",
       "      <th>energy</th>\n",
       "      <th>key</th>\n",
       "      <th>loudness</th>\n",
       "      <th>mode</th>\n",
       "      <th>...</th>\n",
       "      <th>liveness</th>\n",
       "      <th>valence</th>\n",
       "      <th>tempo</th>\n",
       "      <th>type</th>\n",
       "      <th>id</th>\n",
       "      <th>uri</th>\n",
       "      <th>track_href</th>\n",
       "      <th>analysis_url</th>\n",
       "      <th>duration_ms</th>\n",
       "      <th>time_signature</th>\n",
       "    </tr>\n",
       "  </thead>\n",
       "  <tbody>\n",
       "    <tr>\n",
       "      <th>0</th>\n",
       "      <td>Hayden James</td>\n",
       "      <td>Something About You</td>\n",
       "      <td>62</td>\n",
       "      <td>['Hayden James']</td>\n",
       "      <td>['aussietronica', 'edm', 'gauze pop', 'house',...</td>\n",
       "      <td>0.861</td>\n",
       "      <td>0.602</td>\n",
       "      <td>2</td>\n",
       "      <td>-7.314</td>\n",
       "      <td>0</td>\n",
       "      <td>...</td>\n",
       "      <td>0.0751</td>\n",
       "      <td>0.684</td>\n",
       "      <td>114.978</td>\n",
       "      <td>audio_features</td>\n",
       "      <td>5n9DJWUiwuKuPE9sCVbQ0n</td>\n",
       "      <td>spotify:track:5n9DJWUiwuKuPE9sCVbQ0n</td>\n",
       "      <td>https://api.spotify.com/v1/tracks/5n9DJWUiwuKu...</td>\n",
       "      <td>https://api.spotify.com/v1/audio-analysis/5n9D...</td>\n",
       "      <td>225181</td>\n",
       "      <td>4</td>\n",
       "    </tr>\n",
       "    <tr>\n",
       "      <th>1</th>\n",
       "      <td>Hayden James</td>\n",
       "      <td>Nowhere To Go - Dom Dolla Remix</td>\n",
       "      <td>47</td>\n",
       "      <td>['Hayden James']</td>\n",
       "      <td>['aussietronica', 'edm', 'gauze pop', 'house',...</td>\n",
       "      <td>0.689</td>\n",
       "      <td>0.857</td>\n",
       "      <td>0</td>\n",
       "      <td>-8.659</td>\n",
       "      <td>1</td>\n",
       "      <td>...</td>\n",
       "      <td>0.1530</td>\n",
       "      <td>0.338</td>\n",
       "      <td>124.002</td>\n",
       "      <td>audio_features</td>\n",
       "      <td>7ekeS8YQyRYI1JuhUlA83T</td>\n",
       "      <td>spotify:track:7ekeS8YQyRYI1JuhUlA83T</td>\n",
       "      <td>https://api.spotify.com/v1/tracks/7ekeS8YQyRYI...</td>\n",
       "      <td>https://api.spotify.com/v1/audio-analysis/7eke...</td>\n",
       "      <td>275085</td>\n",
       "      <td>4</td>\n",
       "    </tr>\n",
       "    <tr>\n",
       "      <th>2</th>\n",
       "      <td>RÜFÜS DU SOL</td>\n",
       "      <td>Treat You Better - Purple Disco Machine Remix</td>\n",
       "      <td>51</td>\n",
       "      <td>['RÜFÜS DU SOL', 'Purple Disco Machine']</td>\n",
       "      <td>['australian electropop', 'indietronica', 'tro...</td>\n",
       "      <td>0.801</td>\n",
       "      <td>0.854</td>\n",
       "      <td>5</td>\n",
       "      <td>-4.377</td>\n",
       "      <td>0</td>\n",
       "      <td>...</td>\n",
       "      <td>0.1550</td>\n",
       "      <td>0.899</td>\n",
       "      <td>122.033</td>\n",
       "      <td>audio_features</td>\n",
       "      <td>6MLvUL2dYphJTwgiBvuJ1J</td>\n",
       "      <td>spotify:track:6MLvUL2dYphJTwgiBvuJ1J</td>\n",
       "      <td>https://api.spotify.com/v1/tracks/6MLvUL2dYphJ...</td>\n",
       "      <td>https://api.spotify.com/v1/audio-analysis/6MLv...</td>\n",
       "      <td>257705</td>\n",
       "      <td>4</td>\n",
       "    </tr>\n",
       "    <tr>\n",
       "      <th>3</th>\n",
       "      <td>J. Cole</td>\n",
       "      <td>The Climb Back</td>\n",
       "      <td>82</td>\n",
       "      <td>['J. Cole']</td>\n",
       "      <td>['conscious hip hop', 'hip hop', 'north caroli...</td>\n",
       "      <td>0.610</td>\n",
       "      <td>0.569</td>\n",
       "      <td>10</td>\n",
       "      <td>-9.447</td>\n",
       "      <td>0</td>\n",
       "      <td>...</td>\n",
       "      <td>0.3370</td>\n",
       "      <td>0.287</td>\n",
       "      <td>81.409</td>\n",
       "      <td>audio_features</td>\n",
       "      <td>0FlfN5cbUUpIHCRH8X1M44</td>\n",
       "      <td>spotify:track:0FlfN5cbUUpIHCRH8X1M44</td>\n",
       "      <td>https://api.spotify.com/v1/tracks/0FlfN5cbUUpI...</td>\n",
       "      <td>https://api.spotify.com/v1/audio-analysis/0Flf...</td>\n",
       "      <td>304640</td>\n",
       "      <td>4</td>\n",
       "    </tr>\n",
       "    <tr>\n",
       "      <th>4</th>\n",
       "      <td>Ariana Grande</td>\n",
       "      <td>Stuck with U (with Justin Bieber)</td>\n",
       "      <td>93</td>\n",
       "      <td>['Ariana Grande', 'Justin Bieber']</td>\n",
       "      <td>['dance pop', 'pop', 'post-teen pop']</td>\n",
       "      <td>0.597</td>\n",
       "      <td>0.450</td>\n",
       "      <td>8</td>\n",
       "      <td>-6.658</td>\n",
       "      <td>1</td>\n",
       "      <td>...</td>\n",
       "      <td>0.3820</td>\n",
       "      <td>0.537</td>\n",
       "      <td>178.765</td>\n",
       "      <td>audio_features</td>\n",
       "      <td>4HBZA5flZLE435QTztThqH</td>\n",
       "      <td>spotify:track:4HBZA5flZLE435QTztThqH</td>\n",
       "      <td>https://api.spotify.com/v1/tracks/4HBZA5flZLE4...</td>\n",
       "      <td>https://api.spotify.com/v1/audio-analysis/4HBZ...</td>\n",
       "      <td>228482</td>\n",
       "      <td>3</td>\n",
       "    </tr>\n",
       "  </tbody>\n",
       "</table>\n",
       "<p>5 rows × 23 columns</p>\n",
       "</div>"
      ],
      "text/plain": [
       "     artist name                                     track name  popularity  \\\n",
       "0   Hayden James                            Something About You          62   \n",
       "1   Hayden James                Nowhere To Go - Dom Dolla Remix          47   \n",
       "2   RÜFÜS DU SOL  Treat You Better - Purple Disco Machine Remix          51   \n",
       "3        J. Cole                                 The Climb Back          82   \n",
       "4  Ariana Grande              Stuck with U (with Justin Bieber)          93   \n",
       "\n",
       "                                    artists  \\\n",
       "0                          ['Hayden James']   \n",
       "1                          ['Hayden James']   \n",
       "2  ['RÜFÜS DU SOL', 'Purple Disco Machine']   \n",
       "3                               ['J. Cole']   \n",
       "4        ['Ariana Grande', 'Justin Bieber']   \n",
       "\n",
       "                                              genres  danceability  energy  \\\n",
       "0  ['aussietronica', 'edm', 'gauze pop', 'house',...         0.861   0.602   \n",
       "1  ['aussietronica', 'edm', 'gauze pop', 'house',...         0.689   0.857   \n",
       "2  ['australian electropop', 'indietronica', 'tro...         0.801   0.854   \n",
       "3  ['conscious hip hop', 'hip hop', 'north caroli...         0.610   0.569   \n",
       "4              ['dance pop', 'pop', 'post-teen pop']         0.597   0.450   \n",
       "\n",
       "   key  loudness  mode  ...  liveness  valence    tempo            type  \\\n",
       "0    2    -7.314     0  ...    0.0751    0.684  114.978  audio_features   \n",
       "1    0    -8.659     1  ...    0.1530    0.338  124.002  audio_features   \n",
       "2    5    -4.377     0  ...    0.1550    0.899  122.033  audio_features   \n",
       "3   10    -9.447     0  ...    0.3370    0.287   81.409  audio_features   \n",
       "4    8    -6.658     1  ...    0.3820    0.537  178.765  audio_features   \n",
       "\n",
       "                       id                                   uri  \\\n",
       "0  5n9DJWUiwuKuPE9sCVbQ0n  spotify:track:5n9DJWUiwuKuPE9sCVbQ0n   \n",
       "1  7ekeS8YQyRYI1JuhUlA83T  spotify:track:7ekeS8YQyRYI1JuhUlA83T   \n",
       "2  6MLvUL2dYphJTwgiBvuJ1J  spotify:track:6MLvUL2dYphJTwgiBvuJ1J   \n",
       "3  0FlfN5cbUUpIHCRH8X1M44  spotify:track:0FlfN5cbUUpIHCRH8X1M44   \n",
       "4  4HBZA5flZLE435QTztThqH  spotify:track:4HBZA5flZLE435QTztThqH   \n",
       "\n",
       "                                          track_href  \\\n",
       "0  https://api.spotify.com/v1/tracks/5n9DJWUiwuKu...   \n",
       "1  https://api.spotify.com/v1/tracks/7ekeS8YQyRYI...   \n",
       "2  https://api.spotify.com/v1/tracks/6MLvUL2dYphJ...   \n",
       "3  https://api.spotify.com/v1/tracks/0FlfN5cbUUpI...   \n",
       "4  https://api.spotify.com/v1/tracks/4HBZA5flZLE4...   \n",
       "\n",
       "                                        analysis_url duration_ms  \\\n",
       "0  https://api.spotify.com/v1/audio-analysis/5n9D...      225181   \n",
       "1  https://api.spotify.com/v1/audio-analysis/7eke...      275085   \n",
       "2  https://api.spotify.com/v1/audio-analysis/6MLv...      257705   \n",
       "3  https://api.spotify.com/v1/audio-analysis/0Flf...      304640   \n",
       "4  https://api.spotify.com/v1/audio-analysis/4HBZ...      228482   \n",
       "\n",
       "  time_signature  \n",
       "0              4  \n",
       "1              4  \n",
       "2              4  \n",
       "3              4  \n",
       "4              3  \n",
       "\n",
       "[5 rows x 23 columns]"
      ]
     },
     "execution_count": 5,
     "metadata": {},
     "output_type": "execute_result"
    }
   ],
   "source": [
    "#path = 'data'\n",
    "#os.chdir(path)\n",
    "df = pd.read_csv('working_data.csv')\n",
    "df.head()"
   ]
  },
  {
   "cell_type": "markdown",
   "metadata": {},
   "source": [
    "**vectorizing genres for tdidf**"
   ]
  },
  {
   "cell_type": "code",
   "execution_count": 6,
   "metadata": {},
   "outputs": [
    {
     "data": {
      "text/plain": [
       "Index(['artist name', 'track name', 'popularity', 'artists', 'genres',\n",
       "       'danceability', 'energy', 'key', 'loudness', 'mode', 'speechiness',\n",
       "       'acousticness', 'instrumentalness', 'liveness', 'valence', 'tempo',\n",
       "       'type', 'id', 'uri', 'track_href', 'analysis_url', 'duration_ms',\n",
       "       'time_signature'],\n",
       "      dtype='object')"
      ]
     },
     "execution_count": 6,
     "metadata": {},
     "output_type": "execute_result"
    }
   ],
   "source": [
    "df.columns"
   ]
  },
  {
   "cell_type": "code",
   "execution_count": 7,
   "metadata": {},
   "outputs": [],
   "source": [
    "import ast\n",
    "\n",
    "lst = ast.literal_eval(df['genres'][0])\n",
    "lst\n",
    "\n",
    "genre_string = []"
   ]
  },
  {
   "cell_type": "code",
   "execution_count": 8,
   "metadata": {},
   "outputs": [],
   "source": [
    "def genre_join():\n",
    "    for i in range(len(df['genres'])):\n",
    "        genre_list = ast.literal_eval(df['genres'][i])\n",
    "        \n",
    "        for j in range(len(genre_list)):\n",
    "            genre_list[j] = genre_list[j].replace(' ','-')\n",
    "            \n",
    "        genre_string.append(genre_list)\n",
    "        #genre_string.append(ast.literal_eval(df['genres'][i]))"
   ]
  },
  {
   "cell_type": "code",
   "execution_count": 9,
   "metadata": {},
   "outputs": [
    {
     "data": {
      "text/plain": [
       "['aussietronica edm gauze-pop house indie-soul tropical-house',\n",
       " 'aussietronica edm gauze-pop house indie-soul tropical-house',\n",
       " 'australian-electropop indietronica tropical-house',\n",
       " 'conscious-hip-hop hip-hop north-carolina-hip-hop rap',\n",
       " 'dance-pop pop post-teen-pop']"
      ]
     },
     "execution_count": 9,
     "metadata": {},
     "output_type": "execute_result"
    }
   ],
   "source": [
    "genre_join()\n",
    "for line in range(len(genre_string)):\n",
    "    genre_string[line] = ' '.join(genre_string[line])\n",
    "genre_string[:5]"
   ]
  },
  {
   "cell_type": "code",
   "execution_count": 10,
   "metadata": {},
   "outputs": [],
   "source": [
    "from sklearn.metrics.pairwise import cosine_similarity\n",
    "from sklearn.feature_extraction.text import TfidfVectorizer\n",
    "from sklearn.metrics.pairwise import linear_kernel"
   ]
  },
  {
   "cell_type": "code",
   "execution_count": 11,
   "metadata": {},
   "outputs": [
    {
     "data": {
      "text/plain": [
       "(668, 245)"
      ]
     },
     "execution_count": 11,
     "metadata": {},
     "output_type": "execute_result"
    }
   ],
   "source": [
    "tfidf = TfidfVectorizer()\n",
    "overview_matrix = tfidf.fit_transform(genre_string)\n",
    "overview_matrix.shape"
   ]
  },
  {
   "cell_type": "code",
   "execution_count": 12,
   "metadata": {},
   "outputs": [
    {
     "data": {
      "text/plain": [
       "array([1.        , 1.        , 0.24872059, 0.        , 0.08619179,\n",
       "       0.37704928, 0.11545571, 0.09774108, 0.        , 0.64871354,\n",
       "       0.09052175, 0.06839882, 0.0809493 , 0.42263762, 0.2953131 ,\n",
       "       0.08361291, 0.        , 0.41222897, 0.        , 0.38487771,\n",
       "       0.07829577, 0.37799536, 0.29310122, 0.41124784, 0.        ,\n",
       "       0.3961151 , 0.48031179, 0.2953131 , 0.        , 0.19508991,\n",
       "       0.1868882 , 0.1221021 , 0.37770744, 0.12034478, 0.        ,\n",
       "       0.06189617, 0.02501249, 0.04371435, 0.        , 0.0327967 ,\n",
       "       0.43472391, 0.43472391, 0.43472391, 0.19822783, 0.        ,\n",
       "       0.41222897, 0.41222897, 0.14398791, 0.28711599, 0.26868664,\n",
       "       0.3043738 , 0.        , 0.48031179, 0.16267741, 0.03670823,\n",
       "       0.42705165, 0.17279678, 0.09966621, 0.17279678, 0.0949521 ,\n",
       "       0.05963647, 0.14426237, 0.0455911 , 0.07032108, 0.23856835,\n",
       "       0.04465283, 0.03883531, 0.04173951, 0.0327967 , 0.14998233,\n",
       "       0.23473708, 0.15122114, 0.15122114, 0.30310435, 0.02178306,\n",
       "       0.15619996, 0.        , 0.08693499, 0.46884414, 0.0445926 ,\n",
       "       0.        , 0.06906405, 0.41129053, 0.04747373, 0.13147425,\n",
       "       0.33474221, 0.09019757, 0.11545571, 0.23473708, 0.11991963,\n",
       "       0.        , 0.0951888 , 0.13147425, 0.25072636, 0.02989991,\n",
       "       0.01506315, 0.26274697, 0.20801678, 0.03617721, 0.48750016,\n",
       "       0.34115754, 0.01848565, 0.19085832, 0.03344218, 0.3043738 ,\n",
       "       0.        , 0.13147425, 0.0809493 , 0.19314658, 0.2953131 ,\n",
       "       0.2953131 , 0.2953131 , 0.0951888 , 0.0951888 , 0.30310435,\n",
       "       0.20854074, 0.07032108, 0.09842781, 0.12957424, 0.3179172 ,\n",
       "       0.12571239, 0.        , 0.        , 0.03296441, 0.11545571,\n",
       "       0.11981163, 0.19314658, 0.10064649, 0.13659784, 0.22701455,\n",
       "       0.02007528, 0.23856835, 0.24461029, 0.04173951, 0.07829577,\n",
       "       0.19257032, 0.08186774, 0.25687339, 0.14686077, 0.16203726,\n",
       "       0.0591998 , 0.04635066, 0.04436094, 0.37704928, 0.14173443,\n",
       "       0.10909019, 0.55672404, 0.0809493 , 0.        , 0.08980661,\n",
       "       0.09842781, 0.12571239, 0.08227749, 0.30673329, 0.2953131 ,\n",
       "       0.22906033, 0.        , 0.        , 0.273363  , 0.        ,\n",
       "       0.        , 0.07829577, 0.05976048, 0.0951888 , 0.22278921,\n",
       "       0.1819881 , 0.        , 0.08619179, 0.05959855, 0.1526996 ,\n",
       "       0.07340694, 0.07340694, 0.28711599, 0.13147425, 0.0951888 ,\n",
       "       0.05015276, 0.37770744, 0.37770744, 0.2953131 , 0.10988406,\n",
       "       0.23473708, 0.07389127, 0.17464199, 0.2797339 , 0.05015276,\n",
       "       0.12553877, 0.2953131 , 0.13791056, 0.07845464, 0.07845464,\n",
       "       0.07845464, 0.13791056, 0.03883531, 0.07671494, 0.01963753,\n",
       "       0.        , 0.0809493 , 0.0809493 , 0.0809493 , 0.0809493 ,\n",
       "       0.08056547, 0.01528131, 0.48311634, 0.05079219, 0.22278921,\n",
       "       0.09425254, 0.33738389, 0.37770744, 0.38487771, 0.31072718,\n",
       "       0.0951888 , 0.04093067, 0.01946054, 0.11788717, 0.29310122,\n",
       "       0.12034478, 0.11940247, 0.02401485, 0.33474221, 0.0315425 ,\n",
       "       0.07626786, 0.30310435, 0.        , 0.29728464, 0.19899981,\n",
       "       0.02401485, 0.24872059, 0.29728464, 0.14998233, 0.23473708,\n",
       "       0.0327967 , 0.02206821, 0.07032108, 0.06886628, 0.08619179,\n",
       "       0.23650686, 0.16203726, 0.2953131 , 0.37770744, 0.0327967 ,\n",
       "       0.07845464, 0.23473708, 0.34671743, 0.34671743, 0.07215225,\n",
       "       0.05015276, 0.12979816, 0.23473708, 0.07626786, 0.29310122,\n",
       "       0.12964696, 0.21064411, 0.427409  , 0.23473708, 0.06190863,\n",
       "       0.23473708, 0.08543353, 0.05959855, 0.4933736 , 0.07845464,\n",
       "       0.09680827, 0.42884632, 0.15243715, 0.2819641 , 0.17998542,\n",
       "       0.14694688, 0.31908074, 0.12571239, 0.37337756, 0.55672404,\n",
       "       0.        , 0.09425254, 0.08040685, 0.06040052, 0.05028995,\n",
       "       0.55672404, 0.42263762, 0.42263762, 0.091898  , 0.42263762,\n",
       "       0.05959855, 0.        , 0.22786442, 0.31908074, 0.02199485,\n",
       "       0.09365675, 0.        , 0.48311634, 0.23473708, 0.17780952,\n",
       "       0.2819641 , 0.21064411, 0.29310122, 0.29310122, 0.41148881,\n",
       "       0.        , 0.13701251, 0.27971847, 0.17883928, 0.07845464,\n",
       "       0.15708752, 0.        , 0.06849174, 0.07845464, 0.30310435,\n",
       "       0.08619179, 0.11234714, 0.23473708, 0.39495354, 0.07487885,\n",
       "       0.        , 0.        , 1.        , 0.0956171 , 0.        ,\n",
       "       0.08349063, 0.03944267, 0.        , 0.        , 0.        ,\n",
       "       0.03446133, 0.11633292, 0.11633292, 0.25687339, 0.09774108,\n",
       "       0.43959021, 0.08725648, 0.        , 0.48311634, 0.35137022,\n",
       "       0.        , 0.        , 0.02101618, 0.13262533, 0.07032108,\n",
       "       0.12571239, 0.19899981, 0.46884414, 0.46884414, 0.04066181,\n",
       "       0.12384052, 0.11940247, 0.02101618, 0.19596675, 0.01629796,\n",
       "       0.31312795, 0.37782397, 0.55672404, 0.23473708, 0.05965333,\n",
       "       0.05965333, 0.00924816, 0.3972064 , 0.06530299, 0.01351698,\n",
       "       0.37770744, 0.35137022, 0.05959855, 0.13828231, 0.28711599,\n",
       "       0.05105547, 0.        , 0.        , 0.        , 0.11788717,\n",
       "       0.26773946, 0.07626786, 0.1104611 , 0.02365084, 0.01452117,\n",
       "       0.3961151 , 0.0476316 , 0.14388246, 0.43472391, 0.09973699,\n",
       "       0.26275672, 0.        , 0.0561504 , 0.48311634, 0.14686077,\n",
       "       0.15292734, 0.11788717, 0.19314658, 0.09222385, 0.06114514,\n",
       "       0.10061542, 0.07032108, 0.03822816, 0.        , 0.10542063,\n",
       "       0.        , 0.06114514, 0.        , 0.31908074, 0.2410188 ,\n",
       "       0.        , 0.        , 0.31615963, 0.46884414, 0.27389529,\n",
       "       0.11788717, 0.        , 0.04808722, 0.        , 0.10106834,\n",
       "       0.03831361, 0.11788717, 0.        , 0.13537331, 0.55672404,\n",
       "       0.10064649, 0.15122114, 0.07389127, 0.        , 0.        ,\n",
       "       0.02155042, 0.        , 0.05959855, 0.19871177, 0.33692458,\n",
       "       0.04767719, 0.11808615, 0.10258462, 0.08172931, 0.23856835,\n",
       "       0.12384052, 0.02206821, 0.08619179, 0.06867466, 0.0445926 ,\n",
       "       0.28711599, 0.07389127, 0.        , 0.0445926 , 0.        ,\n",
       "       0.02542018, 0.0445926 , 0.1819881 , 0.        , 0.12384052,\n",
       "       0.48311634, 0.17817644, 0.        , 0.03758463, 0.        ,\n",
       "       0.20854074, 0.04066181, 0.01098944, 0.07697908, 0.01886778,\n",
       "       0.01834554, 0.02457908, 0.41222897, 0.0949521 , 0.14104278,\n",
       "       0.36756963, 0.02506843, 0.1920778 , 0.02506843, 0.03450605,\n",
       "       0.        , 0.14762637, 0.0591998 , 0.0378    , 0.10234011,\n",
       "       0.0433732 , 0.03758463, 0.        , 0.273363  , 0.07272634,\n",
       "       0.23473708, 0.48031179, 0.        , 0.06886628, 0.        ,\n",
       "       0.        , 0.51339649, 0.48311634, 0.        , 0.07032108,\n",
       "       0.        , 0.48031179, 0.07626786, 0.02932484, 0.07896308,\n",
       "       0.04635066, 0.21503825, 0.27124088, 0.04583378, 0.43472391,\n",
       "       0.18828111, 0.23473708, 0.36439322, 0.09453553, 0.        ,\n",
       "       0.15450917, 0.12957424, 0.07272634, 0.        , 0.0591998 ,\n",
       "       0.        , 0.        , 0.46884414, 0.07272634, 0.27577931,\n",
       "       0.11940247, 0.13701251, 0.02159361, 0.27232001, 0.11491485,\n",
       "       0.        , 0.10700085, 0.        , 0.14565069, 0.10064649,\n",
       "       0.09525073, 0.04173951, 0.08299515, 0.07032108, 0.13589594,\n",
       "       0.03450605, 0.04173951, 0.43472391, 0.29727498, 0.27124088,\n",
       "       0.        , 0.17157317, 0.        , 0.07272634, 0.12571239,\n",
       "       0.07340694, 0.        , 0.        , 0.02159361, 0.0327967 ,\n",
       "       0.12571239, 0.05927491, 0.        , 0.        , 0.48311634,\n",
       "       0.23473708, 0.23473708, 0.        , 0.04635066, 0.07845464,\n",
       "       0.47352803, 0.37782397, 0.        , 0.05976048, 0.        ,\n",
       "       0.17464199, 0.        , 0.19508991, 0.14998233, 0.09719453,\n",
       "       0.01351698, 0.0591998 , 0.13147425, 0.41129053, 0.3961151 ,\n",
       "       0.07032108, 0.17511468, 0.12783758, 0.12957424, 0.55672404,\n",
       "       0.07174015, 0.37337756, 0.07908506, 0.19314658, 0.07389127,\n",
       "       0.26187189, 0.37782397, 0.14998233, 0.12957424, 0.11368253,\n",
       "       0.        , 0.0930419 , 0.        , 0.        , 0.        ,\n",
       "       0.09442584, 0.0735174 , 0.        , 0.05079219, 0.10780094,\n",
       "       1.        , 0.10026189, 0.        , 0.        , 0.07771472,\n",
       "       0.02985788, 0.42884632, 0.08619179, 0.12505961, 0.0809493 ,\n",
       "       0.10700085, 0.3972064 , 0.17400328, 0.        , 0.07340694,\n",
       "       0.0591998 , 0.16016179, 0.07152389, 0.36097957, 0.13147425,\n",
       "       0.        , 0.06264011, 0.0315425 , 0.42705165, 0.1220364 ,\n",
       "       0.38731528, 0.        , 0.04173951, 0.20854074, 0.        ,\n",
       "       0.        , 0.12957424, 0.08327503, 0.04173951, 0.04173951,\n",
       "       0.26773946, 0.02548923, 0.        , 0.20965988, 0.07340694,\n",
       "       0.1607811 , 0.10780094, 0.10700085, 0.        , 0.11788717,\n",
       "       0.11179193, 0.17511468, 0.05028995, 0.01629796, 0.        ,\n",
       "       0.3362768 , 0.09026625, 0.04812663, 0.12384052, 0.08536151,\n",
       "       0.48750016, 0.21503825, 0.04173951, 0.11788717, 0.3972064 ,\n",
       "       0.51339649, 0.0729193 , 0.10780094, 0.06616921, 0.42705165,\n",
       "       0.10646337, 0.02972515, 0.1101629 , 0.26553091, 0.10700085,\n",
       "       0.10700085, 0.08246305, 0.43472391, 0.10542063, 0.42705165,\n",
       "       0.37782397, 0.1220364 , 0.10388954, 0.05284393, 0.23856835,\n",
       "       0.08693499, 0.05544016, 0.3972064 ])"
      ]
     },
     "execution_count": 12,
     "metadata": {},
     "output_type": "execute_result"
    }
   ],
   "source": [
    "similarity_matrix = linear_kernel(overview_matrix,overview_matrix)\n",
    "similarity_matrix[0,:]"
   ]
  },
  {
   "cell_type": "code",
   "execution_count": 13,
   "metadata": {},
   "outputs": [
    {
     "data": {
      "text/plain": [
       "Index(['artist name', 'track name', 'popularity', 'artists', 'genres',\n",
       "       'danceability', 'energy', 'key', 'loudness', 'mode', 'speechiness',\n",
       "       'acousticness', 'instrumentalness', 'liveness', 'valence', 'tempo',\n",
       "       'type', 'id', 'uri', 'track_href', 'analysis_url', 'duration_ms',\n",
       "       'time_signature'],\n",
       "      dtype='object')"
      ]
     },
     "execution_count": 13,
     "metadata": {},
     "output_type": "execute_result"
    }
   ],
   "source": [
    "df.columns"
   ]
  },
  {
   "cell_type": "code",
   "execution_count": 18,
   "metadata": {},
   "outputs": [
    {
     "data": {
      "text/plain": [
       "track name\n",
       "Something About You                                0\n",
       "Nowhere To Go - Dom Dolla Remix                    1\n",
       "Treat You Better - Purple Disco Machine Remix      2\n",
       "The Climb Back                                     3\n",
       "Stuck with U (with Justin Bieber)                  4\n",
       "                                                ... \n",
       "Bright Whites                                    663\n",
       "Waiting Game                                     664\n",
       "The High Road                                    665\n",
       "First                                            666\n",
       "You & Me - Flume Remix                           667\n",
       "Length: 668, dtype: int64"
      ]
     },
     "execution_count": 18,
     "metadata": {},
     "output_type": "execute_result"
    }
   ],
   "source": [
    "mapping = pd.Series(df.index,index = df['track name'])\n",
    "mapping"
   ]
  },
  {
   "cell_type": "code",
   "execution_count": 42,
   "metadata": {},
   "outputs": [],
   "source": [
    "def get_genre_rec(id=None,neighbors = None):\n",
    "    track_index = mapping[id]\n",
    "    similarity_score = list(enumerate(similarity_matrix[id]))\n",
    "    similarity_score = sorted(similarity_score, key=lambda x: x[1], reverse=True)\n",
    "    sim_scores = similarity_score[1:neighbors]\n",
    "    names = [i[0] for i in sim_scores]\n",
    "    return df['track name'].iloc[names] + ' - ' + df['artists'].iloc[names]"
   ]
  },
  {
   "cell_type": "code",
   "execution_count": 46,
   "metadata": {},
   "outputs": [
    {
     "data": {
      "text/plain": [
       "500                         DEVASTATED - ['Joey Bada$$']\n",
       "130            Hercules [Feat. Swizz Beatz] - ['Common']\n",
       "395    4th Dimension - ['KIDS SEE GHOSTS', 'Kanye Wes...\n",
       "331                      Charlie Brown - ['Rejjie Snow']\n",
       "538    Egyptian Luvr (feat. Aminé and Dana Williams) ...\n",
       "351                       Tribe (with J. Cole) - ['Bas']\n",
       "105      The Feels (feat. Portugal. The Man) - ['Kemba']\n",
       "460                          Alien Boy - ['Oliver Tree']\n",
       "354             65th & Ingleside - ['Chance the Rapper']\n",
       "555    Summer Friends (feat. Jeremih & Francis & The ...\n",
       "dtype: object"
      ]
     },
     "execution_count": 46,
     "metadata": {},
     "output_type": "execute_result"
    }
   ],
   "source": [
    "get_genre_rec(3,11)"
   ]
  },
  {
   "cell_type": "code",
   "execution_count": 141,
   "metadata": {},
   "outputs": [],
   "source": [
    "# to be continued here https://medium.com/analytics-vidhya/content-based-recommender-systems-in-python-2b330e01eb80\n",
    "# https://www.kaggle.com/rounakbanik/movie-recommender-systems"
   ]
  },
  {
   "cell_type": "markdown",
   "metadata": {},
   "source": [
    "**Since there are not many means to tune results from the KMeans model, I will attempt different scaling methods as well as the neighboring tree algorithms (kd tree, ball tree) in order to see how / if results are affected. For comparison's sake, I will choose 3 tracks to represent recommendations for 3 distinct genres**"
   ]
  },
  {
   "cell_type": "markdown",
   "metadata": {},
   "source": [
    "**MinMax Scaling**"
   ]
  },
  {
   "cell_type": "code",
   "execution_count": 12,
   "metadata": {},
   "outputs": [],
   "source": [
    "from sklearn.preprocessing import MinMaxScaler\n",
    "\n",
    "min_max_scaler = MinMaxScaler()\n",
    "\n",
    "df_x = df.drop(['track name','artist name','artists','genres','type','id','uri','track_href','analysis_url'], axis =1)\n",
    "\n",
    "minmax_x = min_max_scaler.fit_transform(df_x)"
   ]
  },
  {
   "cell_type": "code",
   "execution_count": 13,
   "metadata": {},
   "outputs": [
    {
     "ename": "NameError",
     "evalue": "name 'np' is not defined",
     "output_type": "error",
     "traceback": [
      "\u001b[1;31m---------------------------------------------------------------------------\u001b[0m",
      "\u001b[1;31mNameError\u001b[0m                                 Traceback (most recent call last)",
      "\u001b[1;32m<ipython-input-13-7bfe7377e3f0>\u001b[0m in \u001b[0;36m<module>\u001b[1;34m\u001b[0m\n\u001b[1;32m----> 1\u001b[1;33m \u001b[0mnp\u001b[0m\u001b[1;33m.\u001b[0m\u001b[0mconca\u001b[0m\u001b[1;33m\u001b[0m\u001b[1;33m\u001b[0m\u001b[0m\n\u001b[0m",
      "\u001b[1;31mNameError\u001b[0m: name 'np' is not defined"
     ]
    }
   ],
   "source": [
    "np.conca"
   ]
  },
  {
   "cell_type": "code",
   "execution_count": 29,
   "metadata": {},
   "outputs": [],
   "source": [
    "from sklearn.neighbors import NearestNeighbors\n",
    "nbrs_m = NearestNeighbors(n_neighbors = 11).fit(minmax_x)\n",
    "distance_m,indices_m = nbrs_m.kneighbors(minmax_x,return_distance=True)"
   ]
  },
  {
   "cell_type": "code",
   "execution_count": 30,
   "metadata": {},
   "outputs": [],
   "source": [
    "def get_index_from_name(name):\n",
    "    return df[df['track name']==name].index.tolist()[0]\n",
    "\n",
    "all_track_names = list(df['track name'].values)\n",
    "def get_id_from_partial_name(partial):\n",
    "    for name in all_track_names:\n",
    "        if partial in name:\n",
    "            print(name,all_track_names.index(name))\n",
    "\n",
    "def print_similar_tracks_minmax(query = None,id = None):\n",
    "    if id!=None:\n",
    "        for i in indices_m[id][1:]:\n",
    "            print(df.iloc[i]['artist name'],\"-\",df.iloc[i]['track name'], '-',distance_m[id][1:])\n",
    "    if query!=None:\n",
    "        found_id = get_index_from_name(query)\n",
    "        for id in indices_m[found_id][1:]:\n",
    "            print(df.iloc[id]['artist name'],\"-\",df.iloc[id]['track name'],\"-\",distance_m[id][1:])"
   ]
  },
  {
   "cell_type": "code",
   "execution_count": 58,
   "metadata": {},
   "outputs": [
    {
     "data": {
      "text/plain": [
       "(array([0.27636895, 0.35974211, 0.41522981, 0.42856203, 0.43239079,\n",
       "        0.44022153, 0.50670611, 0.5072527 , 0.51082415, 0.52716158]),\n",
       " array([469,  54, 162, 371, 573, 533,  89, 536, 151, 521], dtype=int64))"
      ]
     },
     "execution_count": 58,
     "metadata": {},
     "output_type": "execute_result"
    }
   ],
   "source": [
    "distance_m[0,1:],indices_m[0,1:]"
   ]
  },
  {
   "cell_type": "code",
   "execution_count": 20,
   "metadata": {},
   "outputs": [
    {
     "name": "stdout",
     "output_type": "stream",
     "text": [
      "Ne-Yo - Push Back (Ne-Yo, Bebe Rexha, Stefflon Don) - [0.27636895 0.35974211 0.41522981 0.42856203 0.43239079 0.44022153\n",
      " 0.50670611 0.5072527  0.51082415]\n",
      "Jorja Smith - Be Honest (feat. Burna Boy) - [0.27636895 0.35974211 0.41522981 0.42856203 0.43239079 0.44022153\n",
      " 0.50670611 0.5072527  0.51082415]\n",
      "Easy Life - Sunday - [0.27636895 0.35974211 0.41522981 0.42856203 0.43239079 0.44022153\n",
      " 0.50670611 0.5072527  0.51082415]\n",
      "Justine Skye - Know Myself - [0.27636895 0.35974211 0.41522981 0.42856203 0.43239079 0.44022153\n",
      " 0.50670611 0.5072527  0.51082415]\n",
      "Quinn XCII - Flare Guns - [0.27636895 0.35974211 0.41522981 0.42856203 0.43239079 0.44022153\n",
      " 0.50670611 0.5072527  0.51082415]\n",
      "Bishop Briggs - River - [0.27636895 0.35974211 0.41522981 0.42856203 0.43239079 0.44022153\n",
      " 0.50670611 0.5072527  0.51082415]\n",
      "DROELOE - Sunburn - [0.27636895 0.35974211 0.41522981 0.42856203 0.43239079 0.44022153\n",
      " 0.50670611 0.5072527  0.51082415]\n",
      "Kali Uchis - After The Storm (feat. Tyler, The Creator & Bootsy Collins) - [0.27636895 0.35974211 0.41522981 0.42856203 0.43239079 0.44022153\n",
      " 0.50670611 0.5072527  0.51082415]\n",
      "Mura Masa - Complicated - [0.27636895 0.35974211 0.41522981 0.42856203 0.43239079 0.44022153\n",
      " 0.50670611 0.5072527  0.51082415]\n"
     ]
    }
   ],
   "source": [
    "#Rock Bottom (Generic Pop)\n",
    "print_similar_tracks_minmax(id=0)"
   ]
  },
  {
   "cell_type": "code",
   "execution_count": 18,
   "metadata": {},
   "outputs": [
    {
     "name": "stdout",
     "output_type": "stream",
     "text": [
      "Lane 8 - Don't Let Me Go\n",
      "Excision - Gold (Stupid Love)\n",
      "Said the Sky - All I Got\n",
      "Louis The Child - Free (with Drew Love)\n",
      "Tourist - Emily\n",
      "Shallou - Find\n",
      "Ryn Weaver - OctaHate - Cashmere Cat Remix\n",
      "Jai Wolf - This Song Reminds Me Of You\n",
      "ILLENIUM - In Your Arms (with X Ambassadors)\n"
     ]
    }
   ],
   "source": [
    "#'Til Tonight (EDM)\n",
    "print_similar_tracks_minmax(id=27)"
   ]
  },
  {
   "cell_type": "code",
   "execution_count": 80,
   "metadata": {},
   "outputs": [
    {
     "name": "stdout",
     "output_type": "stream",
     "text": [
      "Snakehips - All My Friends (feat. Tinashe & Chance the Rapper)\n",
      "Kygo - Remind Me to Forget\n",
      "KAYTRANADA - YOU'RE THE ONE\n",
      "Kanye West - Gone\n",
      "Sabrina Claudio vs. - Don't Let Me Down - Sabrina Claudio vs. Devault Remix\n",
      "Jai Wolf - Lost (feat. Chelsea Jade)\n",
      "Louis The Child - Better Not (feat. Wafia) - Hotel Garuda Remix\n",
      "Louis The Child - Free (with Drew Love)\n",
      "Bleachers - Everybody Lost Somebody\n"
     ]
    }
   ],
   "source": [
    "#65th & Ingleside (Hip hop / Rap)\n",
    "print_similar_tracks_minmax(id=342)"
   ]
  },
  {
   "cell_type": "markdown",
   "metadata": {},
   "source": [
    "**Absolute scaling**"
   ]
  },
  {
   "cell_type": "code",
   "execution_count": 37,
   "metadata": {},
   "outputs": [],
   "source": [
    "from sklearn.preprocessing import MaxAbsScaler\n",
    "\n",
    "maxabs_scaler = MaxAbsScaler()\n",
    "maxabs_x = maxabs_scaler.fit_transform(df_x)\n",
    "\n",
    "nbrs_max = NearestNeighbors(n_neighbors = 10).fit(maxabs_x)\n",
    "distance_max,indices_max = nbrs_max.kneighbors(maxabs_x)\n",
    "\n",
    "def print_similar_tracks_max(query = None,id = None):\n",
    "    if id!=None:\n",
    "        for i in indices_max[id][1:]:\n",
    "            print(df.iloc[i]['artist_0'],\"-\",df.iloc[i]['track name'])\n",
    "    if query!=None:\n",
    "        found_id = get_index_from_name(query)\n",
    "        for id in indices_max[found_id][1:]:\n",
    "            print(df.iloc[id]['artist_0'],\"-\",df.iloc[id]['track name'])"
   ]
  },
  {
   "cell_type": "code",
   "execution_count": 78,
   "metadata": {},
   "outputs": [
    {
     "name": "stdout",
     "output_type": "stream",
     "text": [
      "The Lumineers - Cleopatra\n",
      "DEAN - D (Half Moon)\n",
      "Twin Shadow - Saturdays (feat. HAIM)\n",
      "Calvin Harris - I Need Your Love (feat. Ellie Goulding)\n",
      "Aries - CAROUSEL\n",
      "NOTD - So Close\n",
      "Fall Out Boy - Wilson (Expensive Mistakes)\n",
      "Mura Masa - 1 Night (feat. Charli XCX)\n",
      "Just A Gent - Limelight (feat. R O Z E S)\n"
     ]
    }
   ],
   "source": [
    "#Rock Bottom (Generic Pop)\n",
    "print_similar_tracks_max(id=580)"
   ]
  },
  {
   "cell_type": "code",
   "execution_count": 31,
   "metadata": {},
   "outputs": [
    {
     "name": "stdout",
     "output_type": "stream",
     "text": [
      "Black Caviar - Moonpie\n",
      "Kevin George - High Like This\n",
      "Lola Marsh - You're Mine\n",
      "Above & Beyond Group Therapy - It's Yours (Flashback) [ABGT341]\n",
      "Jauz - Gassed Up\n",
      "courtship. - Stop for Nothing\n",
      "CHVRCHES - Miracle - The Juan Maclean Remix\n",
      "Al Bairre - Let's Fall in Love Some More\n",
      "Delta Spirit - Bushwick Blues\n"
     ]
    }
   ],
   "source": [
    "#'Til Tonight (EDM example)\n",
    "print_similar_tracks_max(id=27)"
   ]
  },
  {
   "cell_type": "code",
   "execution_count": 75,
   "metadata": {},
   "outputs": [
    {
     "name": "stdout",
     "output_type": "stream",
     "text": [
      "Snakehips - All My Friends (feat. Tinashe & Chance the Rapper)\n",
      "Bleachers - Everybody Lost Somebody\n",
      "Kygo - Remind Me to Forget\n",
      "KAYTRANADA - YOU'RE THE ONE\n",
      "Sabrina Claudio vs. - Don't Let Me Down - Sabrina Claudio vs. Devault Remix\n",
      "Louis Futon - Surreal\n",
      "Kanye West - Gone\n",
      "Jai Wolf - Lost (feat. Chelsea Jade)\n",
      "Louis The Child - Free (with Drew Love)\n"
     ]
    }
   ],
   "source": [
    "#65th & Ingleside (hip hop / rap)\n",
    "print_similar_tracks_max(id=342)"
   ]
  },
  {
   "cell_type": "markdown",
   "metadata": {},
   "source": [
    "**Standard Scaling**"
   ]
  },
  {
   "cell_type": "code",
   "execution_count": 1,
   "metadata": {},
   "outputs": [],
   "source": [
    "def print_similar_tracks_ss(query = None,id = None):\n",
    "    if id!=None:\n",
    "        for i in indices_ss[id][1:]:\n",
    "            print(df.iloc[i]['artist_0'],\"-\",df.iloc[i]['track name'])\n",
    "    if query!=None:\n",
    "        found_id = get_index_from_name(query)\n",
    "        for id in indices_ss[found_id][1:]:\n",
    "            print(df.iloc[id]['artist_0'],\"-\",df.iloc[id]['track name'])"
   ]
  },
  {
   "cell_type": "code",
   "execution_count": 13,
   "metadata": {},
   "outputs": [],
   "source": [
    "from sklearn.preprocessing import StandardScaler\n",
    "\n",
    "standard_scale = StandardScaler()\n",
    "standard_x = standard_scale.fit_transform(df_x)\n",
    "\n",
    "nbrs_ss = NearestNeighbors(n_neighbors = 10).fit(standard_x)\n",
    "distance_ss,indices_ss = nbrs_ss.kneighbors(standard_x)"
   ]
  },
  {
   "cell_type": "code",
   "execution_count": 14,
   "metadata": {},
   "outputs": [
    {
     "name": "stdout",
     "output_type": "stream",
     "text": [
      "The Lumineers - Cleopatra\n",
      "Twin Shadow - Saturdays (feat. HAIM)\n",
      "DEAN - D (Half Moon)\n",
      "Fall Out Boy - Wilson (Expensive Mistakes)\n",
      "NOTD - So Close\n",
      "Aries - CAROUSEL\n",
      "Lola Marsh - You're Mine\n",
      "Mr. Probz - Nothing Really Matters - Afrojack Remix\n",
      "Gryffin - Winnebago (feat. Quinn XCII & Daniel Wilson)\n"
     ]
    }
   ],
   "source": [
    "#Rock Bottom (Generic Pop)\n",
    "print_similar_tracks_ss(id=580)"
   ]
  },
  {
   "cell_type": "code",
   "execution_count": 15,
   "metadata": {},
   "outputs": [
    {
     "name": "stdout",
     "output_type": "stream",
     "text": [
      "CHVRCHES - Miracle - The Juan Maclean Remix\n",
      "Pierce Fulton - Kuaga - Original Mix\n",
      "Above & Beyond Group Therapy - It's Yours (Flashback) [ABGT341]\n",
      "Lola Marsh - You're Mine\n",
      "courtship. - Stop for Nothing\n",
      "ODESZA - Falls - The Knocks Get Up Mix\n",
      "Steve Aoki - Back 2 U (feat. WALK THE MOON)\n",
      "RAC - Let Go\n",
      "Mat Zo - Lust\n"
     ]
    }
   ],
   "source": [
    "#'Til Tonight (EDM)\n",
    "print_similar_tracks_ss(id=27)"
   ]
  },
  {
   "cell_type": "code",
   "execution_count": 16,
   "metadata": {},
   "outputs": [
    {
     "name": "stdout",
     "output_type": "stream",
     "text": [
      "KAYTRANADA - YOU'RE THE ONE\n",
      "Kanye West - Gone\n",
      "Various Artists - Quicksand\n",
      "Snakehips - All My Friends (feat. Tinashe & Chance the Rapper)\n",
      "Kendrick Lamar - X (with 2 Chainz & Saudi)\n",
      "Kygo - Remind Me to Forget\n",
      "Louis The Child - Better Not (feat. Wafia) - Hotel Garuda Remix\n",
      "Sabrina Claudio vs. - Don't Let Me Down - Sabrina Claudio vs. Devault Remix\n",
      "SBTRKT - Wildfire\n"
     ]
    }
   ],
   "source": [
    "#65th & Ingleside (hip hop / rap)\n",
    "print_similar_tracks_ss(id=342)"
   ]
  },
  {
   "cell_type": "markdown",
   "metadata": {},
   "source": [
    "**Personally, I liked the standard scaling recommendations best both in terms of the track choices and ordering (distance from near to far from the initial track). In terms of overall quality in making sensible recommendations I believe the standard scaler provides the best results**"
   ]
  },
  {
   "cell_type": "markdown",
   "metadata": {},
   "source": [
    "**I will also attempt different neighboring algorithms as a final means to tune the recommendations. The current algorithm is the default which means either of the KD Tree or the Ball Tree algorithms may produce similar results.**"
   ]
  },
  {
   "cell_type": "code",
   "execution_count": 94,
   "metadata": {},
   "outputs": [],
   "source": [
    "nbrs_bss = NearestNeighbors(n_neighbors = 10,algorithm='brute').fit(standard_x)\n",
    "distance_bss,indices_bss = nbrs_bss.kneighbors(standard_x)\n",
    "\n",
    "def print_similar_tracks_bss(query = None,id = None):\n",
    "    if id!=None:\n",
    "        for i in indices_bss[id][1:]:\n",
    "            print(df.iloc[i]['artist_0'],\"-\",df.iloc[i]['track name'])\n",
    "    if query!=None:\n",
    "        found_id = get_index_from_name(query)\n",
    "        for id in indices_bss[found_id][1:]:\n",
    "            print(df.iloc[id]['artist_0'],\"-\",df.iloc[id]['track name'])"
   ]
  },
  {
   "cell_type": "code",
   "execution_count": 95,
   "metadata": {},
   "outputs": [
    {
     "name": "stdout",
     "output_type": "stream",
     "text": [
      "CHVRCHES - Miracle - The Juan Maclean Remix\n",
      "Pierce Fulton - Kuaga - Original Mix\n",
      "Above & Beyond Group Therapy - It's Yours (Flashback) [ABGT341]\n",
      "Lola Marsh - You're Mine\n",
      "courtship. - Stop for Nothing\n",
      "ODESZA - Falls - The Knocks Get Up Mix\n",
      "Steve Aoki - Back 2 U (feat. WALK THE MOON)\n",
      "RAC - Let Go\n",
      "Mat Zo - Lust\n"
     ]
    }
   ],
   "source": [
    "#Rock Bottom (Generic Pop)\n",
    "print_similar_tracks_bss(id=27)"
   ]
  },
  {
   "cell_type": "markdown",
   "metadata": {},
   "source": [
    "**It appears that this is indeed the same as the previous results thus the best algorithm determined by the library was ball tree**"
   ]
  },
  {
   "cell_type": "code",
   "execution_count": 89,
   "metadata": {},
   "outputs": [],
   "source": [
    "nbrs_kss = NearestNeighbors(n_neighbors = 10,algorithm='kd_tree').fit(standard_x)\n",
    "distance_kss,indices_kss = nbrs_kss.kneighbors(standard_x)\n",
    "\n",
    "def print_similar_tracks_kss(query = None,id = None):\n",
    "    if id!=None:\n",
    "        for i in indices_kss[id][1:]:\n",
    "            print(df.iloc[i]['artist_0'],\"-\",df.iloc[i]['track name'])\n",
    "    if query!=None:\n",
    "        found_id = get_index_from_name(query)\n",
    "        for id in indices_kss[found_id][1:]:\n",
    "            print(df.iloc[id]['artist_0'],\"-\",df.iloc[id]['track name'])"
   ]
  },
  {
   "cell_type": "code",
   "execution_count": 92,
   "metadata": {},
   "outputs": [
    {
     "name": "stdout",
     "output_type": "stream",
     "text": [
      "CHVRCHES - Miracle - The Juan Maclean Remix\n",
      "Pierce Fulton - Kuaga - Original Mix\n",
      "Above & Beyond Group Therapy - It's Yours (Flashback) [ABGT341]\n",
      "Lola Marsh - You're Mine\n",
      "courtship. - Stop for Nothing\n",
      "ODESZA - Falls - The Knocks Get Up Mix\n",
      "Steve Aoki - Back 2 U (feat. WALK THE MOON)\n",
      "RAC - Let Go\n",
      "Mat Zo - Lust\n"
     ]
    }
   ],
   "source": [
    "#Rock Bottom (Generic Pop)\n",
    "print_similar_tracks_kss(id=27)"
   ]
  },
  {
   "cell_type": "markdown",
   "metadata": {},
   "source": [
    "**Results are exactly the same thus choice of algorithms appear to be irrelevant**"
   ]
  },
  {
   "cell_type": "code",
   "execution_count": null,
   "metadata": {},
   "outputs": [],
   "source": []
  }
 ],
 "metadata": {
  "kernelspec": {
   "display_name": "Python 3",
   "language": "python",
   "name": "python3"
  },
  "language_info": {
   "codemirror_mode": {
    "name": "ipython",
    "version": 3
   },
   "file_extension": ".py",
   "mimetype": "text/x-python",
   "name": "python",
   "nbconvert_exporter": "python",
   "pygments_lexer": "ipython3",
   "version": "3.7.7"
  }
 },
 "nbformat": 4,
 "nbformat_minor": 4
}
