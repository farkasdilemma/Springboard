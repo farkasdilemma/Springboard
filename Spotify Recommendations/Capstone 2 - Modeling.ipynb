{
 "cells": [
  {
   "cell_type": "code",
   "execution_count": 1,
   "metadata": {},
   "outputs": [],
   "source": [
    "import pandas as pd\n",
    "from matplotlib import pyplot as plt\n",
    "import seaborn as sns\n",
    "import os"
   ]
  },
  {
   "cell_type": "code",
   "execution_count": 84,
   "metadata": {},
   "outputs": [
    {
     "data": {
      "text/html": [
       "<div>\n",
       "<style scoped>\n",
       "    .dataframe tbody tr th:only-of-type {\n",
       "        vertical-align: middle;\n",
       "    }\n",
       "\n",
       "    .dataframe tbody tr th {\n",
       "        vertical-align: top;\n",
       "    }\n",
       "\n",
       "    .dataframe thead th {\n",
       "        text-align: right;\n",
       "    }\n",
       "</style>\n",
       "<table border=\"1\" class=\"dataframe\">\n",
       "  <thead>\n",
       "    <tr style=\"text-align: right;\">\n",
       "      <th></th>\n",
       "      <th>album name</th>\n",
       "      <th>track name</th>\n",
       "      <th>popularity</th>\n",
       "      <th>danceability</th>\n",
       "      <th>energy</th>\n",
       "      <th>key</th>\n",
       "      <th>loudness</th>\n",
       "      <th>mode</th>\n",
       "      <th>speechiness</th>\n",
       "      <th>acousticness</th>\n",
       "      <th>instrumentalness</th>\n",
       "      <th>liveness</th>\n",
       "      <th>valence</th>\n",
       "      <th>tempo</th>\n",
       "      <th>duration_ms</th>\n",
       "      <th>time_signature</th>\n",
       "      <th>artist_0</th>\n",
       "      <th>Clusters</th>\n",
       "    </tr>\n",
       "  </thead>\n",
       "  <tbody>\n",
       "    <tr>\n",
       "      <th>0</th>\n",
       "      <td>ASCEND (Tour Edits)</td>\n",
       "      <td>Good Things Fall Apart vs. Sad Songs (With Sai...</td>\n",
       "      <td>52</td>\n",
       "      <td>0.563</td>\n",
       "      <td>0.555</td>\n",
       "      <td>2</td>\n",
       "      <td>-5.429</td>\n",
       "      <td>1</td>\n",
       "      <td>0.0288</td>\n",
       "      <td>0.110</td>\n",
       "      <td>0.000001</td>\n",
       "      <td>0.108</td>\n",
       "      <td>0.267</td>\n",
       "      <td>144.336</td>\n",
       "      <td>366253</td>\n",
       "      <td>4</td>\n",
       "      <td>ILLENIUM</td>\n",
       "      <td>2</td>\n",
       "    </tr>\n",
       "    <tr>\n",
       "      <th>1</th>\n",
       "      <td>Perfect Way To Die</td>\n",
       "      <td>Perfect Way To Die</td>\n",
       "      <td>30</td>\n",
       "      <td>0.365</td>\n",
       "      <td>0.398</td>\n",
       "      <td>5</td>\n",
       "      <td>-5.695</td>\n",
       "      <td>1</td>\n",
       "      <td>0.0530</td>\n",
       "      <td>0.934</td>\n",
       "      <td>0.000244</td>\n",
       "      <td>0.209</td>\n",
       "      <td>0.259</td>\n",
       "      <td>84.445</td>\n",
       "      <td>211621</td>\n",
       "      <td>4</td>\n",
       "      <td>Alicia Keys</td>\n",
       "      <td>0</td>\n",
       "    </tr>\n",
       "    <tr>\n",
       "      <th>2</th>\n",
       "      <td>Bigger Love</td>\n",
       "      <td>U Move, I Move (feat. Jhené Aiko)</td>\n",
       "      <td>34</td>\n",
       "      <td>0.379</td>\n",
       "      <td>0.249</td>\n",
       "      <td>11</td>\n",
       "      <td>-9.530</td>\n",
       "      <td>1</td>\n",
       "      <td>0.0761</td>\n",
       "      <td>0.840</td>\n",
       "      <td>0.000000</td>\n",
       "      <td>0.107</td>\n",
       "      <td>0.264</td>\n",
       "      <td>83.258</td>\n",
       "      <td>223933</td>\n",
       "      <td>4</td>\n",
       "      <td>John Legend</td>\n",
       "      <td>0</td>\n",
       "    </tr>\n",
       "    <tr>\n",
       "      <th>3</th>\n",
       "      <td>Don't Let Me Down (Sabrina Claudio vs. Devault...</td>\n",
       "      <td>Don't Let Me Down - Sabrina Claudio vs. Devaul...</td>\n",
       "      <td>62</td>\n",
       "      <td>0.648</td>\n",
       "      <td>0.651</td>\n",
       "      <td>1</td>\n",
       "      <td>-8.920</td>\n",
       "      <td>1</td>\n",
       "      <td>0.0995</td>\n",
       "      <td>0.298</td>\n",
       "      <td>0.026200</td>\n",
       "      <td>0.252</td>\n",
       "      <td>0.232</td>\n",
       "      <td>107.989</td>\n",
       "      <td>245000</td>\n",
       "      <td>4</td>\n",
       "      <td>Sabrina Claudio vs.</td>\n",
       "      <td>2</td>\n",
       "    </tr>\n",
       "    <tr>\n",
       "      <th>4</th>\n",
       "      <td>Quarantine Queen</td>\n",
       "      <td>Quarantine Queen</td>\n",
       "      <td>57</td>\n",
       "      <td>0.485</td>\n",
       "      <td>0.517</td>\n",
       "      <td>9</td>\n",
       "      <td>-4.850</td>\n",
       "      <td>1</td>\n",
       "      <td>0.3070</td>\n",
       "      <td>0.360</td>\n",
       "      <td>0.000000</td>\n",
       "      <td>0.199</td>\n",
       "      <td>0.358</td>\n",
       "      <td>116.641</td>\n",
       "      <td>236307</td>\n",
       "      <td>4</td>\n",
       "      <td>Sinead Harnett</td>\n",
       "      <td>0</td>\n",
       "    </tr>\n",
       "  </tbody>\n",
       "</table>\n",
       "</div>"
      ],
      "text/plain": [
       "                                          album name  \\\n",
       "0                                ASCEND (Tour Edits)   \n",
       "1                                 Perfect Way To Die   \n",
       "2                                        Bigger Love   \n",
       "3  Don't Let Me Down (Sabrina Claudio vs. Devault...   \n",
       "4                                   Quarantine Queen   \n",
       "\n",
       "                                          track name  popularity  \\\n",
       "0  Good Things Fall Apart vs. Sad Songs (With Sai...          52   \n",
       "1                                 Perfect Way To Die          30   \n",
       "2                  U Move, I Move (feat. Jhené Aiko)          34   \n",
       "3  Don't Let Me Down - Sabrina Claudio vs. Devaul...          62   \n",
       "4                                   Quarantine Queen          57   \n",
       "\n",
       "   danceability  energy  key  loudness  mode  speechiness  acousticness  \\\n",
       "0         0.563   0.555    2    -5.429     1       0.0288         0.110   \n",
       "1         0.365   0.398    5    -5.695     1       0.0530         0.934   \n",
       "2         0.379   0.249   11    -9.530     1       0.0761         0.840   \n",
       "3         0.648   0.651    1    -8.920     1       0.0995         0.298   \n",
       "4         0.485   0.517    9    -4.850     1       0.3070         0.360   \n",
       "\n",
       "   instrumentalness  liveness  valence    tempo  duration_ms  time_signature  \\\n",
       "0          0.000001     0.108    0.267  144.336       366253               4   \n",
       "1          0.000244     0.209    0.259   84.445       211621               4   \n",
       "2          0.000000     0.107    0.264   83.258       223933               4   \n",
       "3          0.026200     0.252    0.232  107.989       245000               4   \n",
       "4          0.000000     0.199    0.358  116.641       236307               4   \n",
       "\n",
       "              artist_0  Clusters  \n",
       "0             ILLENIUM         2  \n",
       "1          Alicia Keys         0  \n",
       "2          John Legend         0  \n",
       "3  Sabrina Claudio vs.         2  \n",
       "4       Sinead Harnett         0  "
      ]
     },
     "execution_count": 84,
     "metadata": {},
     "output_type": "execute_result"
    }
   ],
   "source": [
    "path = 'data'\n",
    "#os.chdir(path)\n",
    "df = pd.read_csv('working_data.csv')\n",
    "df.head()"
   ]
  },
  {
   "cell_type": "markdown",
   "metadata": {},
   "source": [
    "**Since there are not many means to tune results from the KMeans model, I will attempt different scaling methods as well as the neighboring tree algorithms (kd tree, ball tree) in order to see how / if results are affected. For comparison's sake, I will choose 3 tracks to represent recommendations for 3 distinct genres**"
   ]
  },
  {
   "cell_type": "markdown",
   "metadata": {},
   "source": [
    "**MinMax Scaling**"
   ]
  },
  {
   "cell_type": "code",
   "execution_count": 3,
   "metadata": {},
   "outputs": [],
   "source": [
    "from sklearn.preprocessing import MinMaxScaler\n",
    "\n",
    "min_max_scaler = MinMaxScaler()\n",
    "\n",
    "df_x = df.drop(['album name','track name','artist_0'], axis =1)\n",
    "\n",
    "minmax_x = min_max_scaler.fit_transform(df_x)"
   ]
  },
  {
   "cell_type": "code",
   "execution_count": 20,
   "metadata": {},
   "outputs": [],
   "source": [
    "from sklearn.neighbors import NearestNeighbors\n",
    "nbrs_m = NearestNeighbors(n_neighbors = 10).fit(minmax_x)\n",
    "distance_m,indices_m = nbrs_m.kneighbors(minmax_x,return_distance=True)"
   ]
  },
  {
   "cell_type": "code",
   "execution_count": 46,
   "metadata": {},
   "outputs": [],
   "source": [
    "def get_index_from_name(name):\n",
    "    return df[df['track name']==name].index.tolist()[0]\n",
    "\n",
    "all_track_names = list(df['track name'].values)\n",
    "def get_id_from_partial_name(partial):\n",
    "    for name in all_track_names:\n",
    "        if partial in name:\n",
    "            print(name,all_track_names.index(name))\n",
    "\n",
    "def print_similar_tracks_minmax(query = None,id = None):\n",
    "    if id!=None:\n",
    "        for i in indices_m[id][1:]:\n",
    "            print(df.iloc[i]['artist_0'],\"-\",df.iloc[i]['track name'])\n",
    "    if query!=None:\n",
    "        found_id = get_index_from_name(query)\n",
    "        for id in indices_m[found_id][1:]:\n",
    "            print(df.iloc[id]['artist_0'],\"-\",df.iloc[id]['track name'],\"-\",distance_m[id][1:])"
   ]
  },
  {
   "cell_type": "code",
   "execution_count": 74,
   "metadata": {},
   "outputs": [
    {
     "name": "stdout",
     "output_type": "stream",
     "text": [
      "The Lumineers - Cleopatra\n",
      "DEAN - D (Half Moon)\n",
      "Twin Shadow - Saturdays (feat. HAIM)\n",
      "Aries - CAROUSEL\n",
      "Calvin Harris - I Need Your Love (feat. Ellie Goulding)\n",
      "Fall Out Boy - Wilson (Expensive Mistakes)\n",
      "NOTD - So Close\n",
      "Lola Marsh - You're Mine\n",
      "Just A Gent - Limelight (feat. R O Z E S)\n"
     ]
    }
   ],
   "source": [
    "#Rock Bottom (Generic Pop)\n",
    "print_similar_tracks_minmax(id=580)"
   ]
  },
  {
   "cell_type": "code",
   "execution_count": 23,
   "metadata": {},
   "outputs": [
    {
     "name": "stdout",
     "output_type": "stream",
     "text": [
      "Lola Marsh - You're Mine\n",
      "Above & Beyond Group Therapy - It's Yours (Flashback) [ABGT341]\n",
      "CHVRCHES - Miracle - The Juan Maclean Remix\n",
      "Black Caviar - Moonpie\n",
      "courtship. - Stop for Nothing\n",
      "Kevin George - High Like This\n",
      "Jauz - Gassed Up\n",
      "Al Bairre - Let's Fall in Love Some More\n",
      "RAC - Let Go\n"
     ]
    }
   ],
   "source": [
    "#'Til Tonight (EDM)\n",
    "print_similar_tracks_minmax(id=27)"
   ]
  },
  {
   "cell_type": "code",
   "execution_count": 80,
   "metadata": {},
   "outputs": [
    {
     "name": "stdout",
     "output_type": "stream",
     "text": [
      "Snakehips - All My Friends (feat. Tinashe & Chance the Rapper)\n",
      "Kygo - Remind Me to Forget\n",
      "KAYTRANADA - YOU'RE THE ONE\n",
      "Kanye West - Gone\n",
      "Sabrina Claudio vs. - Don't Let Me Down - Sabrina Claudio vs. Devault Remix\n",
      "Jai Wolf - Lost (feat. Chelsea Jade)\n",
      "Louis The Child - Better Not (feat. Wafia) - Hotel Garuda Remix\n",
      "Louis The Child - Free (with Drew Love)\n",
      "Bleachers - Everybody Lost Somebody\n"
     ]
    }
   ],
   "source": [
    "#65th & Ingleside (Hip hop / Rap)\n",
    "print_similar_tracks_minmax(id=342)"
   ]
  },
  {
   "cell_type": "markdown",
   "metadata": {},
   "source": [
    "**Absolute scaling**"
   ]
  },
  {
   "cell_type": "code",
   "execution_count": 37,
   "metadata": {},
   "outputs": [],
   "source": [
    "from sklearn.preprocessing import MaxAbsScaler\n",
    "\n",
    "maxabs_scaler = MaxAbsScaler()\n",
    "maxabs_x = maxabs_scaler.fit_transform(df_x)\n",
    "\n",
    "nbrs_max = NearestNeighbors(n_neighbors = 10).fit(maxabs_x)\n",
    "distance_max,indices_max = nbrs_max.kneighbors(maxabs_x)\n",
    "\n",
    "def print_similar_tracks_max(query = None,id = None):\n",
    "    if id!=None:\n",
    "        for i in indices_max[id][1:]:\n",
    "            print(df.iloc[i]['artist_0'],\"-\",df.iloc[i]['track name'])\n",
    "    if query!=None:\n",
    "        found_id = get_index_from_name(query)\n",
    "        for id in indices_max[found_id][1:]:\n",
    "            print(df.iloc[id]['artist_0'],\"-\",df.iloc[id]['track name'])"
   ]
  },
  {
   "cell_type": "code",
   "execution_count": 78,
   "metadata": {},
   "outputs": [
    {
     "name": "stdout",
     "output_type": "stream",
     "text": [
      "The Lumineers - Cleopatra\n",
      "DEAN - D (Half Moon)\n",
      "Twin Shadow - Saturdays (feat. HAIM)\n",
      "Calvin Harris - I Need Your Love (feat. Ellie Goulding)\n",
      "Aries - CAROUSEL\n",
      "NOTD - So Close\n",
      "Fall Out Boy - Wilson (Expensive Mistakes)\n",
      "Mura Masa - 1 Night (feat. Charli XCX)\n",
      "Just A Gent - Limelight (feat. R O Z E S)\n"
     ]
    }
   ],
   "source": [
    "#Rock Bottom (Generic Pop)\n",
    "print_similar_tracks_max(id=580)"
   ]
  },
  {
   "cell_type": "code",
   "execution_count": 31,
   "metadata": {},
   "outputs": [
    {
     "name": "stdout",
     "output_type": "stream",
     "text": [
      "Black Caviar - Moonpie\n",
      "Kevin George - High Like This\n",
      "Lola Marsh - You're Mine\n",
      "Above & Beyond Group Therapy - It's Yours (Flashback) [ABGT341]\n",
      "Jauz - Gassed Up\n",
      "courtship. - Stop for Nothing\n",
      "CHVRCHES - Miracle - The Juan Maclean Remix\n",
      "Al Bairre - Let's Fall in Love Some More\n",
      "Delta Spirit - Bushwick Blues\n"
     ]
    }
   ],
   "source": [
    "#'Til Tonight (EDM example)\n",
    "print_similar_tracks_max(id=27)"
   ]
  },
  {
   "cell_type": "code",
   "execution_count": 75,
   "metadata": {},
   "outputs": [
    {
     "name": "stdout",
     "output_type": "stream",
     "text": [
      "Snakehips - All My Friends (feat. Tinashe & Chance the Rapper)\n",
      "Bleachers - Everybody Lost Somebody\n",
      "Kygo - Remind Me to Forget\n",
      "KAYTRANADA - YOU'RE THE ONE\n",
      "Sabrina Claudio vs. - Don't Let Me Down - Sabrina Claudio vs. Devault Remix\n",
      "Louis Futon - Surreal\n",
      "Kanye West - Gone\n",
      "Jai Wolf - Lost (feat. Chelsea Jade)\n",
      "Louis The Child - Free (with Drew Love)\n"
     ]
    }
   ],
   "source": [
    "#65th & Ingleside (hip hop / rap)\n",
    "print_similar_tracks_max(id=342)"
   ]
  },
  {
   "cell_type": "markdown",
   "metadata": {},
   "source": [
    "**Standard Scaling**"
   ]
  },
  {
   "cell_type": "code",
   "execution_count": 58,
   "metadata": {},
   "outputs": [],
   "source": [
    "from sklearn.preprocessing import StandardScaler\n",
    "\n",
    "standard_scale = StandardScaler()\n",
    "standard_x = standard_scale.fit_transform(df_x)\n",
    "\n",
    "nbrs_ss = NearestNeighbors(n_neighbors = 10).fit(standard_x)\n",
    "distance_ss,indices_ss = nbrs_ss.kneighbors(standard_x)\n",
    "\n",
    "def print_similar_tracks_ss(query = None,id = None):\n",
    "    if id!=None:\n",
    "        for i in indices_ss[id][1:]:\n",
    "            print(df.iloc[i]['artist_0'],\"-\",df.iloc[i]['track name'])\n",
    "    if query!=None:\n",
    "        found_id = get_index_from_name(query)\n",
    "        for id in indices_ss[found_id][1:]:\n",
    "            print(df.iloc[id]['artist_0'],\"-\",df.iloc[id]['track name'])"
   ]
  },
  {
   "cell_type": "code",
   "execution_count": 72,
   "metadata": {},
   "outputs": [
    {
     "name": "stdout",
     "output_type": "stream",
     "text": [
      "The Lumineers - Cleopatra - [1.51412871 1.64646448 1.71906408 1.78621344 1.97072972 1.97119908\n",
      " 2.05912926 2.08623735 2.14846963]\n",
      "Twin Shadow - Saturdays (feat. HAIM) - [1.51412871 1.64646448 1.71906408 1.78621344 1.97072972 1.97119908\n",
      " 2.05912926 2.08623735 2.14846963]\n",
      "DEAN - D (Half Moon) - [1.51412871 1.64646448 1.71906408 1.78621344 1.97072972 1.97119908\n",
      " 2.05912926 2.08623735 2.14846963]\n",
      "Fall Out Boy - Wilson (Expensive Mistakes) - [1.51412871 1.64646448 1.71906408 1.78621344 1.97072972 1.97119908\n",
      " 2.05912926 2.08623735 2.14846963]\n",
      "NOTD - So Close - [1.51412871 1.64646448 1.71906408 1.78621344 1.97072972 1.97119908\n",
      " 2.05912926 2.08623735 2.14846963]\n",
      "Aries - CAROUSEL - [1.51412871 1.64646448 1.71906408 1.78621344 1.97072972 1.97119908\n",
      " 2.05912926 2.08623735 2.14846963]\n",
      "Lola Marsh - You're Mine - [1.51412871 1.64646448 1.71906408 1.78621344 1.97072972 1.97119908\n",
      " 2.05912926 2.08623735 2.14846963]\n",
      "Mr. Probz - Nothing Really Matters - Afrojack Remix - [1.51412871 1.64646448 1.71906408 1.78621344 1.97072972 1.97119908\n",
      " 2.05912926 2.08623735 2.14846963]\n",
      "Gryffin - Winnebago (feat. Quinn XCII & Daniel Wilson) - [1.51412871 1.64646448 1.71906408 1.78621344 1.97072972 1.97119908\n",
      " 2.05912926 2.08623735 2.14846963]\n"
     ]
    }
   ],
   "source": [
    "#Rock Bottom (Generic Pop)\n",
    "print_similar_tracks_ss(id=580)"
   ]
  },
  {
   "cell_type": "code",
   "execution_count": 56,
   "metadata": {},
   "outputs": [
    {
     "name": "stdout",
     "output_type": "stream",
     "text": [
      "CHVRCHES - Miracle - The Juan Maclean Remix - [0.         2.89707535 3.22424012 3.54855894 3.55582333 3.92413717\n",
      " 4.04818052 4.04850083 4.12758351 4.1529791 ]\n",
      "Pierce Fulton - Kuaga - Original Mix - [0.         2.89707535 3.22424012 3.54855894 3.55582333 3.92413717\n",
      " 4.04818052 4.04850083 4.12758351 4.1529791 ]\n",
      "Above & Beyond Group Therapy - It's Yours (Flashback) [ABGT341] - [0.         2.89707535 3.22424012 3.54855894 3.55582333 3.92413717\n",
      " 4.04818052 4.04850083 4.12758351 4.1529791 ]\n",
      "Lola Marsh - You're Mine - [0.         2.89707535 3.22424012 3.54855894 3.55582333 3.92413717\n",
      " 4.04818052 4.04850083 4.12758351 4.1529791 ]\n",
      "courtship. - Stop for Nothing - [0.         2.89707535 3.22424012 3.54855894 3.55582333 3.92413717\n",
      " 4.04818052 4.04850083 4.12758351 4.1529791 ]\n",
      "ODESZA - Falls - The Knocks Get Up Mix - [0.         2.89707535 3.22424012 3.54855894 3.55582333 3.92413717\n",
      " 4.04818052 4.04850083 4.12758351 4.1529791 ]\n",
      "Steve Aoki - Back 2 U (feat. WALK THE MOON) - [0.         2.89707535 3.22424012 3.54855894 3.55582333 3.92413717\n",
      " 4.04818052 4.04850083 4.12758351 4.1529791 ]\n",
      "RAC - Let Go - [0.         2.89707535 3.22424012 3.54855894 3.55582333 3.92413717\n",
      " 4.04818052 4.04850083 4.12758351 4.1529791 ]\n",
      "Mat Zo - Lust - [0.         2.89707535 3.22424012 3.54855894 3.55582333 3.92413717\n",
      " 4.04818052 4.04850083 4.12758351 4.1529791 ]\n"
     ]
    }
   ],
   "source": [
    "#'Til Tonight (EDM)\n",
    "print_similar_tracks_ss(id=27)"
   ]
  },
  {
   "cell_type": "code",
   "execution_count": 79,
   "metadata": {},
   "outputs": [
    {
     "name": "stdout",
     "output_type": "stream",
     "text": [
      "KAYTRANADA - YOU'RE THE ONE - [2.43937898 2.53217701 2.64325184 2.82378817 2.87486127 3.37124033\n",
      " 3.45750885 3.48182518 3.50669552]\n",
      "Kanye West - Gone - [2.43937898 2.53217701 2.64325184 2.82378817 2.87486127 3.37124033\n",
      " 3.45750885 3.48182518 3.50669552]\n",
      "Various Artists - Quicksand - [2.43937898 2.53217701 2.64325184 2.82378817 2.87486127 3.37124033\n",
      " 3.45750885 3.48182518 3.50669552]\n",
      "Snakehips - All My Friends (feat. Tinashe & Chance the Rapper) - [2.43937898 2.53217701 2.64325184 2.82378817 2.87486127 3.37124033\n",
      " 3.45750885 3.48182518 3.50669552]\n",
      "Kendrick Lamar - X (with 2 Chainz & Saudi) - [2.43937898 2.53217701 2.64325184 2.82378817 2.87486127 3.37124033\n",
      " 3.45750885 3.48182518 3.50669552]\n",
      "Kygo - Remind Me to Forget - [2.43937898 2.53217701 2.64325184 2.82378817 2.87486127 3.37124033\n",
      " 3.45750885 3.48182518 3.50669552]\n",
      "Louis The Child - Better Not (feat. Wafia) - Hotel Garuda Remix - [2.43937898 2.53217701 2.64325184 2.82378817 2.87486127 3.37124033\n",
      " 3.45750885 3.48182518 3.50669552]\n",
      "Sabrina Claudio vs. - Don't Let Me Down - Sabrina Claudio vs. Devault Remix - [2.43937898 2.53217701 2.64325184 2.82378817 2.87486127 3.37124033\n",
      " 3.45750885 3.48182518 3.50669552]\n",
      "SBTRKT - Wildfire - [2.43937898 2.53217701 2.64325184 2.82378817 2.87486127 3.37124033\n",
      " 3.45750885 3.48182518 3.50669552]\n"
     ]
    }
   ],
   "source": [
    "#65th & Ingleside (hip hop / rap)\n",
    "print_similar_tracks_ss(id=342)"
   ]
  },
  {
   "cell_type": "markdown",
   "metadata": {},
   "source": [
    "**Personally, I liked the standard scaling recommendations best both in terms of the track choices and ordering (distance from near to far from the initial track). In terms of overall quality in making sensible recommendations I believe the standard scaler provides the best results**"
   ]
  },
  {
   "cell_type": "markdown",
   "metadata": {},
   "source": [
    "**I will also attempt different neighboring algorithms as a final means to tune the recommendations. The current algorithm is the default which means either of the KD Tree or the Ball Tree algorithms may produce similar results.**"
   ]
  },
  {
   "cell_type": "code",
   "execution_count": 94,
   "metadata": {},
   "outputs": [],
   "source": [
    "nbrs_bss = NearestNeighbors(n_neighbors = 10,algorithm='brute').fit(standard_x)\n",
    "distance_bss,indices_bss = nbrs_bss.kneighbors(standard_x)\n",
    "\n",
    "def print_similar_tracks_bss(query = None,id = None):\n",
    "    if id!=None:\n",
    "        for i in indices_bss[id][1:]:\n",
    "            print(df.iloc[i]['artist_0'],\"-\",df.iloc[i]['track name'])\n",
    "    if query!=None:\n",
    "        found_id = get_index_from_name(query)\n",
    "        for id in indices_bss[found_id][1:]:\n",
    "            print(df.iloc[id]['artist_0'],\"-\",df.iloc[id]['track name'])"
   ]
  },
  {
   "cell_type": "code",
   "execution_count": 95,
   "metadata": {},
   "outputs": [
    {
     "name": "stdout",
     "output_type": "stream",
     "text": [
      "CHVRCHES - Miracle - The Juan Maclean Remix\n",
      "Pierce Fulton - Kuaga - Original Mix\n",
      "Above & Beyond Group Therapy - It's Yours (Flashback) [ABGT341]\n",
      "Lola Marsh - You're Mine\n",
      "courtship. - Stop for Nothing\n",
      "ODESZA - Falls - The Knocks Get Up Mix\n",
      "Steve Aoki - Back 2 U (feat. WALK THE MOON)\n",
      "RAC - Let Go\n",
      "Mat Zo - Lust\n"
     ]
    }
   ],
   "source": [
    "#Rock Bottom (Generic Pop)\n",
    "print_similar_tracks_bss(id=27)"
   ]
  },
  {
   "cell_type": "markdown",
   "metadata": {},
   "source": [
    "**It appears that this is indeed the same as the previous results thus the best algorithm determined by the library was ball tree**"
   ]
  },
  {
   "cell_type": "code",
   "execution_count": 89,
   "metadata": {},
   "outputs": [],
   "source": [
    "nbrs_kss = NearestNeighbors(n_neighbors = 10,algorithm='kd_tree').fit(standard_x)\n",
    "distance_kss,indices_kss = nbrs_kss.kneighbors(standard_x)\n",
    "\n",
    "def print_similar_tracks_kss(query = None,id = None):\n",
    "    if id!=None:\n",
    "        for i in indices_kss[id][1:]:\n",
    "            print(df.iloc[i]['artist_0'],\"-\",df.iloc[i]['track name'])\n",
    "    if query!=None:\n",
    "        found_id = get_index_from_name(query)\n",
    "        for id in indices_kss[found_id][1:]:\n",
    "            print(df.iloc[id]['artist_0'],\"-\",df.iloc[id]['track name'])"
   ]
  },
  {
   "cell_type": "code",
   "execution_count": 92,
   "metadata": {},
   "outputs": [
    {
     "name": "stdout",
     "output_type": "stream",
     "text": [
      "CHVRCHES - Miracle - The Juan Maclean Remix\n",
      "Pierce Fulton - Kuaga - Original Mix\n",
      "Above & Beyond Group Therapy - It's Yours (Flashback) [ABGT341]\n",
      "Lola Marsh - You're Mine\n",
      "courtship. - Stop for Nothing\n",
      "ODESZA - Falls - The Knocks Get Up Mix\n",
      "Steve Aoki - Back 2 U (feat. WALK THE MOON)\n",
      "RAC - Let Go\n",
      "Mat Zo - Lust\n"
     ]
    }
   ],
   "source": [
    "#Rock Bottom (Generic Pop)\n",
    "print_similar_tracks_kss(id=27)"
   ]
  },
  {
   "cell_type": "markdown",
   "metadata": {},
   "source": [
    "**Results are exactly the same thus choice of algorithms appear to be irrelevant**"
   ]
  },
  {
   "cell_type": "code",
   "execution_count": null,
   "metadata": {},
   "outputs": [],
   "source": []
  }
 ],
 "metadata": {
  "kernelspec": {
   "display_name": "Python 3",
   "language": "python",
   "name": "python3"
  },
  "language_info": {
   "codemirror_mode": {
    "name": "ipython",
    "version": 3
   },
   "file_extension": ".py",
   "mimetype": "text/x-python",
   "name": "python",
   "nbconvert_exporter": "python",
   "pygments_lexer": "ipython3",
   "version": "3.7.7"
  }
 },
 "nbformat": 4,
 "nbformat_minor": 4
}
